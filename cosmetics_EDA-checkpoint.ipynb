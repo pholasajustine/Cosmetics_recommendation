{
 "cells": [
  {
   "cell_type": "markdown",
   "metadata": {},
   "source": [
    "## 1. Introduction"
   ]
  },
  {
   "cell_type": "markdown",
   "metadata": {},
   "source": [
    "#### Libraries"
   ]
  },
  {
   "cell_type": "code",
   "execution_count": 3,
   "metadata": {},
   "outputs": [],
   "source": [
    "import numpy as np\n",
    "import pandas as pd\n",
    "import scipy.stats as st\n",
    "import statsmodels as sm\n",
    "import matplotlib\n",
    "import matplotlib.pyplot as plt\n",
    "import seaborn as sns"
   ]
  },
  {
   "cell_type": "markdown",
   "metadata": {},
   "source": [
    "#### Read the toxic_beauty_ingredients file"
   ]
  },
  {
   "cell_type": "code",
   "execution_count": 5,
   "metadata": {
    "scrolled": true
   },
   "outputs": [],
   "source": [
    "toxic_beauty_ingredients = pd.read_csv('C:/Users/amandine.gauberville/dataV2-labs/module-3/mini-project-ML/toxic beauty ingredients.csv', sep=\";\", encoding='latin1')\n",
    "#The list of ingredients comes out as the name of the column, we will save it in a list\n",
    "toxic_ingredients_list = str(toxic_beauty_ingredients.columns[0]).split(\";\")"
   ]
  },
  {
   "cell_type": "markdown",
   "metadata": {},
   "source": [
    "Some strings begin with space, let's use rstrip() to remove them."
   ]
  },
  {
   "cell_type": "code",
   "execution_count": 6,
   "metadata": {},
   "outputs": [],
   "source": [
    "toxic_ingredients_list = [string.rstrip() for string in toxic_ingredients_list]"
   ]
  },
  {
   "cell_type": "markdown",
   "metadata": {},
   "source": [
    "The last string in the list is empty, we'll remove it."
   ]
  },
  {
   "cell_type": "code",
   "execution_count": 7,
   "metadata": {},
   "outputs": [],
   "source": [
    "toxic_ingredients_list.remove('')"
   ]
  },
  {
   "cell_type": "markdown",
   "metadata": {},
   "source": [
    "#### Read the cosmetic file containing our dataset"
   ]
  },
  {
   "cell_type": "code",
   "execution_count": 8,
   "metadata": {},
   "outputs": [],
   "source": [
    "data = pd.read_csv('C:/Users/amandine.gauberville/dataV2-labs/module-3/mini-project-ML/cosmetics-final.csv', sep=\";\")"
   ]
  },
  {
   "cell_type": "markdown",
   "metadata": {},
   "source": [
    "#### Let's take a look at our dataframe "
   ]
  },
  {
   "cell_type": "code",
   "execution_count": 9,
   "metadata": {},
   "outputs": [
    {
     "data": {
      "text/html": [
       "<div>\n",
       "<style scoped>\n",
       "    .dataframe tbody tr th:only-of-type {\n",
       "        vertical-align: middle;\n",
       "    }\n",
       "\n",
       "    .dataframe tbody tr th {\n",
       "        vertical-align: top;\n",
       "    }\n",
       "\n",
       "    .dataframe thead th {\n",
       "        text-align: right;\n",
       "    }\n",
       "</style>\n",
       "<table border=\"1\" class=\"dataframe\">\n",
       "  <thead>\n",
       "    <tr style=\"text-align: right;\">\n",
       "      <th></th>\n",
       "      <th>Label</th>\n",
       "      <th>Brand</th>\n",
       "      <th>Name</th>\n",
       "      <th>Price</th>\n",
       "      <th>Rank</th>\n",
       "      <th>Ingredients</th>\n",
       "      <th>Combination</th>\n",
       "      <th>Dry</th>\n",
       "      <th>Normal</th>\n",
       "      <th>Oily</th>\n",
       "      <th>Sensitive</th>\n",
       "    </tr>\n",
       "  </thead>\n",
       "  <tbody>\n",
       "    <tr>\n",
       "      <th>0</th>\n",
       "      <td>Moisturizer</td>\n",
       "      <td>LA MER</td>\n",
       "      <td>Crème de la Mer</td>\n",
       "      <td>175</td>\n",
       "      <td>4.1</td>\n",
       "      <td>Algae (Seaweed) Extract, Mineral Oil, Petrolat...</td>\n",
       "      <td>1</td>\n",
       "      <td>1</td>\n",
       "      <td>1</td>\n",
       "      <td>1</td>\n",
       "      <td>1</td>\n",
       "    </tr>\n",
       "    <tr>\n",
       "      <th>1</th>\n",
       "      <td>Moisturizer</td>\n",
       "      <td>SK-II</td>\n",
       "      <td>Facial Treatment Essence</td>\n",
       "      <td>179</td>\n",
       "      <td>4.1</td>\n",
       "      <td>Galactomyces Ferment Filtrate (Pitera), Butyle...</td>\n",
       "      <td>1</td>\n",
       "      <td>1</td>\n",
       "      <td>1</td>\n",
       "      <td>1</td>\n",
       "      <td>1</td>\n",
       "    </tr>\n",
       "    <tr>\n",
       "      <th>2</th>\n",
       "      <td>Moisturizer</td>\n",
       "      <td>DRUNK ELEPHANT</td>\n",
       "      <td>Protini™ Polypeptide Cream</td>\n",
       "      <td>68</td>\n",
       "      <td>4.4</td>\n",
       "      <td>Water, Dicaprylyl Carbonate, Glycerin, Ceteary...</td>\n",
       "      <td>1</td>\n",
       "      <td>1</td>\n",
       "      <td>1</td>\n",
       "      <td>1</td>\n",
       "      <td>0</td>\n",
       "    </tr>\n",
       "    <tr>\n",
       "      <th>3</th>\n",
       "      <td>Moisturizer</td>\n",
       "      <td>LA MER</td>\n",
       "      <td>The Moisturizing Soft Cream</td>\n",
       "      <td>175</td>\n",
       "      <td>3.8</td>\n",
       "      <td>Algae (Seaweed) Extract, Cyclopentasiloxane, P...</td>\n",
       "      <td>1</td>\n",
       "      <td>1</td>\n",
       "      <td>1</td>\n",
       "      <td>1</td>\n",
       "      <td>1</td>\n",
       "    </tr>\n",
       "    <tr>\n",
       "      <th>4</th>\n",
       "      <td>Moisturizer</td>\n",
       "      <td>IT COSMETICS</td>\n",
       "      <td>Your Skin But Better™ CC+™ Cream with SPF 50+</td>\n",
       "      <td>38</td>\n",
       "      <td>4.1</td>\n",
       "      <td>Water, Snail Secretion Filtrate, Phenyl Trimet...</td>\n",
       "      <td>1</td>\n",
       "      <td>1</td>\n",
       "      <td>1</td>\n",
       "      <td>1</td>\n",
       "      <td>1</td>\n",
       "    </tr>\n",
       "  </tbody>\n",
       "</table>\n",
       "</div>"
      ],
      "text/plain": [
       "         Label           Brand                                           Name  \\\n",
       "0  Moisturizer          LA MER                                Crème de la Mer   \n",
       "1  Moisturizer           SK-II                       Facial Treatment Essence   \n",
       "2  Moisturizer  DRUNK ELEPHANT                     Protini™ Polypeptide Cream   \n",
       "3  Moisturizer          LA MER                    The Moisturizing Soft Cream   \n",
       "4  Moisturizer    IT COSMETICS  Your Skin But Better™ CC+™ Cream with SPF 50+   \n",
       "\n",
       "   Price  Rank                                        Ingredients  \\\n",
       "0    175   4.1  Algae (Seaweed) Extract, Mineral Oil, Petrolat...   \n",
       "1    179   4.1  Galactomyces Ferment Filtrate (Pitera), Butyle...   \n",
       "2     68   4.4  Water, Dicaprylyl Carbonate, Glycerin, Ceteary...   \n",
       "3    175   3.8  Algae (Seaweed) Extract, Cyclopentasiloxane, P...   \n",
       "4     38   4.1  Water, Snail Secretion Filtrate, Phenyl Trimet...   \n",
       "\n",
       "   Combination  Dry  Normal  Oily  Sensitive  \n",
       "0            1    1       1     1          1  \n",
       "1            1    1       1     1          1  \n",
       "2            1    1       1     1          0  \n",
       "3            1    1       1     1          1  \n",
       "4            1    1       1     1          1  "
      ]
     },
     "execution_count": 9,
     "metadata": {},
     "output_type": "execute_result"
    }
   ],
   "source": [
    "data.head()"
   ]
  },
  {
   "cell_type": "code",
   "execution_count": 7,
   "metadata": {},
   "outputs": [
    {
     "name": "stdout",
     "output_type": "stream",
     "text": [
      "<class 'pandas.core.frame.DataFrame'>\n",
      "RangeIndex: 1452 entries, 0 to 1451\n",
      "Data columns (total 11 columns):\n",
      " #   Column       Non-Null Count  Dtype  \n",
      "---  ------       --------------  -----  \n",
      " 0   Label        1452 non-null   object \n",
      " 1   Brand        1452 non-null   object \n",
      " 2   Name         1452 non-null   object \n",
      " 3   Price        1452 non-null   int64  \n",
      " 4   Rank         1452 non-null   float64\n",
      " 5   Ingredients  1452 non-null   object \n",
      " 6   Combination  1452 non-null   int64  \n",
      " 7   Dry          1452 non-null   int64  \n",
      " 8   Normal       1452 non-null   int64  \n",
      " 9   Oily         1452 non-null   int64  \n",
      " 10  Sensitive    1452 non-null   int64  \n",
      "dtypes: float64(1), int64(6), object(4)\n",
      "memory usage: 124.9+ KB\n"
     ]
    }
   ],
   "source": [
    "data.info()"
   ]
  },
  {
   "cell_type": "markdown",
   "metadata": {},
   "source": [
    "#### Let's combine the toxic_ingredients_list with the dataframe "
   ]
  },
  {
   "cell_type": "code",
   "execution_count": 10,
   "metadata": {},
   "outputs": [],
   "source": [
    "#We're going to define a function which will return the number of harmful substences.\n",
    "def toxic(ingredients):\n",
    "    #creating a list with the ingredients of the product\n",
    "    ingredients_list = str(ingredients).split(\", \")\n",
    "    #iniating the number of harmful substances to be counted\n",
    "    harmful_substances = 0\n",
    "    #creating a list with the harmful substances (which we won't return, but can be if we need it in the future)\n",
    "    list_harm=[]\n",
    "    for ingredient in ingredients_list:\n",
    "        #All susbtances beginning with 'PEG-' are harmful\n",
    "        if ingredient[:4] == 'PEG-':\n",
    "            harmful_substances += 1\n",
    "            list_harm.append(ingredient)\n",
    "        elif ingredient in toxic_ingredients_list:\n",
    "            harmful_substances += 1\n",
    "            list_harm.append(ingredient)\n",
    "    return harmful_substances"
   ]
  },
  {
   "cell_type": "code",
   "execution_count": 11,
   "metadata": {},
   "outputs": [],
   "source": [
    "#Creating the column with the number of harmful susbtences per product\n",
    "data['Harmful_Substances'] = data.Ingredients.apply(toxic)"
   ]
  },
  {
   "cell_type": "code",
   "execution_count": 12,
   "metadata": {},
   "outputs": [
    {
     "data": {
      "text/plain": [
       "0       9\n",
       "1       0\n",
       "2       0\n",
       "3       7\n",
       "4       1\n",
       "       ..\n",
       "1447    1\n",
       "1448    1\n",
       "1449    0\n",
       "1450    2\n",
       "1451    3\n",
       "Name: Harmful_Substances, Length: 1452, dtype: int64"
      ]
     },
     "execution_count": 12,
     "metadata": {},
     "output_type": "execute_result"
    }
   ],
   "source": [
    "data['Harmful_Substances']"
   ]
  },
  {
   "cell_type": "code",
   "execution_count": 14,
   "metadata": {},
   "outputs": [
    {
     "data": {
      "text/html": [
       "<div>\n",
       "<style scoped>\n",
       "    .dataframe tbody tr th:only-of-type {\n",
       "        vertical-align: middle;\n",
       "    }\n",
       "\n",
       "    .dataframe tbody tr th {\n",
       "        vertical-align: top;\n",
       "    }\n",
       "\n",
       "    .dataframe thead th {\n",
       "        text-align: right;\n",
       "    }\n",
       "</style>\n",
       "<table border=\"1\" class=\"dataframe\">\n",
       "  <thead>\n",
       "    <tr style=\"text-align: right;\">\n",
       "      <th></th>\n",
       "      <th>Label</th>\n",
       "      <th>Brand</th>\n",
       "      <th>Name</th>\n",
       "      <th>Price</th>\n",
       "      <th>Rank</th>\n",
       "      <th>Ingredients</th>\n",
       "      <th>Combination</th>\n",
       "      <th>Dry</th>\n",
       "      <th>Normal</th>\n",
       "      <th>Oily</th>\n",
       "      <th>Sensitive</th>\n",
       "      <th>Harmful_Substances</th>\n",
       "    </tr>\n",
       "  </thead>\n",
       "  <tbody>\n",
       "    <tr>\n",
       "      <th>0</th>\n",
       "      <td>Moisturizer</td>\n",
       "      <td>LA MER</td>\n",
       "      <td>Crème de la Mer</td>\n",
       "      <td>175</td>\n",
       "      <td>4.1</td>\n",
       "      <td>Algae (Seaweed) Extract, Mineral Oil, Petrolat...</td>\n",
       "      <td>1</td>\n",
       "      <td>1</td>\n",
       "      <td>1</td>\n",
       "      <td>1</td>\n",
       "      <td>1</td>\n",
       "      <td>9</td>\n",
       "    </tr>\n",
       "    <tr>\n",
       "      <th>1</th>\n",
       "      <td>Moisturizer</td>\n",
       "      <td>SK-II</td>\n",
       "      <td>Facial Treatment Essence</td>\n",
       "      <td>179</td>\n",
       "      <td>4.1</td>\n",
       "      <td>Galactomyces Ferment Filtrate (Pitera), Butyle...</td>\n",
       "      <td>1</td>\n",
       "      <td>1</td>\n",
       "      <td>1</td>\n",
       "      <td>1</td>\n",
       "      <td>1</td>\n",
       "      <td>0</td>\n",
       "    </tr>\n",
       "    <tr>\n",
       "      <th>2</th>\n",
       "      <td>Moisturizer</td>\n",
       "      <td>DRUNK ELEPHANT</td>\n",
       "      <td>Protini™ Polypeptide Cream</td>\n",
       "      <td>68</td>\n",
       "      <td>4.4</td>\n",
       "      <td>Water, Dicaprylyl Carbonate, Glycerin, Ceteary...</td>\n",
       "      <td>1</td>\n",
       "      <td>1</td>\n",
       "      <td>1</td>\n",
       "      <td>1</td>\n",
       "      <td>0</td>\n",
       "      <td>0</td>\n",
       "    </tr>\n",
       "    <tr>\n",
       "      <th>3</th>\n",
       "      <td>Moisturizer</td>\n",
       "      <td>LA MER</td>\n",
       "      <td>The Moisturizing Soft Cream</td>\n",
       "      <td>175</td>\n",
       "      <td>3.8</td>\n",
       "      <td>Algae (Seaweed) Extract, Cyclopentasiloxane, P...</td>\n",
       "      <td>1</td>\n",
       "      <td>1</td>\n",
       "      <td>1</td>\n",
       "      <td>1</td>\n",
       "      <td>1</td>\n",
       "      <td>7</td>\n",
       "    </tr>\n",
       "    <tr>\n",
       "      <th>4</th>\n",
       "      <td>Moisturizer</td>\n",
       "      <td>IT COSMETICS</td>\n",
       "      <td>Your Skin But Better™ CC+™ Cream with SPF 50+</td>\n",
       "      <td>38</td>\n",
       "      <td>4.1</td>\n",
       "      <td>Water, Snail Secretion Filtrate, Phenyl Trimet...</td>\n",
       "      <td>1</td>\n",
       "      <td>1</td>\n",
       "      <td>1</td>\n",
       "      <td>1</td>\n",
       "      <td>1</td>\n",
       "      <td>1</td>\n",
       "    </tr>\n",
       "    <tr>\n",
       "      <th>5</th>\n",
       "      <td>Moisturizer</td>\n",
       "      <td>TATCHA</td>\n",
       "      <td>The Water Cream</td>\n",
       "      <td>68</td>\n",
       "      <td>4.2</td>\n",
       "      <td>Water, Saccharomyces/Camellia Sinensis Leaf/Cl...</td>\n",
       "      <td>1</td>\n",
       "      <td>0</td>\n",
       "      <td>1</td>\n",
       "      <td>1</td>\n",
       "      <td>1</td>\n",
       "      <td>1</td>\n",
       "    </tr>\n",
       "    <tr>\n",
       "      <th>6</th>\n",
       "      <td>Moisturizer</td>\n",
       "      <td>DRUNK ELEPHANT</td>\n",
       "      <td>Lala Retro™ Whipped Cream</td>\n",
       "      <td>60</td>\n",
       "      <td>4.2</td>\n",
       "      <td>Water, Glycerin, Caprylic/ Capric Triglyceride...</td>\n",
       "      <td>1</td>\n",
       "      <td>1</td>\n",
       "      <td>1</td>\n",
       "      <td>1</td>\n",
       "      <td>0</td>\n",
       "      <td>0</td>\n",
       "    </tr>\n",
       "    <tr>\n",
       "      <th>7</th>\n",
       "      <td>Moisturizer</td>\n",
       "      <td>DRUNK ELEPHANT</td>\n",
       "      <td>Virgin Marula Luxury Facial Oil</td>\n",
       "      <td>72</td>\n",
       "      <td>4.4</td>\n",
       "      <td>100% Unrefined Sclerocraya Birrea (Marula) Ker...</td>\n",
       "      <td>1</td>\n",
       "      <td>1</td>\n",
       "      <td>1</td>\n",
       "      <td>1</td>\n",
       "      <td>0</td>\n",
       "      <td>0</td>\n",
       "    </tr>\n",
       "    <tr>\n",
       "      <th>8</th>\n",
       "      <td>Moisturizer</td>\n",
       "      <td>KIEHL'S SINCE 1851</td>\n",
       "      <td>Ultra Facial Cream</td>\n",
       "      <td>29</td>\n",
       "      <td>4.4</td>\n",
       "      <td>Water, Glycerin, Cyclohexasiloxane, Squalane, ...</td>\n",
       "      <td>1</td>\n",
       "      <td>1</td>\n",
       "      <td>1</td>\n",
       "      <td>1</td>\n",
       "      <td>1</td>\n",
       "      <td>0</td>\n",
       "    </tr>\n",
       "    <tr>\n",
       "      <th>9</th>\n",
       "      <td>Moisturizer</td>\n",
       "      <td>LA MER</td>\n",
       "      <td>Little Miss Miracle Limited-Edition Crème de l...</td>\n",
       "      <td>325</td>\n",
       "      <td>5.0</td>\n",
       "      <td>Algae (Seaweed) Extract, Mineral Oil, Petrolat...</td>\n",
       "      <td>0</td>\n",
       "      <td>0</td>\n",
       "      <td>0</td>\n",
       "      <td>0</td>\n",
       "      <td>0</td>\n",
       "      <td>9</td>\n",
       "    </tr>\n",
       "  </tbody>\n",
       "</table>\n",
       "</div>"
      ],
      "text/plain": [
       "         Label               Brand  \\\n",
       "0  Moisturizer              LA MER   \n",
       "1  Moisturizer               SK-II   \n",
       "2  Moisturizer      DRUNK ELEPHANT   \n",
       "3  Moisturizer              LA MER   \n",
       "4  Moisturizer        IT COSMETICS   \n",
       "5  Moisturizer              TATCHA   \n",
       "6  Moisturizer      DRUNK ELEPHANT   \n",
       "7  Moisturizer      DRUNK ELEPHANT   \n",
       "8  Moisturizer  KIEHL'S SINCE 1851   \n",
       "9  Moisturizer              LA MER   \n",
       "\n",
       "                                                Name  Price  Rank  \\\n",
       "0                                    Crème de la Mer    175   4.1   \n",
       "1                           Facial Treatment Essence    179   4.1   \n",
       "2                         Protini™ Polypeptide Cream     68   4.4   \n",
       "3                        The Moisturizing Soft Cream    175   3.8   \n",
       "4      Your Skin But Better™ CC+™ Cream with SPF 50+     38   4.1   \n",
       "5                                    The Water Cream     68   4.2   \n",
       "6                          Lala Retro™ Whipped Cream     60   4.2   \n",
       "7                    Virgin Marula Luxury Facial Oil     72   4.4   \n",
       "8                                 Ultra Facial Cream     29   4.4   \n",
       "9  Little Miss Miracle Limited-Edition Crème de l...    325   5.0   \n",
       "\n",
       "                                         Ingredients  Combination  Dry  \\\n",
       "0  Algae (Seaweed) Extract, Mineral Oil, Petrolat...            1    1   \n",
       "1  Galactomyces Ferment Filtrate (Pitera), Butyle...            1    1   \n",
       "2  Water, Dicaprylyl Carbonate, Glycerin, Ceteary...            1    1   \n",
       "3  Algae (Seaweed) Extract, Cyclopentasiloxane, P...            1    1   \n",
       "4  Water, Snail Secretion Filtrate, Phenyl Trimet...            1    1   \n",
       "5  Water, Saccharomyces/Camellia Sinensis Leaf/Cl...            1    0   \n",
       "6  Water, Glycerin, Caprylic/ Capric Triglyceride...            1    1   \n",
       "7  100% Unrefined Sclerocraya Birrea (Marula) Ker...            1    1   \n",
       "8  Water, Glycerin, Cyclohexasiloxane, Squalane, ...            1    1   \n",
       "9  Algae (Seaweed) Extract, Mineral Oil, Petrolat...            0    0   \n",
       "\n",
       "   Normal  Oily  Sensitive  Harmful_Substances  \n",
       "0       1     1          1                   9  \n",
       "1       1     1          1                   0  \n",
       "2       1     1          0                   0  \n",
       "3       1     1          1                   7  \n",
       "4       1     1          1                   1  \n",
       "5       1     1          1                   1  \n",
       "6       1     1          0                   0  \n",
       "7       1     1          0                   0  \n",
       "8       1     1          1                   0  \n",
       "9       0     0          0                   9  "
      ]
     },
     "execution_count": 14,
     "metadata": {},
     "output_type": "execute_result"
    }
   ],
   "source": [
    "data.head(10)"
   ]
  },
  {
   "cell_type": "markdown",
   "metadata": {},
   "source": [
    "## Evaluer les données catégorielles"
   ]
  },
  {
   "cell_type": "code",
   "execution_count": 15,
   "metadata": {},
   "outputs": [
    {
     "data": {
      "text/plain": [
       "No Info                                                                                                                                                                                                                                                                                                                                                                                                                                                                                                                                                                                                                                                                                                                                                                                                                                                                                                                                                                                    23\n",
       "No info                                                                                                                                                                                                                                                                                                                                                                                                                                                                                                                                                                                                                                                                                                                                                                                                                                                                                                                                                                                     8\n",
       "*Ingredients from organic farming. **Clinical grade essential oils blend.                                                                                                                                                                                                                                                                                                                                                                                                                                                                                                                                                                                                                                                                                                                                                                                                                                                                                                                   5\n",
       "Algae (Seaweed) Extract, Mineral Oil, Petrolatum, Glycerin, Isohexadecane, Microcrystalline Wax, Lanolin Alcohol, Citrus Aurantifolia (Lime) Extract, Sesamum Indicum (Sesame) Seed Oil, Eucalyptus Globulus (Eucalyptus) Leaf Oil, Sesamum Indicum (Sesame) Seed Powder, Medicago Sativa (Alfalfa) Seed Powder, Helianthus Annuus (Sunflower) Seedcake, Prunus Amygdalus Dulcis (Sweet Almond) Seed Meal, Sodium Gluconate, Copper Gluconate, Calcium Gluconate, Magnesium Gluconate, Zinc Gluconate, Magnesium Sulfate, Paraffin, Tocopheryl Succinate, Niacin, Water, Beta-Carotene, Decyl Oleate, Aluminum Distearate, Octyldodecanol, Citric Acid, Cyanocobalamin, Magnesium Stearate, Panthenol, Limonene, Geraniol, Linalool, Hydroxycitronellal, Citronellol, Benzyl Salicylate, Citral, Sodium Benzoate, Alcohol Denat., Fragrance.                                                                                                                                                3\n",
       "Light                                                                                                                                                                                                                                                                                                                                                                                                                                                                                                                                                                                                                                                                                                                                                                                                                                                                                                                                                                                       3\n",
       "                                                                                                                                                                                                                                                                                                                                                                                                                                                                                                                                                                                                                                                                                                                                                                                                                                                                                                                                                                                           ..\n",
       "Water, Cocamidopropyl Betaine, Disodium Cocoamphodipropionate, Sodium Lauroyl Sarcosinate, Sodium Lauryl Sulfoacetate, Propanediol, Sodium Coco PG-Dimonium Chloride Phosphate, Caprylyl Glycol, Polyquaternium-10, Fructosyl Cocoate/Olivate, Sodium Chloride, Glyceryl Laurate, Phenoxyethanol, Sodium Cocoyl/Olivoyl Hydrolyzed Oat/Wheat Protein, Potassium Sorbate, Allantoin, Panthenol, Cocamidopropyl Dimethylamine, Sodium Glycolate, Hexylene Glycol, Citric Acid, Cocoyl Hydroxyethyl Imidazoline, Methyl Alcohol, Lavandula Angustifolia (Lavender) Oil, Algae Extract, Cocos Nucifera (Coconut) Oil, Gardenia Tahitensis Flower Extract, Tocopherol, Phyllanthus Emblica Fruit Extract, Linalool.                                                                                                                                                                                                                                                                              1\n",
       "Water, Glycerin, 3-O-Ethyl Ascorbic Acid, Niacinamide, Glycereth-7 Triacetate, Lactic Acid, SD Alcohol 40-B, Hydroxyethylcellulose, Dimethyl Isosorbide, Ascorbic Acid, Collagen Amino Acids, Superoxide Dismutase, Glycine, Carnitine HCl, Ubiquinone, Hexylresorcinol, Emblica Officinalis Fruit Extract, Hydrolyzed Soy Protein, Tetrahexyldecyl Ascorbate, Isoquercetin, Mandelic Acid, Pueraria Lobata Root Extract, Curcuma Longa (Turmeric) Root Extract, Phytic Acid, Citric Acid, Tetrasodium EDTA, Sodium Citrate, Butylene Glycol, Xanthan Gum, Polysorbate 20, T-Butyl Alcohol, Sodium Hydroxide, Polysorbate 80, Denatonium Benzoate, Benzyl Alcohol, Phenoxyethanol, Sodium Benzoate, Potassium Sorbate, Natural Colorant.                                                                                                                                                                                                                                                    1\n",
       "Water, Glycerin, Dicaprylyl Ether, Butyrospermum Parkii Butter/Shea Butter, Hydroxypropyl Tetrahydropyrantriol, Isononyl Isononanoate, Isopropyl Isostearate, Propylene Glycol, Sodium Tetrahydrojasmonate, Cetyl Alcohol, Dimethicone, Behenyl Alcohol, Dipropylene Glycol, Stearic Acid, Glyceryl Stearate, Palmitic Acid, Phenoxyethanol, Cetearyl Alcohol, Carbomer, Arachidyl Alcohol, Caprylyl Glycol, PEG-100 Stearate, Xanthan Gum, Sodium Hydroxide, Cetearyl Glucoside, Stearyl Alcohol, Hydrolyzed Hyaluronic Acid, Disodium EDTA, Rosmarinus Officinalis Leaf Oil/Rosemary Leaf Oil, Adenosine, Limonene, Pelargonium Graveolens Flower Oil, Lavandula Hybrida Oil, Cucumis Sativus Fruit Extract/Cucumber Fruit Extract, Curcuma Longa Extract/Turmeric Root Extract, Sclareolide, Rosa SPP/Rose Flower Oil, Jasminum Officinale Extract/ Jasmine Extract, Citric Acid.                                                                                                        1\n",
       "Water, Glycerin, Cetyl Ethylhexanoate, Butylene Glycol, Dimethicone, Xylitol, Hydrogenated Polydecene, Methyl Methacrylate Crosspolymer, Peg-60 Glyceryl Isostearate, Alcohol Denat., Stearyl Alcohol, Petrolatum, Glyceryl Stearate, Behenyl Alcohol, Trehalose, Peg-10 Dimethicone, Titanium Dioxide (Ci 77891), Dimethicone Crosspolymer, Silica, Hydrogenated Palm Oil, Phenoxyethanol, Mica, Elaeis Guineensis (Palm) Kernel Oil, Elaeis Guineensis (Palm) Oil, Methylparaben, Alcohol, Fragrance (Parfum), Betaine, Sodium Citrate, Glycyl Glycine, Tin Oxide, Disodium Edta, Acrylates/C10-30 Alkyl Acrylate Crosspolymer, Limonene, Citric Acid, Hexyl Cinnamal, Butylphenyl Methylpropional, Benzyl Benzoate, Linalool, Sodium Polyacrylate, Paeonia Albiflora Root Extract, Hamamelis Virginiana (Witch Hazel) Leaf Extract, Citronellol, Lamium Album Flower Extract, Citrus Junos Seed Extract, Potassium Hydroxide, Tocopherol, Zingiber Aromaticus Extract, Benzoic Acid.     1\n",
       "Almond Oil, Jojoba Oil, Macadamia Oil, Brazil Nut Oil, Evening Primrose Oil, Buriti Oil, Arnica Oil, Rosehip Oil, Calendula Oil, Kiwi Fruit Seed Oil, Tocopherol (Vitamin E), Totarol, Rosemary Leaf Extract, Natural Fragrance (Orange Blossom & Rose Gardenia.)                                                                                                                                                                                                                                                                                                                                                                                                                                                                                                                                                                                                                                                                                                                           1\n",
       "Name: Ingredients, Length: 1381, dtype: int64"
      ]
     },
     "execution_count": 15,
     "metadata": {},
     "output_type": "execute_result"
    }
   ],
   "source": [
    "data.Ingredients.value_counts()"
   ]
  },
  {
   "cell_type": "markdown",
   "metadata": {},
   "source": [
    "### Supprimer les produits sans ingrédient \"No Info\""
   ]
  },
  {
   "cell_type": "code",
   "execution_count": 19,
   "metadata": {},
   "outputs": [],
   "source": [
    "list_index_NoInfo = data[data.Ingredients == \"No Info\"].index"
   ]
  },
  {
   "cell_type": "code",
   "execution_count": 20,
   "metadata": {},
   "outputs": [],
   "source": [
    "list_index_Noinfo = data[data.Ingredients == \"No info\"].index"
   ]
  },
  {
   "cell_type": "code",
   "execution_count": 22,
   "metadata": {},
   "outputs": [],
   "source": [
    "# Suppression de 31 produits sans ingrédient\n",
    "data.drop(list_index_NoInfo, axis=0, inplace=True)\n",
    "data.drop(list_index_Noinfo, axis=0, inplace=True)"
   ]
  },
  {
   "cell_type": "code",
   "execution_count": 23,
   "metadata": {},
   "outputs": [
    {
     "name": "stdout",
     "output_type": "stream",
     "text": [
      "<class 'pandas.core.frame.DataFrame'>\n",
      "Int64Index: 1421 entries, 0 to 1451\n",
      "Data columns (total 12 columns):\n",
      " #   Column              Non-Null Count  Dtype  \n",
      "---  ------              --------------  -----  \n",
      " 0   Label               1421 non-null   object \n",
      " 1   Brand               1421 non-null   object \n",
      " 2   Name                1421 non-null   object \n",
      " 3   Price               1421 non-null   int64  \n",
      " 4   Rank                1421 non-null   float64\n",
      " 5   Ingredients         1421 non-null   object \n",
      " 6   Combination         1421 non-null   int64  \n",
      " 7   Dry                 1421 non-null   int64  \n",
      " 8   Normal              1421 non-null   int64  \n",
      " 9   Oily                1421 non-null   int64  \n",
      " 10  Sensitive           1421 non-null   int64  \n",
      " 11  Harmful_Substances  1421 non-null   int64  \n",
      "dtypes: float64(1), int64(7), object(4)\n",
      "memory usage: 144.3+ KB\n"
     ]
    }
   ],
   "source": [
    "data.info()"
   ]
  }
 ],
 "metadata": {
  "kernelspec": {
   "display_name": "Python 3",
   "language": "python",
   "name": "python3"
  },
  "language_info": {
   "codemirror_mode": {
    "name": "ipython",
    "version": 3
   },
   "file_extension": ".py",
   "mimetype": "text/x-python",
   "name": "python",
   "nbconvert_exporter": "python",
   "pygments_lexer": "ipython3",
   "version": "3.8.5"
  }
 },
 "nbformat": 4,
 "nbformat_minor": 4
}
