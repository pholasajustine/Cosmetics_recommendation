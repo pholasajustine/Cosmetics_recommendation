{
 "cells": [
  {
   "cell_type": "markdown",
   "metadata": {},
   "source": [
    "## 1. Introduction"
   ]
  },
  {
   "cell_type": "markdown",
   "metadata": {},
   "source": [
    "#### Libraries"
   ]
  },
  {
   "cell_type": "code",
   "execution_count": 1,
   "metadata": {},
   "outputs": [
    {
     "name": "stderr",
     "output_type": "stream",
     "text": [
      "[nltk_data] Downloading package punkt to\n",
      "[nltk_data]     C:\\Users\\phola\\AppData\\Roaming\\nltk_data...\n",
      "[nltk_data]   Package punkt is already up-to-date!\n",
      "[nltk_data] Downloading package wordnet to\n",
      "[nltk_data]     C:\\Users\\phola\\AppData\\Roaming\\nltk_data...\n",
      "[nltk_data]   Package wordnet is already up-to-date!\n"
     ]
    }
   ],
   "source": [
    "import numpy as np\n",
    "import pandas as pd\n",
    "import scipy.stats as st\n",
    "import statsmodels as sm\n",
    "import matplotlib\n",
    "import matplotlib.pyplot as plt\n",
    "import seaborn as sns\n",
    "import nltk\n",
    "nltk.download('punkt')\n",
    "from nltk.stem import PorterStemmer\n",
    "from nltk.stem import WordNetLemmatizer\n",
    "nltk.download('wordnet')\n",
    "from nltk.corpus import stopwords\n",
    "import re\n",
    "from nltk import word_tokenize"
   ]
  },
  {
   "cell_type": "markdown",
   "metadata": {},
   "source": [
    "#### Read the toxic_beauty_ingredients file"
   ]
  },
  {
   "cell_type": "code",
   "execution_count": 2,
   "metadata": {
    "scrolled": true
   },
   "outputs": [],
   "source": [
    "toxic_beauty_ingredients = pd.read_csv('./Data/toxic beauty ingredients.csv', sep=\";\", encoding='latin1')\n",
    "#The list of ingredients comes out as the name of the column, we will save it in a list\n",
    "toxic_ingredients_list = str(toxic_beauty_ingredients.columns[0]).split(\";\")"
   ]
  },
  {
   "cell_type": "markdown",
   "metadata": {},
   "source": [
    "Some strings begin with space, let's use rstrip() to remove them and put every string in lowercase."
   ]
  },
  {
   "cell_type": "code",
   "execution_count": 3,
   "metadata": {},
   "outputs": [],
   "source": [
    "toxic_ingredients_list = [string.rstrip().lower() for string in toxic_ingredients_list]"
   ]
  },
  {
   "cell_type": "markdown",
   "metadata": {},
   "source": [
    "The last string in the list is empty, we'll remove it."
   ]
  },
  {
   "cell_type": "code",
   "execution_count": 4,
   "metadata": {},
   "outputs": [],
   "source": [
    "toxic_ingredients_list.remove('')"
   ]
  },
  {
   "cell_type": "markdown",
   "metadata": {},
   "source": [
    "#### Read the cosmetic file containing our dataset"
   ]
  },
  {
   "cell_type": "code",
   "execution_count": 5,
   "metadata": {},
   "outputs": [],
   "source": [
    "data = pd.read_csv('./Data/cosmetics-final.csv', sep=\";\")"
   ]
  },
  {
   "cell_type": "markdown",
   "metadata": {},
   "source": [
    "#### Let's take a look at our dataframe "
   ]
  },
  {
   "cell_type": "code",
   "execution_count": 6,
   "metadata": {},
   "outputs": [
    {
     "data": {
      "text/html": [
       "<div>\n",
       "<style scoped>\n",
       "    .dataframe tbody tr th:only-of-type {\n",
       "        vertical-align: middle;\n",
       "    }\n",
       "\n",
       "    .dataframe tbody tr th {\n",
       "        vertical-align: top;\n",
       "    }\n",
       "\n",
       "    .dataframe thead th {\n",
       "        text-align: right;\n",
       "    }\n",
       "</style>\n",
       "<table border=\"1\" class=\"dataframe\">\n",
       "  <thead>\n",
       "    <tr style=\"text-align: right;\">\n",
       "      <th></th>\n",
       "      <th>Label</th>\n",
       "      <th>Brand</th>\n",
       "      <th>Name</th>\n",
       "      <th>Price</th>\n",
       "      <th>Rank</th>\n",
       "      <th>Ingredients</th>\n",
       "      <th>Combination</th>\n",
       "      <th>Dry</th>\n",
       "      <th>Normal</th>\n",
       "      <th>Oily</th>\n",
       "      <th>Sensitive</th>\n",
       "    </tr>\n",
       "  </thead>\n",
       "  <tbody>\n",
       "    <tr>\n",
       "      <th>0</th>\n",
       "      <td>Moisturizer</td>\n",
       "      <td>LA MER</td>\n",
       "      <td>Crème de la Mer</td>\n",
       "      <td>175</td>\n",
       "      <td>4.1</td>\n",
       "      <td>Algae (Seaweed) Extract, Mineral Oil, Petrolat...</td>\n",
       "      <td>1</td>\n",
       "      <td>1</td>\n",
       "      <td>1</td>\n",
       "      <td>1</td>\n",
       "      <td>1</td>\n",
       "    </tr>\n",
       "    <tr>\n",
       "      <th>1</th>\n",
       "      <td>Moisturizer</td>\n",
       "      <td>SK-II</td>\n",
       "      <td>Facial Treatment Essence</td>\n",
       "      <td>179</td>\n",
       "      <td>4.1</td>\n",
       "      <td>Galactomyces Ferment Filtrate (Pitera), Butyle...</td>\n",
       "      <td>1</td>\n",
       "      <td>1</td>\n",
       "      <td>1</td>\n",
       "      <td>1</td>\n",
       "      <td>1</td>\n",
       "    </tr>\n",
       "    <tr>\n",
       "      <th>2</th>\n",
       "      <td>Moisturizer</td>\n",
       "      <td>DRUNK ELEPHANT</td>\n",
       "      <td>Protini™ Polypeptide Cream</td>\n",
       "      <td>68</td>\n",
       "      <td>4.4</td>\n",
       "      <td>Water, Dicaprylyl Carbonate, Glycerin, Ceteary...</td>\n",
       "      <td>1</td>\n",
       "      <td>1</td>\n",
       "      <td>1</td>\n",
       "      <td>1</td>\n",
       "      <td>0</td>\n",
       "    </tr>\n",
       "    <tr>\n",
       "      <th>3</th>\n",
       "      <td>Moisturizer</td>\n",
       "      <td>LA MER</td>\n",
       "      <td>The Moisturizing Soft Cream</td>\n",
       "      <td>175</td>\n",
       "      <td>3.8</td>\n",
       "      <td>Algae (Seaweed) Extract, Cyclopentasiloxane, P...</td>\n",
       "      <td>1</td>\n",
       "      <td>1</td>\n",
       "      <td>1</td>\n",
       "      <td>1</td>\n",
       "      <td>1</td>\n",
       "    </tr>\n",
       "    <tr>\n",
       "      <th>4</th>\n",
       "      <td>Moisturizer</td>\n",
       "      <td>IT COSMETICS</td>\n",
       "      <td>Your Skin But Better™ CC+™ Cream with SPF 50+</td>\n",
       "      <td>38</td>\n",
       "      <td>4.1</td>\n",
       "      <td>Water, Snail Secretion Filtrate, Phenyl Trimet...</td>\n",
       "      <td>1</td>\n",
       "      <td>1</td>\n",
       "      <td>1</td>\n",
       "      <td>1</td>\n",
       "      <td>1</td>\n",
       "    </tr>\n",
       "  </tbody>\n",
       "</table>\n",
       "</div>"
      ],
      "text/plain": [
       "         Label           Brand                                           Name  \\\n",
       "0  Moisturizer          LA MER                                Crème de la Mer   \n",
       "1  Moisturizer           SK-II                       Facial Treatment Essence   \n",
       "2  Moisturizer  DRUNK ELEPHANT                     Protini™ Polypeptide Cream   \n",
       "3  Moisturizer          LA MER                    The Moisturizing Soft Cream   \n",
       "4  Moisturizer    IT COSMETICS  Your Skin But Better™ CC+™ Cream with SPF 50+   \n",
       "\n",
       "   Price  Rank                                        Ingredients  \\\n",
       "0    175   4.1  Algae (Seaweed) Extract, Mineral Oil, Petrolat...   \n",
       "1    179   4.1  Galactomyces Ferment Filtrate (Pitera), Butyle...   \n",
       "2     68   4.4  Water, Dicaprylyl Carbonate, Glycerin, Ceteary...   \n",
       "3    175   3.8  Algae (Seaweed) Extract, Cyclopentasiloxane, P...   \n",
       "4     38   4.1  Water, Snail Secretion Filtrate, Phenyl Trimet...   \n",
       "\n",
       "   Combination  Dry  Normal  Oily  Sensitive  \n",
       "0            1    1       1     1          1  \n",
       "1            1    1       1     1          1  \n",
       "2            1    1       1     1          0  \n",
       "3            1    1       1     1          1  \n",
       "4            1    1       1     1          1  "
      ]
     },
     "execution_count": 6,
     "metadata": {},
     "output_type": "execute_result"
    }
   ],
   "source": [
    "data.head()"
   ]
  },
  {
   "cell_type": "code",
   "execution_count": 7,
   "metadata": {},
   "outputs": [
    {
     "name": "stdout",
     "output_type": "stream",
     "text": [
      "<class 'pandas.core.frame.DataFrame'>\n",
      "RangeIndex: 1452 entries, 0 to 1451\n",
      "Data columns (total 11 columns):\n",
      " #   Column       Non-Null Count  Dtype  \n",
      "---  ------       --------------  -----  \n",
      " 0   Label        1452 non-null   object \n",
      " 1   Brand        1452 non-null   object \n",
      " 2   Name         1452 non-null   object \n",
      " 3   Price        1452 non-null   int64  \n",
      " 4   Rank         1452 non-null   float64\n",
      " 5   Ingredients  1452 non-null   object \n",
      " 6   Combination  1452 non-null   int64  \n",
      " 7   Dry          1452 non-null   int64  \n",
      " 8   Normal       1452 non-null   int64  \n",
      " 9   Oily         1452 non-null   int64  \n",
      " 10  Sensitive    1452 non-null   int64  \n",
      "dtypes: float64(1), int64(6), object(4)\n",
      "memory usage: 124.9+ KB\n"
     ]
    }
   ],
   "source": [
    "data.info()"
   ]
  },
  {
   "cell_type": "markdown",
   "metadata": {},
   "source": [
    "## 2. Combining the toxic_ingredients_list into the dataset"
   ]
  },
  {
   "cell_type": "markdown",
   "metadata": {},
   "source": [
    "#### Let's combine the toxic_ingredients_list with the dataframe "
   ]
  },
  {
   "cell_type": "code",
   "execution_count": 8,
   "metadata": {},
   "outputs": [],
   "source": [
    "#We're going to define a function which will return the number of harmful substences.\n",
    "def toxic(ingredients):\n",
    "    #creating a list with the ingredients of the product\n",
    "    ingredients_list = str(ingredients).split(\", \")\n",
    "    #converting them to lowercases \n",
    "    ingredients_list = [string.lower() for string in ingredients_list]\n",
    "    #iniating the number of harmful substances to be counted\n",
    "    harmful_substances = 0\n",
    "    #creating a list with the harmful substances (which we won't return, but can be if we need it in the future)\n",
    "    list_harm=[]\n",
    "    for ingredient in ingredients_list:\n",
    "        #All susbtances with 'PEG-' are harmful\n",
    "        if 'peg-' in ingredient:\n",
    "            harmful_substances += 1\n",
    "            list_harm.append(ingredient)\n",
    "        elif 'peg/' in ingredient:\n",
    "            harmful_substances += 1\n",
    "            list_harm.append(ingredient)\n",
    "        elif ingredient in toxic_ingredients_list:\n",
    "            harmful_substances += 1\n",
    "            list_harm.append(ingredient)\n",
    "    return harmful_substances"
   ]
  },
  {
   "cell_type": "code",
   "execution_count": 9,
   "metadata": {},
   "outputs": [],
   "source": [
    "#Creating the column with the number of harmful susbtences per product\n",
    "data['Harmful_Substances'] = data.Ingredients.apply(toxic)"
   ]
  },
  {
   "cell_type": "code",
   "execution_count": 10,
   "metadata": {},
   "outputs": [
    {
     "name": "stdout",
     "output_type": "stream",
     "text": [
      "<class 'pandas.core.frame.DataFrame'>\n",
      "RangeIndex: 1452 entries, 0 to 1451\n",
      "Data columns (total 12 columns):\n",
      " #   Column              Non-Null Count  Dtype  \n",
      "---  ------              --------------  -----  \n",
      " 0   Label               1452 non-null   object \n",
      " 1   Brand               1452 non-null   object \n",
      " 2   Name                1452 non-null   object \n",
      " 3   Price               1452 non-null   int64  \n",
      " 4   Rank                1452 non-null   float64\n",
      " 5   Ingredients         1452 non-null   object \n",
      " 6   Combination         1452 non-null   int64  \n",
      " 7   Dry                 1452 non-null   int64  \n",
      " 8   Normal              1452 non-null   int64  \n",
      " 9   Oily                1452 non-null   int64  \n",
      " 10  Sensitive           1452 non-null   int64  \n",
      " 11  Harmful_Substances  1452 non-null   int64  \n",
      "dtypes: float64(1), int64(7), object(4)\n",
      "memory usage: 136.2+ KB\n"
     ]
    }
   ],
   "source": [
    "data.info()"
   ]
  },
  {
   "cell_type": "code",
   "execution_count": 11,
   "metadata": {},
   "outputs": [
    {
     "data": {
      "text/html": [
       "<div>\n",
       "<style scoped>\n",
       "    .dataframe tbody tr th:only-of-type {\n",
       "        vertical-align: middle;\n",
       "    }\n",
       "\n",
       "    .dataframe tbody tr th {\n",
       "        vertical-align: top;\n",
       "    }\n",
       "\n",
       "    .dataframe thead th {\n",
       "        text-align: right;\n",
       "    }\n",
       "</style>\n",
       "<table border=\"1\" class=\"dataframe\">\n",
       "  <thead>\n",
       "    <tr style=\"text-align: right;\">\n",
       "      <th></th>\n",
       "      <th>Label</th>\n",
       "      <th>Brand</th>\n",
       "      <th>Name</th>\n",
       "      <th>Price</th>\n",
       "      <th>Rank</th>\n",
       "      <th>Ingredients</th>\n",
       "      <th>Combination</th>\n",
       "      <th>Dry</th>\n",
       "      <th>Normal</th>\n",
       "      <th>Oily</th>\n",
       "      <th>Sensitive</th>\n",
       "      <th>Harmful_Substances</th>\n",
       "    </tr>\n",
       "  </thead>\n",
       "  <tbody>\n",
       "    <tr>\n",
       "      <th>7</th>\n",
       "      <td>Moisturizer</td>\n",
       "      <td>DRUNK ELEPHANT</td>\n",
       "      <td>Virgin Marula Luxury Facial Oil</td>\n",
       "      <td>72</td>\n",
       "      <td>4.4</td>\n",
       "      <td>100% Unrefined Sclerocraya Birrea (Marula) Ker...</td>\n",
       "      <td>1</td>\n",
       "      <td>1</td>\n",
       "      <td>1</td>\n",
       "      <td>1</td>\n",
       "      <td>0</td>\n",
       "      <td>0</td>\n",
       "    </tr>\n",
       "    <tr>\n",
       "      <th>11</th>\n",
       "      <td>Moisturizer</td>\n",
       "      <td>KIEHL'S SINCE 1851</td>\n",
       "      <td>Midnight Recovery Concentrate</td>\n",
       "      <td>47</td>\n",
       "      <td>4.4</td>\n",
       "      <td>Caprylic/Capric Triglyceride Dicaprylyl Carbon...</td>\n",
       "      <td>1</td>\n",
       "      <td>1</td>\n",
       "      <td>1</td>\n",
       "      <td>1</td>\n",
       "      <td>1</td>\n",
       "      <td>0</td>\n",
       "    </tr>\n",
       "    <tr>\n",
       "      <th>13</th>\n",
       "      <td>Moisturizer</td>\n",
       "      <td>SUNDAY RILEY</td>\n",
       "      <td>Luna Sleeping Night Oil</td>\n",
       "      <td>105</td>\n",
       "      <td>4.1</td>\n",
       "      <td>Persea Gratissima (Extra Virgin, Cold Pressed ...</td>\n",
       "      <td>1</td>\n",
       "      <td>1</td>\n",
       "      <td>1</td>\n",
       "      <td>1</td>\n",
       "      <td>1</td>\n",
       "      <td>0</td>\n",
       "    </tr>\n",
       "    <tr>\n",
       "      <th>14</th>\n",
       "      <td>Moisturizer</td>\n",
       "      <td>FARMACY</td>\n",
       "      <td>Honeymoon Glow AHA Resurfacing Night Serum wit...</td>\n",
       "      <td>58</td>\n",
       "      <td>4.6</td>\n",
       "      <td>Water, Lactic Acid, Propanediol, Jojoba Esters...</td>\n",
       "      <td>1</td>\n",
       "      <td>1</td>\n",
       "      <td>1</td>\n",
       "      <td>1</td>\n",
       "      <td>1</td>\n",
       "      <td>0</td>\n",
       "    </tr>\n",
       "    <tr>\n",
       "      <th>26</th>\n",
       "      <td>Moisturizer</td>\n",
       "      <td>DRUNK ELEPHANT</td>\n",
       "      <td>Virgin Marula Luxury Facial Oil Mini</td>\n",
       "      <td>40</td>\n",
       "      <td>4.5</td>\n",
       "      <td>100% Unrefined Sclerocraya Birrea (Marula) Ker...</td>\n",
       "      <td>1</td>\n",
       "      <td>1</td>\n",
       "      <td>1</td>\n",
       "      <td>1</td>\n",
       "      <td>0</td>\n",
       "      <td>0</td>\n",
       "    </tr>\n",
       "    <tr>\n",
       "      <th>...</th>\n",
       "      <td>...</td>\n",
       "      <td>...</td>\n",
       "      <td>...</td>\n",
       "      <td>...</td>\n",
       "      <td>...</td>\n",
       "      <td>...</td>\n",
       "      <td>...</td>\n",
       "      <td>...</td>\n",
       "      <td>...</td>\n",
       "      <td>...</td>\n",
       "      <td>...</td>\n",
       "      <td>...</td>\n",
       "    </tr>\n",
       "    <tr>\n",
       "      <th>1438</th>\n",
       "      <td>Sun protect</td>\n",
       "      <td>COOLA</td>\n",
       "      <td>Sport Continuous Spray SPF 30 - Unscented</td>\n",
       "      <td>32</td>\n",
       "      <td>5.0</td>\n",
       "      <td>Alcohol (Organic), Algae Extract (Organic), Al...</td>\n",
       "      <td>1</td>\n",
       "      <td>1</td>\n",
       "      <td>1</td>\n",
       "      <td>1</td>\n",
       "      <td>1</td>\n",
       "      <td>0</td>\n",
       "    </tr>\n",
       "    <tr>\n",
       "      <th>1440</th>\n",
       "      <td>Sun protect</td>\n",
       "      <td>SUPERGOOP!</td>\n",
       "      <td>Perfect Day 2-in-1 Everywear Lotion Broad Spec...</td>\n",
       "      <td>19</td>\n",
       "      <td>4.8</td>\n",
       "      <td>-Homosalate 10%, Octinoxate 7.5%, Octisalate 5...</td>\n",
       "      <td>1</td>\n",
       "      <td>1</td>\n",
       "      <td>1</td>\n",
       "      <td>1</td>\n",
       "      <td>0</td>\n",
       "      <td>0</td>\n",
       "    </tr>\n",
       "    <tr>\n",
       "      <th>1442</th>\n",
       "      <td>Sun protect</td>\n",
       "      <td>COOLA</td>\n",
       "      <td>Summer Duo</td>\n",
       "      <td>36</td>\n",
       "      <td>4.8</td>\n",
       "      <td>Avobenzone 2.8%, Octisalate 4.9%, Octocrylene ...</td>\n",
       "      <td>0</td>\n",
       "      <td>0</td>\n",
       "      <td>0</td>\n",
       "      <td>0</td>\n",
       "      <td>0</td>\n",
       "      <td>0</td>\n",
       "    </tr>\n",
       "    <tr>\n",
       "      <th>1445</th>\n",
       "      <td>Sun protect</td>\n",
       "      <td>URBAN DECAY</td>\n",
       "      <td>Naked Skin Bronzing Beauty Balm Broad Spectrum...</td>\n",
       "      <td>34</td>\n",
       "      <td>4.1</td>\n",
       "      <td>-Pepha® (derived from watermelon extract): Pro...</td>\n",
       "      <td>0</td>\n",
       "      <td>0</td>\n",
       "      <td>0</td>\n",
       "      <td>0</td>\n",
       "      <td>0</td>\n",
       "      <td>0</td>\n",
       "    </tr>\n",
       "    <tr>\n",
       "      <th>1449</th>\n",
       "      <td>Sun protect</td>\n",
       "      <td>VITA LIBERATA</td>\n",
       "      <td>Self Tan Dry Oil SPF 50</td>\n",
       "      <td>54</td>\n",
       "      <td>3.5</td>\n",
       "      <td>Water, Dihydroxyacetone, Glycerin, Sclerocarya...</td>\n",
       "      <td>0</td>\n",
       "      <td>0</td>\n",
       "      <td>0</td>\n",
       "      <td>0</td>\n",
       "      <td>0</td>\n",
       "      <td>0</td>\n",
       "    </tr>\n",
       "  </tbody>\n",
       "</table>\n",
       "<p>257 rows × 12 columns</p>\n",
       "</div>"
      ],
      "text/plain": [
       "            Label               Brand  \\\n",
       "7     Moisturizer      DRUNK ELEPHANT   \n",
       "11    Moisturizer  KIEHL'S SINCE 1851   \n",
       "13    Moisturizer        SUNDAY RILEY   \n",
       "14    Moisturizer             FARMACY   \n",
       "26    Moisturizer      DRUNK ELEPHANT   \n",
       "...           ...                 ...   \n",
       "1438  Sun protect               COOLA   \n",
       "1440  Sun protect          SUPERGOOP!   \n",
       "1442  Sun protect               COOLA   \n",
       "1445  Sun protect         URBAN DECAY   \n",
       "1449  Sun protect       VITA LIBERATA   \n",
       "\n",
       "                                                   Name  Price  Rank  \\\n",
       "7                       Virgin Marula Luxury Facial Oil     72   4.4   \n",
       "11                        Midnight Recovery Concentrate     47   4.4   \n",
       "13                              Luna Sleeping Night Oil    105   4.1   \n",
       "14    Honeymoon Glow AHA Resurfacing Night Serum wit...     58   4.6   \n",
       "26                 Virgin Marula Luxury Facial Oil Mini     40   4.5   \n",
       "...                                                 ...    ...   ...   \n",
       "1438          Sport Continuous Spray SPF 30 - Unscented     32   5.0   \n",
       "1440  Perfect Day 2-in-1 Everywear Lotion Broad Spec...     19   4.8   \n",
       "1442                                         Summer Duo     36   4.8   \n",
       "1445  Naked Skin Bronzing Beauty Balm Broad Spectrum...     34   4.1   \n",
       "1449                            Self Tan Dry Oil SPF 50     54   3.5   \n",
       "\n",
       "                                            Ingredients  Combination  Dry  \\\n",
       "7     100% Unrefined Sclerocraya Birrea (Marula) Ker...            1    1   \n",
       "11    Caprylic/Capric Triglyceride Dicaprylyl Carbon...            1    1   \n",
       "13    Persea Gratissima (Extra Virgin, Cold Pressed ...            1    1   \n",
       "14    Water, Lactic Acid, Propanediol, Jojoba Esters...            1    1   \n",
       "26    100% Unrefined Sclerocraya Birrea (Marula) Ker...            1    1   \n",
       "...                                                 ...          ...  ...   \n",
       "1438  Alcohol (Organic), Algae Extract (Organic), Al...            1    1   \n",
       "1440  -Homosalate 10%, Octinoxate 7.5%, Octisalate 5...            1    1   \n",
       "1442  Avobenzone 2.8%, Octisalate 4.9%, Octocrylene ...            0    0   \n",
       "1445  -Pepha® (derived from watermelon extract): Pro...            0    0   \n",
       "1449  Water, Dihydroxyacetone, Glycerin, Sclerocarya...            0    0   \n",
       "\n",
       "      Normal  Oily  Sensitive  Harmful_Substances  \n",
       "7          1     1          0                   0  \n",
       "11         1     1          1                   0  \n",
       "13         1     1          1                   0  \n",
       "14         1     1          1                   0  \n",
       "26         1     1          0                   0  \n",
       "...      ...   ...        ...                 ...  \n",
       "1438       1     1          1                   0  \n",
       "1440       1     1          0                   0  \n",
       "1442       0     0          0                   0  \n",
       "1445       0     0          0                   0  \n",
       "1449       0     0          0                   0  \n",
       "\n",
       "[257 rows x 12 columns]"
      ]
     },
     "execution_count": 11,
     "metadata": {},
     "output_type": "execute_result"
    }
   ],
   "source": [
    "data[data.Harmful_Substances == 0]"
   ]
  },
  {
   "cell_type": "markdown",
   "metadata": {},
   "source": [
    "We are left with 257 \"safe\" products."
   ]
  },
  {
   "cell_type": "markdown",
   "metadata": {},
   "source": [
    "## 3. Data cleaning"
   ]
  },
  {
   "cell_type": "markdown",
   "metadata": {},
   "source": [
    "#### Cleaning the categorial values"
   ]
  },
  {
   "cell_type": "markdown",
   "metadata": {},
   "source": [
    "Let's take a look at the frequency of each ingredients"
   ]
  },
  {
   "cell_type": "code",
   "execution_count": 12,
   "metadata": {},
   "outputs": [
    {
     "data": {
      "text/plain": [
       "No Info                                                                                                                                                                                                                                                                                                                                                                                                                                                                                                                                                                                                                                                                                                                                                                                                                                         23\n",
       "No info                                                                                                                                                                                                                                                                                                                                                                                                                                                                                                                                                                                                                                                                                                                                                                                                                                          8\n",
       "*Ingredients from organic farming. **Clinical grade essential oils blend.                                                                                                                                                                                                                                                                                                                                                                                                                                                                                                                                                                                                                                                                                                                                                                        5\n",
       "Light                                                                                                                                                                                                                                                                                                                                                                                                                                                                                                                                                                                                                                                                                                                                                                                                                                            3\n",
       "Algae (Seaweed) Extract, Mineral Oil, Petrolatum, Glycerin, Isohexadecane, Microcrystalline Wax, Lanolin Alcohol, Citrus Aurantifolia (Lime) Extract, Sesamum Indicum (Sesame) Seed Oil, Eucalyptus Globulus (Eucalyptus) Leaf Oil, Sesamum Indicum (Sesame) Seed Powder, Medicago Sativa (Alfalfa) Seed Powder, Helianthus Annuus (Sunflower) Seedcake, Prunus Amygdalus Dulcis (Sweet Almond) Seed Meal, Sodium Gluconate, Copper Gluconate, Calcium Gluconate, Magnesium Gluconate, Zinc Gluconate, Magnesium Sulfate, Paraffin, Tocopheryl Succinate, Niacin, Water, Beta-Carotene, Decyl Oleate, Aluminum Distearate, Octyldodecanol, Citric Acid, Cyanocobalamin, Magnesium Stearate, Panthenol, Limonene, Geraniol, Linalool, Hydroxycitronellal, Citronellol, Benzyl Salicylate, Citral, Sodium Benzoate, Alcohol Denat., Fragrance.     3\n",
       "                                                                                                                                                                                                                                                                                                                                                                                                                                                                                                                                                                                                                                                                                                                                                                                                                                                ..\n",
       "Water, Glycerin, Peat, Charcoal Powder, Polyacrylamide, Lava Powder, Sargassum Fusiforme Extract, Kaolin, Bentonite, Lactic Acid, C13-14 Isoparaffin, Isohexadecane, Sodium Acrylate/Sodium Acryloyldimethyl Taurate Copolymer, Dimethicone, Xanthan Gum, Disodium Edta, Polysorbate 80, Laureth-7, Sorbitan Oleate, Sodium Benzoate, Potassium Sorbate, Phenoxyethanol, Mica (Ci 77019).                                                                                                                                                                                                                                                                                                                                                                                                                                                        1\n",
       "Water, Butylene Glycol, Bis-PEG-18 Methyl Ether Dimethyl Silane, Sodium Stearate, Pentylene Glycol, Isosteareth-2, Glycerin, Sea Water, Manganese Gluconate, Nylon-12, Caffeine, Phenoxyethanol, Chlorphesin, Blue 1.                                                                                                                                                                                                                                                                                                                                                                                                                                                                                                                                                                                                                            1\n",
       "Water , Isopropyl Palmitate , Pentylene Glycol , Dimethicone , Trisiloxane , Methyl Glucose Sesquistearate , Peg-20 Methyl Glucose Sesquistearate , Caprylyl Glycol , Arginine , Hexylene Glycol , Sorbic Acid , Disodium Edta , Phenoxyethanol                                                                                                                                                                                                                                                                                                                                                                                                                                                                                                                                                                                                  1\n",
       "Water, Saccharomyces/Camellia Sinensis Leaf/Cladosiphon Okamuranus/Rice Ferment Filtrate*, Glycerin, Propanediol, Cyclopentasiloxane, Squalane, Isononyl Isononanoate, Inositol, Sericin, Hydrolyzed Silk, Hydrolyzed Conchiolin Protein, Rubus Ellipticus Root Extract, Oryza Sativa (Rice) Germ Oil, Panax Ginseng Root Extract, Royal Jelly Extract, Thymus Serpyllum Extract, Caprylic/Capric Triglyceride, Sorbitan Stearate, Behenyl Alcohol, Stearic Acid, Hydrogenated Lecithin, Polyglyceryl-2 Triisostearate, Batyl Alcohol, Ethylhexylglycerin, Arginine, Bis-Behenyl/Isostearyl/Phytosteryl Dimer Dilinoleyl Dimer Dilinoleate, Carbomer, Xanthan Gum, Biosaccharide Gum-1, Sodium Hyaluronate, Parfum/Fragrance, Butylene Glycol, Alcohol, Phenoxyethanol. *Hadasei-3.                                                              1\n",
       "-Jisten (Transversal Technology): LVMH patent, cultivated in Uzbekistan; optimizes the flow of water on the surface and in depth of the skin. -Black Rose (Transversal Technology): Cultivated in France; delays the appearance of first signs of aging by reinforcing the natural anti-free radical defense of the skin. -Centella (Transversal Technology): Cultivated in Madagascar, plumps the look of skin by supporting natural collagen production and enhancing water movements in the skin’s upper layers. -Octinoxate, Oxybenzone, and Titanium Dioxide: Provide broad spectrum UVA/UVB protection.                                                                                                                                                                                                                                    1\n",
       "Name: Ingredients, Length: 1381, dtype: int64"
      ]
     },
     "execution_count": 12,
     "metadata": {},
     "output_type": "execute_result"
    }
   ],
   "source": [
    "data.Ingredients.value_counts()"
   ]
  },
  {
   "cell_type": "markdown",
   "metadata": {},
   "source": [
    "We can see that some products don't have any ingredients (\"No info\"), and most of the ingredients are presented like a list of string separated by a comma"
   ]
  },
  {
   "cell_type": "markdown",
   "metadata": {},
   "source": [
    "#### Let's drop the product with \"No info\""
   ]
  },
  {
   "cell_type": "code",
   "execution_count": 13,
   "metadata": {},
   "outputs": [],
   "source": [
    "list_index_NoInfo = data[data.Ingredients == \"No Info\"].index"
   ]
  },
  {
   "cell_type": "code",
   "execution_count": 14,
   "metadata": {},
   "outputs": [],
   "source": [
    "list_index_Noinfo = data[data.Ingredients == \"No info\"].index"
   ]
  },
  {
   "cell_type": "code",
   "execution_count": 15,
   "metadata": {},
   "outputs": [],
   "source": [
    "# We are dropping the 31 rows with no ingredients\n",
    "data.drop(list_index_NoInfo, axis=0, inplace=True)\n",
    "data.drop(list_index_Noinfo, axis=0, inplace=True)"
   ]
  },
  {
   "cell_type": "code",
   "execution_count": 16,
   "metadata": {},
   "outputs": [
    {
     "name": "stdout",
     "output_type": "stream",
     "text": [
      "<class 'pandas.core.frame.DataFrame'>\n",
      "Int64Index: 1421 entries, 0 to 1451\n",
      "Data columns (total 12 columns):\n",
      " #   Column              Non-Null Count  Dtype  \n",
      "---  ------              --------------  -----  \n",
      " 0   Label               1421 non-null   object \n",
      " 1   Brand               1421 non-null   object \n",
      " 2   Name                1421 non-null   object \n",
      " 3   Price               1421 non-null   int64  \n",
      " 4   Rank                1421 non-null   float64\n",
      " 5   Ingredients         1421 non-null   object \n",
      " 6   Combination         1421 non-null   int64  \n",
      " 7   Dry                 1421 non-null   int64  \n",
      " 8   Normal              1421 non-null   int64  \n",
      " 9   Oily                1421 non-null   int64  \n",
      " 10  Sensitive           1421 non-null   int64  \n",
      " 11  Harmful_Substances  1421 non-null   int64  \n",
      "dtypes: float64(1), int64(7), object(4)\n",
      "memory usage: 144.3+ KB\n"
     ]
    }
   ],
   "source": [
    "data.info()"
   ]
  },
  {
   "cell_type": "markdown",
   "metadata": {},
   "source": [
    "#### Let's continue to clean the ingredients column before doing the bag of words"
   ]
  },
  {
   "cell_type": "code",
   "execution_count": 17,
   "metadata": {},
   "outputs": [],
   "source": [
    "def clean_up(s):\n",
    "    #putting everything in lowercase\n",
    "    s_lower = s.lower()\n",
    "    \n",
    "    #removing numbers (as we have to many ingredients, we decided to regroup them by removing the numbers)\n",
    "    s_without_nb = re.sub(\"[0-9]\",\"\", s_lower)\n",
    "    \n",
    "    #removing everything that is in between parenthesis\n",
    "    s_without_par = re.sub(r'\\([^)]*\\)', '', s_without_nb)\n",
    "    \n",
    "    #Removing the double (or more) spaces\n",
    "    s_only_one_space = \" \".join(s_without_par.split())\n",
    "    \n",
    "    #Keeping only the first part of the string containing \"/\" as after it's only another name of the chemical substance\n",
    "    s_first_part_before_slash = s_only_one_space.partition('/')[0]\n",
    "    \n",
    "    #Keeping only the first part of the string containing \"\" as after it's only precision about the ingredient\n",
    "    s_first_part_before_star = s_first_part_before_slash.partition('*')[0]\n",
    "    \n",
    "    #Keeping only the first part of the string containing \":\" as after it's only precision about the ingredient\n",
    "    s_first_part_before_colon = s_first_part_before_star.partition(':')[0]\n",
    "    \n",
    "    #Removing the \"%\" character\n",
    "    s_without_percent = s_first_part_before_colon.replace('%', '')\n",
    "    \n",
    "    #We want to add a comma after oil and extract\n",
    "    if \"oil\" in s_without_percent or \"extract\" in s_without_percent:\n",
    "        s_add_comma = s_without_percent + \",\"\n",
    "    else:\n",
    "        s_add_comma = s_without_percent\n",
    "    \n",
    "    #We want to delete the double commas\n",
    "    s_single_comma = s_add_comma.replace(',,', ',')\n",
    "    \n",
    "    #Removing the point\n",
    "    s_without_point = s_single_comma.replace('.', '')\n",
    "    \n",
    "    #Removing commas if they are at the beginning of the string or at the end\n",
    "    if s_without_point[:2] == ', ':\n",
    "        s_remove_first_comma = s_without_point[2:]\n",
    "    else:\n",
    "        s_remove_first_comma = s_without_point\n",
    "        \n",
    "    if s_remove_first_comma != '' and s_remove_first_comma[-1] == ',':\n",
    "        s_remove_last_comma = s_remove_first_comma[:-1]\n",
    "    else:\n",
    "        s_remove_last_comma = s_remove_first_comma           \n",
    " \n",
    "    return s_remove_last_comma"
   ]
  },
  {
   "cell_type": "code",
   "execution_count": 18,
   "metadata": {},
   "outputs": [],
   "source": [
    "data['ing_processed'] = data['Ingredients'].apply(clean_up)"
   ]
  },
  {
   "cell_type": "code",
   "execution_count": 19,
   "metadata": {},
   "outputs": [
    {
     "data": {
      "text/html": [
       "<div>\n",
       "<style scoped>\n",
       "    .dataframe tbody tr th:only-of-type {\n",
       "        vertical-align: middle;\n",
       "    }\n",
       "\n",
       "    .dataframe tbody tr th {\n",
       "        vertical-align: top;\n",
       "    }\n",
       "\n",
       "    .dataframe thead th {\n",
       "        text-align: right;\n",
       "    }\n",
       "</style>\n",
       "<table border=\"1\" class=\"dataframe\">\n",
       "  <thead>\n",
       "    <tr style=\"text-align: right;\">\n",
       "      <th></th>\n",
       "      <th>Label</th>\n",
       "      <th>Brand</th>\n",
       "      <th>Name</th>\n",
       "      <th>Price</th>\n",
       "      <th>Rank</th>\n",
       "      <th>Ingredients</th>\n",
       "      <th>Combination</th>\n",
       "      <th>Dry</th>\n",
       "      <th>Normal</th>\n",
       "      <th>Oily</th>\n",
       "      <th>Sensitive</th>\n",
       "      <th>Harmful_Substances</th>\n",
       "      <th>ing_processed</th>\n",
       "    </tr>\n",
       "  </thead>\n",
       "  <tbody>\n",
       "    <tr>\n",
       "      <th>0</th>\n",
       "      <td>Moisturizer</td>\n",
       "      <td>LA MER</td>\n",
       "      <td>Crème de la Mer</td>\n",
       "      <td>175</td>\n",
       "      <td>4.1</td>\n",
       "      <td>Algae (Seaweed) Extract, Mineral Oil, Petrolat...</td>\n",
       "      <td>1</td>\n",
       "      <td>1</td>\n",
       "      <td>1</td>\n",
       "      <td>1</td>\n",
       "      <td>1</td>\n",
       "      <td>10</td>\n",
       "      <td>algae extract, mineral oil, petrolatum, glycer...</td>\n",
       "    </tr>\n",
       "    <tr>\n",
       "      <th>1</th>\n",
       "      <td>Moisturizer</td>\n",
       "      <td>SK-II</td>\n",
       "      <td>Facial Treatment Essence</td>\n",
       "      <td>179</td>\n",
       "      <td>4.1</td>\n",
       "      <td>Galactomyces Ferment Filtrate (Pitera), Butyle...</td>\n",
       "      <td>1</td>\n",
       "      <td>1</td>\n",
       "      <td>1</td>\n",
       "      <td>1</td>\n",
       "      <td>1</td>\n",
       "      <td>1</td>\n",
       "      <td>galactomyces ferment filtrate , butylene glyco...</td>\n",
       "    </tr>\n",
       "    <tr>\n",
       "      <th>2</th>\n",
       "      <td>Moisturizer</td>\n",
       "      <td>DRUNK ELEPHANT</td>\n",
       "      <td>Protini™ Polypeptide Cream</td>\n",
       "      <td>68</td>\n",
       "      <td>4.4</td>\n",
       "      <td>Water, Dicaprylyl Carbonate, Glycerin, Ceteary...</td>\n",
       "      <td>1</td>\n",
       "      <td>1</td>\n",
       "      <td>1</td>\n",
       "      <td>1</td>\n",
       "      <td>0</td>\n",
       "      <td>1</td>\n",
       "      <td>water, dicaprylyl carbonate, glycerin, ceteary...</td>\n",
       "    </tr>\n",
       "    <tr>\n",
       "      <th>3</th>\n",
       "      <td>Moisturizer</td>\n",
       "      <td>LA MER</td>\n",
       "      <td>The Moisturizing Soft Cream</td>\n",
       "      <td>175</td>\n",
       "      <td>3.8</td>\n",
       "      <td>Algae (Seaweed) Extract, Cyclopentasiloxane, P...</td>\n",
       "      <td>1</td>\n",
       "      <td>1</td>\n",
       "      <td>1</td>\n",
       "      <td>1</td>\n",
       "      <td>1</td>\n",
       "      <td>12</td>\n",
       "      <td>algae extract, cyclopentasiloxane, petrolatum,...</td>\n",
       "    </tr>\n",
       "    <tr>\n",
       "      <th>4</th>\n",
       "      <td>Moisturizer</td>\n",
       "      <td>IT COSMETICS</td>\n",
       "      <td>Your Skin But Better™ CC+™ Cream with SPF 50+</td>\n",
       "      <td>38</td>\n",
       "      <td>4.1</td>\n",
       "      <td>Water, Snail Secretion Filtrate, Phenyl Trimet...</td>\n",
       "      <td>1</td>\n",
       "      <td>1</td>\n",
       "      <td>1</td>\n",
       "      <td>1</td>\n",
       "      <td>1</td>\n",
       "      <td>5</td>\n",
       "      <td>water, snail secretion filtrate, phenyl trimet...</td>\n",
       "    </tr>\n",
       "  </tbody>\n",
       "</table>\n",
       "</div>"
      ],
      "text/plain": [
       "         Label           Brand                                           Name  \\\n",
       "0  Moisturizer          LA MER                                Crème de la Mer   \n",
       "1  Moisturizer           SK-II                       Facial Treatment Essence   \n",
       "2  Moisturizer  DRUNK ELEPHANT                     Protini™ Polypeptide Cream   \n",
       "3  Moisturizer          LA MER                    The Moisturizing Soft Cream   \n",
       "4  Moisturizer    IT COSMETICS  Your Skin But Better™ CC+™ Cream with SPF 50+   \n",
       "\n",
       "   Price  Rank                                        Ingredients  \\\n",
       "0    175   4.1  Algae (Seaweed) Extract, Mineral Oil, Petrolat...   \n",
       "1    179   4.1  Galactomyces Ferment Filtrate (Pitera), Butyle...   \n",
       "2     68   4.4  Water, Dicaprylyl Carbonate, Glycerin, Ceteary...   \n",
       "3    175   3.8  Algae (Seaweed) Extract, Cyclopentasiloxane, P...   \n",
       "4     38   4.1  Water, Snail Secretion Filtrate, Phenyl Trimet...   \n",
       "\n",
       "   Combination  Dry  Normal  Oily  Sensitive  Harmful_Substances  \\\n",
       "0            1    1       1     1          1                  10   \n",
       "1            1    1       1     1          1                   1   \n",
       "2            1    1       1     1          0                   1   \n",
       "3            1    1       1     1          1                  12   \n",
       "4            1    1       1     1          1                   5   \n",
       "\n",
       "                                       ing_processed  \n",
       "0  algae extract, mineral oil, petrolatum, glycer...  \n",
       "1  galactomyces ferment filtrate , butylene glyco...  \n",
       "2  water, dicaprylyl carbonate, glycerin, ceteary...  \n",
       "3  algae extract, cyclopentasiloxane, petrolatum,...  \n",
       "4  water, snail secretion filtrate, phenyl trimet...  "
      ]
     },
     "execution_count": 19,
     "metadata": {},
     "output_type": "execute_result"
    }
   ],
   "source": [
    "data.head()"
   ]
  },
  {
   "cell_type": "code",
   "execution_count": 20,
   "metadata": {},
   "outputs": [],
   "source": [
    "data.to_csv('./Data/cosmetics_forML.csv')"
   ]
  },
  {
   "cell_type": "markdown",
   "metadata": {},
   "source": [
    "#### Tokenise the ingredients"
   ]
  },
  {
   "cell_type": "code",
   "execution_count": 21,
   "metadata": {},
   "outputs": [],
   "source": [
    "#Let's define a function to create a list of ingredients which won't keep duplicates\n",
    "\n",
    "def ingredients_tokenizer(v):\n",
    "    return list(set([w.strip() for w in v.split(\",\")]))"
   ]
  },
  {
   "cell_type": "code",
   "execution_count": 22,
   "metadata": {},
   "outputs": [
    {
     "data": {
      "text/plain": [
       "'algae extract, mineral oil, petrolatum, glycerin, isohexadecane, microcrystalline wax, lanolin alcohol, citrus aurantifolia extract, sesamum indicum seed oil, eucalyptus globulus leaf oil, sesamum indicum seed powder, medicago sativa seed powder, helianthus annuus seedcake, prunus amygdalus dulcis seed meal, sodium gluconate, copper gluconate, calcium gluconate, magnesium gluconate, zinc gluconate, magnesium sulfate, paraffin, tocopheryl succinate, niacin, water, beta-carotene, decyl oleate, aluminum distearate, octyldodecanol, citric acid, cyanocobalamin, magnesium stearate, panthenol, limonene, geraniol, linalool, hydroxycitronellal, citronellol, benzyl salicylate, citral, sodium benzoate, alcohol denat, fragrance'"
      ]
     },
     "execution_count": 22,
     "metadata": {},
     "output_type": "execute_result"
    }
   ],
   "source": [
    "data['ing_processed'][0]"
   ]
  },
  {
   "cell_type": "code",
   "execution_count": 23,
   "metadata": {},
   "outputs": [],
   "source": [
    "#Creation of the column with tokenised ingredients\n",
    "\n",
    "data['ing_processed'] = data['ing_processed'].apply(ingredients_tokenizer)"
   ]
  },
  {
   "cell_type": "code",
   "execution_count": 24,
   "metadata": {},
   "outputs": [
    {
     "data": {
      "text/html": [
       "<div>\n",
       "<style scoped>\n",
       "    .dataframe tbody tr th:only-of-type {\n",
       "        vertical-align: middle;\n",
       "    }\n",
       "\n",
       "    .dataframe tbody tr th {\n",
       "        vertical-align: top;\n",
       "    }\n",
       "\n",
       "    .dataframe thead th {\n",
       "        text-align: right;\n",
       "    }\n",
       "</style>\n",
       "<table border=\"1\" class=\"dataframe\">\n",
       "  <thead>\n",
       "    <tr style=\"text-align: right;\">\n",
       "      <th></th>\n",
       "      <th>Label</th>\n",
       "      <th>Brand</th>\n",
       "      <th>Name</th>\n",
       "      <th>Price</th>\n",
       "      <th>Rank</th>\n",
       "      <th>Ingredients</th>\n",
       "      <th>Combination</th>\n",
       "      <th>Dry</th>\n",
       "      <th>Normal</th>\n",
       "      <th>Oily</th>\n",
       "      <th>Sensitive</th>\n",
       "      <th>Harmful_Substances</th>\n",
       "      <th>ing_processed</th>\n",
       "    </tr>\n",
       "  </thead>\n",
       "  <tbody>\n",
       "    <tr>\n",
       "      <th>0</th>\n",
       "      <td>Moisturizer</td>\n",
       "      <td>LA MER</td>\n",
       "      <td>Crème de la Mer</td>\n",
       "      <td>175</td>\n",
       "      <td>4.1</td>\n",
       "      <td>Algae (Seaweed) Extract, Mineral Oil, Petrolat...</td>\n",
       "      <td>1</td>\n",
       "      <td>1</td>\n",
       "      <td>1</td>\n",
       "      <td>1</td>\n",
       "      <td>1</td>\n",
       "      <td>10</td>\n",
       "      <td>[isohexadecane, beta-carotene, hydroxycitronel...</td>\n",
       "    </tr>\n",
       "    <tr>\n",
       "      <th>1</th>\n",
       "      <td>Moisturizer</td>\n",
       "      <td>SK-II</td>\n",
       "      <td>Facial Treatment Essence</td>\n",
       "      <td>179</td>\n",
       "      <td>4.1</td>\n",
       "      <td>Galactomyces Ferment Filtrate (Pitera), Butyle...</td>\n",
       "      <td>1</td>\n",
       "      <td>1</td>\n",
       "      <td>1</td>\n",
       "      <td>1</td>\n",
       "      <td>1</td>\n",
       "      <td>1</td>\n",
       "      <td>[methylparaben, pentylene glycol, sodium benzo...</td>\n",
       "    </tr>\n",
       "    <tr>\n",
       "      <th>2</th>\n",
       "      <td>Moisturizer</td>\n",
       "      <td>DRUNK ELEPHANT</td>\n",
       "      <td>Protini™ Polypeptide Cream</td>\n",
       "      <td>68</td>\n",
       "      <td>4.4</td>\n",
       "      <td>Water, Dicaprylyl Carbonate, Glycerin, Ceteary...</td>\n",
       "      <td>1</td>\n",
       "      <td>1</td>\n",
       "      <td>1</td>\n",
       "      <td>1</td>\n",
       "      <td>0</td>\n",
       "      <td>1</td>\n",
       "      <td>[sorbitan olivate, sclerocarya birrea seed oil...</td>\n",
       "    </tr>\n",
       "    <tr>\n",
       "      <th>3</th>\n",
       "      <td>Moisturizer</td>\n",
       "      <td>LA MER</td>\n",
       "      <td>The Moisturizing Soft Cream</td>\n",
       "      <td>175</td>\n",
       "      <td>3.8</td>\n",
       "      <td>Algae (Seaweed) Extract, Cyclopentasiloxane, P...</td>\n",
       "      <td>1</td>\n",
       "      <td>1</td>\n",
       "      <td>1</td>\n",
       "      <td>1</td>\n",
       "      <td>1</td>\n",
       "      <td>12</td>\n",
       "      <td>[glyceryl distearate, sea salt, copper glucona...</td>\n",
       "    </tr>\n",
       "    <tr>\n",
       "      <th>4</th>\n",
       "      <td>Moisturizer</td>\n",
       "      <td>IT COSMETICS</td>\n",
       "      <td>Your Skin But Better™ CC+™ Cream with SPF 50+</td>\n",
       "      <td>38</td>\n",
       "      <td>4.1</td>\n",
       "      <td>Water, Snail Secretion Filtrate, Phenyl Trimet...</td>\n",
       "      <td>1</td>\n",
       "      <td>1</td>\n",
       "      <td>1</td>\n",
       "      <td>1</td>\n",
       "      <td>1</td>\n",
       "      <td>5</td>\n",
       "      <td>[snail secretion filtrate, phenyl trimethicone...</td>\n",
       "    </tr>\n",
       "  </tbody>\n",
       "</table>\n",
       "</div>"
      ],
      "text/plain": [
       "         Label           Brand                                           Name  \\\n",
       "0  Moisturizer          LA MER                                Crème de la Mer   \n",
       "1  Moisturizer           SK-II                       Facial Treatment Essence   \n",
       "2  Moisturizer  DRUNK ELEPHANT                     Protini™ Polypeptide Cream   \n",
       "3  Moisturizer          LA MER                    The Moisturizing Soft Cream   \n",
       "4  Moisturizer    IT COSMETICS  Your Skin But Better™ CC+™ Cream with SPF 50+   \n",
       "\n",
       "   Price  Rank                                        Ingredients  \\\n",
       "0    175   4.1  Algae (Seaweed) Extract, Mineral Oil, Petrolat...   \n",
       "1    179   4.1  Galactomyces Ferment Filtrate (Pitera), Butyle...   \n",
       "2     68   4.4  Water, Dicaprylyl Carbonate, Glycerin, Ceteary...   \n",
       "3    175   3.8  Algae (Seaweed) Extract, Cyclopentasiloxane, P...   \n",
       "4     38   4.1  Water, Snail Secretion Filtrate, Phenyl Trimet...   \n",
       "\n",
       "   Combination  Dry  Normal  Oily  Sensitive  Harmful_Substances  \\\n",
       "0            1    1       1     1          1                  10   \n",
       "1            1    1       1     1          1                   1   \n",
       "2            1    1       1     1          0                   1   \n",
       "3            1    1       1     1          1                  12   \n",
       "4            1    1       1     1          1                   5   \n",
       "\n",
       "                                       ing_processed  \n",
       "0  [isohexadecane, beta-carotene, hydroxycitronel...  \n",
       "1  [methylparaben, pentylene glycol, sodium benzo...  \n",
       "2  [sorbitan olivate, sclerocarya birrea seed oil...  \n",
       "3  [glyceryl distearate, sea salt, copper glucona...  \n",
       "4  [snail secretion filtrate, phenyl trimethicone...  "
      ]
     },
     "execution_count": 24,
     "metadata": {},
     "output_type": "execute_result"
    }
   ],
   "source": [
    "data.head()"
   ]
  },
  {
   "cell_type": "markdown",
   "metadata": {},
   "source": [
    "### Let's save the data into a new file"
   ]
  },
  {
   "cell_type": "code",
   "execution_count": 25,
   "metadata": {},
   "outputs": [],
   "source": [
    "data.to_csv('./Data/cosmetics_cleaned.csv')"
   ]
  },
  {
   "cell_type": "markdown",
   "metadata": {},
   "source": [
    "## 4. Preprocessing : Creation of the bag of words"
   ]
  },
  {
   "cell_type": "code",
   "execution_count": 26,
   "metadata": {},
   "outputs": [],
   "source": [
    "# Let's extract each ingredients in a list\n",
    "ingredients_processed = [ing for ing_row in data['ing_processed'] for ing in ing_row]"
   ]
  },
  {
   "cell_type": "code",
   "execution_count": 27,
   "metadata": {},
   "outputs": [
    {
     "data": {
      "text/plain": [
       "18203"
      ]
     },
     "execution_count": 27,
     "metadata": {},
     "output_type": "execute_result"
    }
   ],
   "source": [
    "len(ingredients_processed)"
   ]
  },
  {
   "cell_type": "code",
   "execution_count": 28,
   "metadata": {},
   "outputs": [],
   "source": [
    "#Filtering the empty string\n",
    "filter_object = filter(lambda x: x != \"\", ingredients_processed)\n",
    "ingredients_processed = list(filter_object)"
   ]
  },
  {
   "cell_type": "code",
   "execution_count": 29,
   "metadata": {},
   "outputs": [
    {
     "data": {
      "text/plain": [
       "18072"
      ]
     },
     "execution_count": 29,
     "metadata": {},
     "output_type": "execute_result"
    }
   ],
   "source": [
    "len(ingredients_processed)"
   ]
  },
  {
   "cell_type": "code",
   "execution_count": 30,
   "metadata": {},
   "outputs": [],
   "source": [
    "from nltk.probability import FreqDist"
   ]
  },
  {
   "cell_type": "code",
   "execution_count": 31,
   "metadata": {},
   "outputs": [],
   "source": [
    "frequence_ingredients = FreqDist(ingredients_processed)\n",
    "Top_1000 = frequence_ingredients.most_common(1000)"
   ]
  },
  {
   "cell_type": "code",
   "execution_count": 32,
   "metadata": {},
   "outputs": [
    {
     "data": {
      "text/plain": [
       "FreqDist({'water': 993, 'glycerin': 763, 'butylene glycol': 533, 'phenoxyethanol': 298, 'dimethicone': 291, 'caprylic': 218, 'disodium edta': 160, 'propanediol': 156, 'sodium hyaluronate': 155, 'cyclopentasiloxane': 141, ...})"
      ]
     },
     "execution_count": 32,
     "metadata": {},
     "output_type": "execute_result"
    }
   ],
   "source": [
    "frequence_ingredients"
   ]
  },
  {
   "cell_type": "code",
   "execution_count": 33,
   "metadata": {},
   "outputs": [
    {
     "data": {
      "text/plain": [
       "101"
      ]
     },
     "execution_count": 33,
     "metadata": {},
     "output_type": "execute_result"
    }
   ],
   "source": [
    "plusde30 = set([x[0] for x in Top_1000 if x[1] > 30])\n",
    "len(plusde30)"
   ]
  },
  {
   "cell_type": "markdown",
   "metadata": {},
   "source": [
    "## 5. One Hot Encoding Creation"
   ]
  },
  {
   "cell_type": "code",
   "execution_count": 34,
   "metadata": {},
   "outputs": [],
   "source": [
    "text_col = [[w for w in row if w in plusde30] for row in data.ing_processed]"
   ]
  },
  {
   "cell_type": "code",
   "execution_count": 35,
   "metadata": {},
   "outputs": [],
   "source": [
    "from sklearn.feature_extraction.text import CountVectorizer\n",
    "cv = CountVectorizer(tokenizer=lambda x:x,\n",
    "                     preprocessor=lambda x:x)"
   ]
  },
  {
   "cell_type": "code",
   "execution_count": 36,
   "metadata": {},
   "outputs": [],
   "source": [
    "bow = cv.fit_transform(text_col)"
   ]
  },
  {
   "cell_type": "code",
   "execution_count": 37,
   "metadata": {},
   "outputs": [
    {
     "data": {
      "text/plain": [
       "array([[0, 0, 0, ..., 0, 1, 0],\n",
       "       [0, 0, 0, ..., 0, 1, 0],\n",
       "       [0, 0, 0, ..., 0, 1, 0],\n",
       "       ...,\n",
       "       [0, 0, 0, ..., 0, 1, 0],\n",
       "       [0, 0, 0, ..., 0, 1, 0],\n",
       "       [0, 0, 0, ..., 0, 0, 0]], dtype=int64)"
      ]
     },
     "execution_count": 37,
     "metadata": {},
     "output_type": "execute_result"
    }
   ],
   "source": [
    "bow.toarray()"
   ]
  },
  {
   "cell_type": "code",
   "execution_count": 38,
   "metadata": {},
   "outputs": [],
   "source": [
    "bow_df = pd.DataFrame(bow.toarray(), columns=cv.get_feature_names())"
   ]
  },
  {
   "cell_type": "code",
   "execution_count": 39,
   "metadata": {},
   "outputs": [
    {
     "data": {
      "text/plain": [
       "80"
      ]
     },
     "execution_count": 39,
     "metadata": {},
     "output_type": "execute_result"
    }
   ],
   "source": [
    "bow_df.iloc[:, 4].sum()"
   ]
  },
  {
   "cell_type": "code",
   "execution_count": 40,
   "metadata": {},
   "outputs": [
    {
     "data": {
      "text/html": [
       "<div>\n",
       "<style scoped>\n",
       "    .dataframe tbody tr th:only-of-type {\n",
       "        vertical-align: middle;\n",
       "    }\n",
       "\n",
       "    .dataframe tbody tr th {\n",
       "        vertical-align: top;\n",
       "    }\n",
       "\n",
       "    .dataframe thead th {\n",
       "        text-align: right;\n",
       "    }\n",
       "</style>\n",
       "<table border=\"1\" class=\"dataframe\">\n",
       "  <thead>\n",
       "    <tr style=\"text-align: right;\">\n",
       "      <th></th>\n",
       "      <th>-hexanediol</th>\n",
       "      <th>acrylates</th>\n",
       "      <th>acrylates copolymer</th>\n",
       "      <th>adenosine</th>\n",
       "      <th>alcohol</th>\n",
       "      <th>alcohol denat</th>\n",
       "      <th>algae extract</th>\n",
       "      <th>allantoin</th>\n",
       "      <th>aloe barbadensis leaf juice</th>\n",
       "      <th>ammonium acryloyldimethyltaurate</th>\n",
       "      <th>...</th>\n",
       "      <th>sorbitol</th>\n",
       "      <th>squalane</th>\n",
       "      <th>stearic acid</th>\n",
       "      <th>sucrose</th>\n",
       "      <th>titanium dioxide</th>\n",
       "      <th>tocopherol</th>\n",
       "      <th>tocopheryl acetate</th>\n",
       "      <th>trehalose</th>\n",
       "      <th>water</th>\n",
       "      <th>xanthan gum</th>\n",
       "    </tr>\n",
       "  </thead>\n",
       "  <tbody>\n",
       "    <tr>\n",
       "      <th>0</th>\n",
       "      <td>0</td>\n",
       "      <td>0</td>\n",
       "      <td>0</td>\n",
       "      <td>0</td>\n",
       "      <td>0</td>\n",
       "      <td>1</td>\n",
       "      <td>1</td>\n",
       "      <td>0</td>\n",
       "      <td>0</td>\n",
       "      <td>0</td>\n",
       "      <td>...</td>\n",
       "      <td>0</td>\n",
       "      <td>0</td>\n",
       "      <td>0</td>\n",
       "      <td>0</td>\n",
       "      <td>0</td>\n",
       "      <td>0</td>\n",
       "      <td>0</td>\n",
       "      <td>0</td>\n",
       "      <td>1</td>\n",
       "      <td>0</td>\n",
       "    </tr>\n",
       "    <tr>\n",
       "      <th>1</th>\n",
       "      <td>0</td>\n",
       "      <td>0</td>\n",
       "      <td>0</td>\n",
       "      <td>0</td>\n",
       "      <td>0</td>\n",
       "      <td>0</td>\n",
       "      <td>0</td>\n",
       "      <td>0</td>\n",
       "      <td>0</td>\n",
       "      <td>0</td>\n",
       "      <td>...</td>\n",
       "      <td>0</td>\n",
       "      <td>0</td>\n",
       "      <td>0</td>\n",
       "      <td>0</td>\n",
       "      <td>0</td>\n",
       "      <td>0</td>\n",
       "      <td>0</td>\n",
       "      <td>0</td>\n",
       "      <td>1</td>\n",
       "      <td>0</td>\n",
       "    </tr>\n",
       "    <tr>\n",
       "      <th>2</th>\n",
       "      <td>0</td>\n",
       "      <td>0</td>\n",
       "      <td>0</td>\n",
       "      <td>0</td>\n",
       "      <td>0</td>\n",
       "      <td>0</td>\n",
       "      <td>0</td>\n",
       "      <td>0</td>\n",
       "      <td>0</td>\n",
       "      <td>0</td>\n",
       "      <td>...</td>\n",
       "      <td>0</td>\n",
       "      <td>0</td>\n",
       "      <td>0</td>\n",
       "      <td>0</td>\n",
       "      <td>0</td>\n",
       "      <td>0</td>\n",
       "      <td>0</td>\n",
       "      <td>0</td>\n",
       "      <td>1</td>\n",
       "      <td>0</td>\n",
       "    </tr>\n",
       "    <tr>\n",
       "      <th>3</th>\n",
       "      <td>0</td>\n",
       "      <td>0</td>\n",
       "      <td>0</td>\n",
       "      <td>0</td>\n",
       "      <td>0</td>\n",
       "      <td>0</td>\n",
       "      <td>1</td>\n",
       "      <td>0</td>\n",
       "      <td>0</td>\n",
       "      <td>0</td>\n",
       "      <td>...</td>\n",
       "      <td>0</td>\n",
       "      <td>0</td>\n",
       "      <td>0</td>\n",
       "      <td>0</td>\n",
       "      <td>0</td>\n",
       "      <td>0</td>\n",
       "      <td>0</td>\n",
       "      <td>0</td>\n",
       "      <td>1</td>\n",
       "      <td>0</td>\n",
       "    </tr>\n",
       "    <tr>\n",
       "      <th>4</th>\n",
       "      <td>0</td>\n",
       "      <td>0</td>\n",
       "      <td>0</td>\n",
       "      <td>0</td>\n",
       "      <td>0</td>\n",
       "      <td>0</td>\n",
       "      <td>0</td>\n",
       "      <td>0</td>\n",
       "      <td>0</td>\n",
       "      <td>0</td>\n",
       "      <td>...</td>\n",
       "      <td>0</td>\n",
       "      <td>0</td>\n",
       "      <td>0</td>\n",
       "      <td>0</td>\n",
       "      <td>0</td>\n",
       "      <td>0</td>\n",
       "      <td>0</td>\n",
       "      <td>0</td>\n",
       "      <td>1</td>\n",
       "      <td>0</td>\n",
       "    </tr>\n",
       "    <tr>\n",
       "      <th>...</th>\n",
       "      <td>...</td>\n",
       "      <td>...</td>\n",
       "      <td>...</td>\n",
       "      <td>...</td>\n",
       "      <td>...</td>\n",
       "      <td>...</td>\n",
       "      <td>...</td>\n",
       "      <td>...</td>\n",
       "      <td>...</td>\n",
       "      <td>...</td>\n",
       "      <td>...</td>\n",
       "      <td>...</td>\n",
       "      <td>...</td>\n",
       "      <td>...</td>\n",
       "      <td>...</td>\n",
       "      <td>...</td>\n",
       "      <td>...</td>\n",
       "      <td>...</td>\n",
       "      <td>...</td>\n",
       "      <td>...</td>\n",
       "      <td>...</td>\n",
       "    </tr>\n",
       "    <tr>\n",
       "      <th>1416</th>\n",
       "      <td>0</td>\n",
       "      <td>0</td>\n",
       "      <td>0</td>\n",
       "      <td>0</td>\n",
       "      <td>0</td>\n",
       "      <td>1</td>\n",
       "      <td>0</td>\n",
       "      <td>0</td>\n",
       "      <td>0</td>\n",
       "      <td>0</td>\n",
       "      <td>...</td>\n",
       "      <td>0</td>\n",
       "      <td>0</td>\n",
       "      <td>0</td>\n",
       "      <td>0</td>\n",
       "      <td>0</td>\n",
       "      <td>0</td>\n",
       "      <td>1</td>\n",
       "      <td>0</td>\n",
       "      <td>1</td>\n",
       "      <td>0</td>\n",
       "    </tr>\n",
       "    <tr>\n",
       "      <th>1417</th>\n",
       "      <td>0</td>\n",
       "      <td>0</td>\n",
       "      <td>0</td>\n",
       "      <td>0</td>\n",
       "      <td>0</td>\n",
       "      <td>0</td>\n",
       "      <td>0</td>\n",
       "      <td>0</td>\n",
       "      <td>0</td>\n",
       "      <td>0</td>\n",
       "      <td>...</td>\n",
       "      <td>0</td>\n",
       "      <td>0</td>\n",
       "      <td>0</td>\n",
       "      <td>0</td>\n",
       "      <td>0</td>\n",
       "      <td>0</td>\n",
       "      <td>0</td>\n",
       "      <td>0</td>\n",
       "      <td>1</td>\n",
       "      <td>0</td>\n",
       "    </tr>\n",
       "    <tr>\n",
       "      <th>1418</th>\n",
       "      <td>0</td>\n",
       "      <td>0</td>\n",
       "      <td>0</td>\n",
       "      <td>0</td>\n",
       "      <td>0</td>\n",
       "      <td>0</td>\n",
       "      <td>0</td>\n",
       "      <td>0</td>\n",
       "      <td>0</td>\n",
       "      <td>0</td>\n",
       "      <td>...</td>\n",
       "      <td>1</td>\n",
       "      <td>0</td>\n",
       "      <td>0</td>\n",
       "      <td>0</td>\n",
       "      <td>0</td>\n",
       "      <td>0</td>\n",
       "      <td>0</td>\n",
       "      <td>0</td>\n",
       "      <td>1</td>\n",
       "      <td>0</td>\n",
       "    </tr>\n",
       "    <tr>\n",
       "      <th>1419</th>\n",
       "      <td>0</td>\n",
       "      <td>0</td>\n",
       "      <td>0</td>\n",
       "      <td>0</td>\n",
       "      <td>0</td>\n",
       "      <td>0</td>\n",
       "      <td>0</td>\n",
       "      <td>0</td>\n",
       "      <td>0</td>\n",
       "      <td>0</td>\n",
       "      <td>...</td>\n",
       "      <td>0</td>\n",
       "      <td>0</td>\n",
       "      <td>0</td>\n",
       "      <td>0</td>\n",
       "      <td>0</td>\n",
       "      <td>1</td>\n",
       "      <td>0</td>\n",
       "      <td>0</td>\n",
       "      <td>1</td>\n",
       "      <td>0</td>\n",
       "    </tr>\n",
       "    <tr>\n",
       "      <th>1420</th>\n",
       "      <td>0</td>\n",
       "      <td>0</td>\n",
       "      <td>0</td>\n",
       "      <td>0</td>\n",
       "      <td>0</td>\n",
       "      <td>0</td>\n",
       "      <td>0</td>\n",
       "      <td>0</td>\n",
       "      <td>0</td>\n",
       "      <td>0</td>\n",
       "      <td>...</td>\n",
       "      <td>0</td>\n",
       "      <td>0</td>\n",
       "      <td>0</td>\n",
       "      <td>0</td>\n",
       "      <td>0</td>\n",
       "      <td>0</td>\n",
       "      <td>0</td>\n",
       "      <td>0</td>\n",
       "      <td>0</td>\n",
       "      <td>0</td>\n",
       "    </tr>\n",
       "  </tbody>\n",
       "</table>\n",
       "<p>1421 rows × 101 columns</p>\n",
       "</div>"
      ],
      "text/plain": [
       "      -hexanediol  acrylates  acrylates copolymer  adenosine  alcohol  \\\n",
       "0               0          0                    0          0        0   \n",
       "1               0          0                    0          0        0   \n",
       "2               0          0                    0          0        0   \n",
       "3               0          0                    0          0        0   \n",
       "4               0          0                    0          0        0   \n",
       "...           ...        ...                  ...        ...      ...   \n",
       "1416            0          0                    0          0        0   \n",
       "1417            0          0                    0          0        0   \n",
       "1418            0          0                    0          0        0   \n",
       "1419            0          0                    0          0        0   \n",
       "1420            0          0                    0          0        0   \n",
       "\n",
       "      alcohol denat  algae extract  allantoin  aloe barbadensis leaf juice  \\\n",
       "0                 1              1          0                            0   \n",
       "1                 0              0          0                            0   \n",
       "2                 0              0          0                            0   \n",
       "3                 0              1          0                            0   \n",
       "4                 0              0          0                            0   \n",
       "...             ...            ...        ...                          ...   \n",
       "1416              1              0          0                            0   \n",
       "1417              0              0          0                            0   \n",
       "1418              0              0          0                            0   \n",
       "1419              0              0          0                            0   \n",
       "1420              0              0          0                            0   \n",
       "\n",
       "      ammonium acryloyldimethyltaurate  ...  sorbitol  squalane  stearic acid  \\\n",
       "0                                    0  ...         0         0             0   \n",
       "1                                    0  ...         0         0             0   \n",
       "2                                    0  ...         0         0             0   \n",
       "3                                    0  ...         0         0             0   \n",
       "4                                    0  ...         0         0             0   \n",
       "...                                ...  ...       ...       ...           ...   \n",
       "1416                                 0  ...         0         0             0   \n",
       "1417                                 0  ...         0         0             0   \n",
       "1418                                 0  ...         1         0             0   \n",
       "1419                                 0  ...         0         0             0   \n",
       "1420                                 0  ...         0         0             0   \n",
       "\n",
       "      sucrose  titanium dioxide  tocopherol  tocopheryl acetate  trehalose  \\\n",
       "0           0                 0           0                   0          0   \n",
       "1           0                 0           0                   0          0   \n",
       "2           0                 0           0                   0          0   \n",
       "3           0                 0           0                   0          0   \n",
       "4           0                 0           0                   0          0   \n",
       "...       ...               ...         ...                 ...        ...   \n",
       "1416        0                 0           0                   1          0   \n",
       "1417        0                 0           0                   0          0   \n",
       "1418        0                 0           0                   0          0   \n",
       "1419        0                 0           1                   0          0   \n",
       "1420        0                 0           0                   0          0   \n",
       "\n",
       "      water  xanthan gum  \n",
       "0         1            0  \n",
       "1         1            0  \n",
       "2         1            0  \n",
       "3         1            0  \n",
       "4         1            0  \n",
       "...     ...          ...  \n",
       "1416      1            0  \n",
       "1417      1            0  \n",
       "1418      1            0  \n",
       "1419      1            0  \n",
       "1420      0            0  \n",
       "\n",
       "[1421 rows x 101 columns]"
      ]
     },
     "execution_count": 40,
     "metadata": {},
     "output_type": "execute_result"
    }
   ],
   "source": [
    "bow_df"
   ]
  },
  {
   "cell_type": "code",
   "execution_count": 41,
   "metadata": {},
   "outputs": [],
   "source": [
    "data = data.reset_index().drop('index', axis=1)"
   ]
  },
  {
   "cell_type": "code",
   "execution_count": 42,
   "metadata": {},
   "outputs": [],
   "source": [
    "#Concatenate the One Hot Encoding with the dataframe\n",
    "data_ML = pd.concat([data, bow_df], axis=1)"
   ]
  },
  {
   "cell_type": "code",
   "execution_count": 43,
   "metadata": {},
   "outputs": [
    {
     "data": {
      "text/plain": [
       "0"
      ]
     },
     "execution_count": 43,
     "metadata": {},
     "output_type": "execute_result"
    }
   ],
   "source": [
    "data_ML.isnull().sum().sum()"
   ]
  },
  {
   "cell_type": "code",
   "execution_count": 44,
   "metadata": {},
   "outputs": [
    {
     "data": {
      "text/plain": [
       "(1421, 114)"
      ]
     },
     "execution_count": 44,
     "metadata": {},
     "output_type": "execute_result"
    }
   ],
   "source": [
    "#Our dataset have 114 columns\n",
    "data_ML.shape"
   ]
  },
  {
   "cell_type": "code",
   "execution_count": 45,
   "metadata": {},
   "outputs": [],
   "source": [
    "### Let's save the data into a new file"
   ]
  },
  {
   "cell_type": "code",
   "execution_count": 46,
   "metadata": {},
   "outputs": [],
   "source": [
    "data_ML.to_csv('./Data/cosmetics_cleaned3.csv')"
   ]
  }
 ],
 "metadata": {
  "kernelspec": {
   "display_name": "Python 3",
   "language": "python",
   "name": "python3"
  },
  "language_info": {
   "codemirror_mode": {
    "name": "ipython",
    "version": 3
   },
   "file_extension": ".py",
   "mimetype": "text/x-python",
   "name": "python",
   "nbconvert_exporter": "python",
   "pygments_lexer": "ipython3",
   "version": "3.8.3"
  }
 },
 "nbformat": 4,
 "nbformat_minor": 4
}
