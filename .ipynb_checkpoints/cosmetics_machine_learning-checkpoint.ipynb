{
 "cells": [
  {
   "cell_type": "markdown",
   "metadata": {},
   "source": [
    "#### Libraries"
   ]
  },
  {
   "cell_type": "code",
   "execution_count": 1,
   "metadata": {},
   "outputs": [
    {
     "name": "stderr",
     "output_type": "stream",
     "text": [
      "[nltk_data] Downloading package punkt to\n",
      "[nltk_data]     C:\\Users\\phola\\AppData\\Roaming\\nltk_data...\n",
      "[nltk_data]   Package punkt is already up-to-date!\n",
      "[nltk_data] Downloading package wordnet to\n",
      "[nltk_data]     C:\\Users\\phola\\AppData\\Roaming\\nltk_data...\n",
      "[nltk_data]   Package wordnet is already up-to-date!\n"
     ]
    }
   ],
   "source": [
    "import numpy as np\n",
    "import pandas as pd\n",
    "import scipy.stats as st\n",
    "import statsmodels as sm\n",
    "import matplotlib\n",
    "import matplotlib.pyplot as plt\n",
    "import seaborn as sns\n",
    "import nltk\n",
    "nltk.download('punkt')\n",
    "from nltk.stem import PorterStemmer\n",
    "from nltk.stem import WordNetLemmatizer\n",
    "nltk.download('wordnet')\n",
    "from nltk.corpus import stopwords\n",
    "import re\n",
    "from nltk import word_tokenize"
   ]
  },
  {
   "cell_type": "markdown",
   "metadata": {},
   "source": [
    "## MACHINE LEARNING : What are the similar product ?"
   ]
  },
  {
   "cell_type": "code",
   "execution_count": 2,
   "metadata": {},
   "outputs": [],
   "source": [
    "data = pd.read_csv('./Data/cosmetics_cleaned3.csv')"
   ]
  },
  {
   "cell_type": "code",
   "execution_count": 3,
   "metadata": {},
   "outputs": [
    {
     "data": {
      "text/plain": [
       "Moisturizer    290\n",
       "Face Mask      262\n",
       "Cleanser       260\n",
       "Treatment      247\n",
       "Eye cream      199\n",
       "Sun protect    163\n",
       "Name: Label, dtype: int64"
      ]
     },
     "execution_count": 3,
     "metadata": {},
     "output_type": "execute_result"
    }
   ],
   "source": [
    "data.Label.value_counts()"
   ]
  },
  {
   "cell_type": "code",
   "execution_count": 4,
   "metadata": {},
   "outputs": [
    {
     "data": {
      "text/plain": [
       "Index(['Unnamed: 0', 'Label', 'Brand', 'Name', 'Price', 'Rank', 'Ingredients',\n",
       "       'Combination', 'Dry', 'Normal',\n",
       "       ...\n",
       "       'sorbitol', 'squalane', 'stearic acid', 'sucrose', 'titanium dioxide',\n",
       "       'tocopherol', 'tocopheryl acetate', 'trehalose', 'water',\n",
       "       'xanthan gum'],\n",
       "      dtype='object', length=115)"
      ]
     },
     "execution_count": 4,
     "metadata": {},
     "output_type": "execute_result"
    }
   ],
   "source": [
    "data.columns[:115]"
   ]
  },
  {
   "cell_type": "code",
   "execution_count": 5,
   "metadata": {},
   "outputs": [
    {
     "data": {
      "text/plain": [
       "array(['Moisturizer', 'Moisturizer', 'Moisturizer', ..., 'Sun protect',\n",
       "       'Sun protect', 'Sun protect'], dtype=object)"
      ]
     },
     "execution_count": 5,
     "metadata": {},
     "output_type": "execute_result"
    }
   ],
   "source": [
    "# One Hot Encoding on product types\n",
    "text_data = np.array(data['Label'].values)\n",
    "text_data"
   ]
  },
  {
   "cell_type": "code",
   "execution_count": 6,
   "metadata": {},
   "outputs": [
    {
     "data": {
      "text/plain": [
       "array([[0, 0, 0, ..., 0, 0, 0],\n",
       "       [0, 0, 0, ..., 0, 0, 0],\n",
       "       [0, 0, 0, ..., 0, 0, 0],\n",
       "       ...,\n",
       "       [0, 0, 0, ..., 1, 1, 0],\n",
       "       [0, 0, 0, ..., 1, 1, 0],\n",
       "       [0, 0, 0, ..., 1, 1, 0]], dtype=int64)"
      ]
     },
     "execution_count": 6,
     "metadata": {},
     "output_type": "execute_result"
    }
   ],
   "source": [
    "# Create the bag of words feature matrix\n",
    "from sklearn.feature_extraction.text import CountVectorizer\n",
    "count = CountVectorizer()\n",
    "bow = count.fit_transform(text_data)\n",
    "\n",
    "# Show feature matrix\n",
    "bow.toarray()"
   ]
  },
  {
   "cell_type": "code",
   "execution_count": 7,
   "metadata": {},
   "outputs": [],
   "source": [
    "feature_names = count.get_feature_names()"
   ]
  },
  {
   "cell_type": "code",
   "execution_count": 8,
   "metadata": {},
   "outputs": [
    {
     "data": {
      "text/html": [
       "<div>\n",
       "<style scoped>\n",
       "    .dataframe tbody tr th:only-of-type {\n",
       "        vertical-align: middle;\n",
       "    }\n",
       "\n",
       "    .dataframe tbody tr th {\n",
       "        vertical-align: top;\n",
       "    }\n",
       "\n",
       "    .dataframe thead th {\n",
       "        text-align: right;\n",
       "    }\n",
       "</style>\n",
       "<table border=\"1\" class=\"dataframe\">\n",
       "  <thead>\n",
       "    <tr style=\"text-align: right;\">\n",
       "      <th></th>\n",
       "      <th>cleanser</th>\n",
       "      <th>cream</th>\n",
       "      <th>eye</th>\n",
       "      <th>face</th>\n",
       "      <th>mask</th>\n",
       "      <th>moisturizer</th>\n",
       "      <th>protect</th>\n",
       "      <th>sun</th>\n",
       "      <th>treatment</th>\n",
       "    </tr>\n",
       "  </thead>\n",
       "  <tbody>\n",
       "    <tr>\n",
       "      <th>0</th>\n",
       "      <td>0</td>\n",
       "      <td>0</td>\n",
       "      <td>0</td>\n",
       "      <td>0</td>\n",
       "      <td>0</td>\n",
       "      <td>1</td>\n",
       "      <td>0</td>\n",
       "      <td>0</td>\n",
       "      <td>0</td>\n",
       "    </tr>\n",
       "    <tr>\n",
       "      <th>1</th>\n",
       "      <td>0</td>\n",
       "      <td>0</td>\n",
       "      <td>0</td>\n",
       "      <td>0</td>\n",
       "      <td>0</td>\n",
       "      <td>1</td>\n",
       "      <td>0</td>\n",
       "      <td>0</td>\n",
       "      <td>0</td>\n",
       "    </tr>\n",
       "    <tr>\n",
       "      <th>2</th>\n",
       "      <td>0</td>\n",
       "      <td>0</td>\n",
       "      <td>0</td>\n",
       "      <td>0</td>\n",
       "      <td>0</td>\n",
       "      <td>1</td>\n",
       "      <td>0</td>\n",
       "      <td>0</td>\n",
       "      <td>0</td>\n",
       "    </tr>\n",
       "    <tr>\n",
       "      <th>3</th>\n",
       "      <td>0</td>\n",
       "      <td>0</td>\n",
       "      <td>0</td>\n",
       "      <td>0</td>\n",
       "      <td>0</td>\n",
       "      <td>1</td>\n",
       "      <td>0</td>\n",
       "      <td>0</td>\n",
       "      <td>0</td>\n",
       "    </tr>\n",
       "    <tr>\n",
       "      <th>4</th>\n",
       "      <td>0</td>\n",
       "      <td>0</td>\n",
       "      <td>0</td>\n",
       "      <td>0</td>\n",
       "      <td>0</td>\n",
       "      <td>1</td>\n",
       "      <td>0</td>\n",
       "      <td>0</td>\n",
       "      <td>0</td>\n",
       "    </tr>\n",
       "    <tr>\n",
       "      <th>...</th>\n",
       "      <td>...</td>\n",
       "      <td>...</td>\n",
       "      <td>...</td>\n",
       "      <td>...</td>\n",
       "      <td>...</td>\n",
       "      <td>...</td>\n",
       "      <td>...</td>\n",
       "      <td>...</td>\n",
       "      <td>...</td>\n",
       "    </tr>\n",
       "    <tr>\n",
       "      <th>1416</th>\n",
       "      <td>0</td>\n",
       "      <td>0</td>\n",
       "      <td>0</td>\n",
       "      <td>0</td>\n",
       "      <td>0</td>\n",
       "      <td>0</td>\n",
       "      <td>1</td>\n",
       "      <td>1</td>\n",
       "      <td>0</td>\n",
       "    </tr>\n",
       "    <tr>\n",
       "      <th>1417</th>\n",
       "      <td>0</td>\n",
       "      <td>0</td>\n",
       "      <td>0</td>\n",
       "      <td>0</td>\n",
       "      <td>0</td>\n",
       "      <td>0</td>\n",
       "      <td>1</td>\n",
       "      <td>1</td>\n",
       "      <td>0</td>\n",
       "    </tr>\n",
       "    <tr>\n",
       "      <th>1418</th>\n",
       "      <td>0</td>\n",
       "      <td>0</td>\n",
       "      <td>0</td>\n",
       "      <td>0</td>\n",
       "      <td>0</td>\n",
       "      <td>0</td>\n",
       "      <td>1</td>\n",
       "      <td>1</td>\n",
       "      <td>0</td>\n",
       "    </tr>\n",
       "    <tr>\n",
       "      <th>1419</th>\n",
       "      <td>0</td>\n",
       "      <td>0</td>\n",
       "      <td>0</td>\n",
       "      <td>0</td>\n",
       "      <td>0</td>\n",
       "      <td>0</td>\n",
       "      <td>1</td>\n",
       "      <td>1</td>\n",
       "      <td>0</td>\n",
       "    </tr>\n",
       "    <tr>\n",
       "      <th>1420</th>\n",
       "      <td>0</td>\n",
       "      <td>0</td>\n",
       "      <td>0</td>\n",
       "      <td>0</td>\n",
       "      <td>0</td>\n",
       "      <td>0</td>\n",
       "      <td>1</td>\n",
       "      <td>1</td>\n",
       "      <td>0</td>\n",
       "    </tr>\n",
       "  </tbody>\n",
       "</table>\n",
       "<p>1421 rows × 9 columns</p>\n",
       "</div>"
      ],
      "text/plain": [
       "      cleanser  cream  eye  face  mask  moisturizer  protect  sun  treatment\n",
       "0            0      0    0     0     0            1        0    0          0\n",
       "1            0      0    0     0     0            1        0    0          0\n",
       "2            0      0    0     0     0            1        0    0          0\n",
       "3            0      0    0     0     0            1        0    0          0\n",
       "4            0      0    0     0     0            1        0    0          0\n",
       "...        ...    ...  ...   ...   ...          ...      ...  ...        ...\n",
       "1416         0      0    0     0     0            0        1    1          0\n",
       "1417         0      0    0     0     0            0        1    1          0\n",
       "1418         0      0    0     0     0            0        1    1          0\n",
       "1419         0      0    0     0     0            0        1    1          0\n",
       "1420         0      0    0     0     0            0        1    1          0\n",
       "\n",
       "[1421 rows x 9 columns]"
      ]
     },
     "execution_count": 8,
     "metadata": {},
     "output_type": "execute_result"
    }
   ],
   "source": [
    "bow_df = pd.DataFrame(bow.toarray(), columns=feature_names)\n",
    "bow_df"
   ]
  },
  {
   "cell_type": "code",
   "execution_count": 9,
   "metadata": {},
   "outputs": [],
   "source": [
    "#Concatenate the One Hot Encoding with the dataframe\n",
    "data_ML = pd.concat([data, bow_df], axis=1)"
   ]
  },
  {
   "cell_type": "code",
   "execution_count": 10,
   "metadata": {},
   "outputs": [
    {
     "data": {
      "text/html": [
       "<div>\n",
       "<style scoped>\n",
       "    .dataframe tbody tr th:only-of-type {\n",
       "        vertical-align: middle;\n",
       "    }\n",
       "\n",
       "    .dataframe tbody tr th {\n",
       "        vertical-align: top;\n",
       "    }\n",
       "\n",
       "    .dataframe thead th {\n",
       "        text-align: right;\n",
       "    }\n",
       "</style>\n",
       "<table border=\"1\" class=\"dataframe\">\n",
       "  <thead>\n",
       "    <tr style=\"text-align: right;\">\n",
       "      <th></th>\n",
       "      <th>Unnamed: 0</th>\n",
       "      <th>Label</th>\n",
       "      <th>Brand</th>\n",
       "      <th>Name</th>\n",
       "      <th>Price</th>\n",
       "      <th>Rank</th>\n",
       "      <th>Ingredients</th>\n",
       "      <th>Combination</th>\n",
       "      <th>Dry</th>\n",
       "      <th>Normal</th>\n",
       "      <th>...</th>\n",
       "      <th>xanthan gum</th>\n",
       "      <th>cleanser</th>\n",
       "      <th>cream</th>\n",
       "      <th>eye</th>\n",
       "      <th>face</th>\n",
       "      <th>mask</th>\n",
       "      <th>moisturizer</th>\n",
       "      <th>protect</th>\n",
       "      <th>sun</th>\n",
       "      <th>treatment</th>\n",
       "    </tr>\n",
       "  </thead>\n",
       "  <tbody>\n",
       "    <tr>\n",
       "      <th>0</th>\n",
       "      <td>0</td>\n",
       "      <td>Moisturizer</td>\n",
       "      <td>LA MER</td>\n",
       "      <td>Crème de la Mer</td>\n",
       "      <td>175</td>\n",
       "      <td>4.1</td>\n",
       "      <td>Algae (Seaweed) Extract, Mineral Oil, Petrolat...</td>\n",
       "      <td>1</td>\n",
       "      <td>1</td>\n",
       "      <td>1</td>\n",
       "      <td>...</td>\n",
       "      <td>0</td>\n",
       "      <td>0</td>\n",
       "      <td>0</td>\n",
       "      <td>0</td>\n",
       "      <td>0</td>\n",
       "      <td>0</td>\n",
       "      <td>1</td>\n",
       "      <td>0</td>\n",
       "      <td>0</td>\n",
       "      <td>0</td>\n",
       "    </tr>\n",
       "    <tr>\n",
       "      <th>1</th>\n",
       "      <td>1</td>\n",
       "      <td>Moisturizer</td>\n",
       "      <td>SK-II</td>\n",
       "      <td>Facial Treatment Essence</td>\n",
       "      <td>179</td>\n",
       "      <td>4.1</td>\n",
       "      <td>Galactomyces Ferment Filtrate (Pitera), Butyle...</td>\n",
       "      <td>1</td>\n",
       "      <td>1</td>\n",
       "      <td>1</td>\n",
       "      <td>...</td>\n",
       "      <td>0</td>\n",
       "      <td>0</td>\n",
       "      <td>0</td>\n",
       "      <td>0</td>\n",
       "      <td>0</td>\n",
       "      <td>0</td>\n",
       "      <td>1</td>\n",
       "      <td>0</td>\n",
       "      <td>0</td>\n",
       "      <td>0</td>\n",
       "    </tr>\n",
       "    <tr>\n",
       "      <th>2</th>\n",
       "      <td>2</td>\n",
       "      <td>Moisturizer</td>\n",
       "      <td>DRUNK ELEPHANT</td>\n",
       "      <td>Protini™ Polypeptide Cream</td>\n",
       "      <td>68</td>\n",
       "      <td>4.4</td>\n",
       "      <td>Water, Dicaprylyl Carbonate, Glycerin, Ceteary...</td>\n",
       "      <td>1</td>\n",
       "      <td>1</td>\n",
       "      <td>1</td>\n",
       "      <td>...</td>\n",
       "      <td>0</td>\n",
       "      <td>0</td>\n",
       "      <td>0</td>\n",
       "      <td>0</td>\n",
       "      <td>0</td>\n",
       "      <td>0</td>\n",
       "      <td>1</td>\n",
       "      <td>0</td>\n",
       "      <td>0</td>\n",
       "      <td>0</td>\n",
       "    </tr>\n",
       "    <tr>\n",
       "      <th>3</th>\n",
       "      <td>3</td>\n",
       "      <td>Moisturizer</td>\n",
       "      <td>LA MER</td>\n",
       "      <td>The Moisturizing Soft Cream</td>\n",
       "      <td>175</td>\n",
       "      <td>3.8</td>\n",
       "      <td>Algae (Seaweed) Extract, Cyclopentasiloxane, P...</td>\n",
       "      <td>1</td>\n",
       "      <td>1</td>\n",
       "      <td>1</td>\n",
       "      <td>...</td>\n",
       "      <td>0</td>\n",
       "      <td>0</td>\n",
       "      <td>0</td>\n",
       "      <td>0</td>\n",
       "      <td>0</td>\n",
       "      <td>0</td>\n",
       "      <td>1</td>\n",
       "      <td>0</td>\n",
       "      <td>0</td>\n",
       "      <td>0</td>\n",
       "    </tr>\n",
       "    <tr>\n",
       "      <th>4</th>\n",
       "      <td>4</td>\n",
       "      <td>Moisturizer</td>\n",
       "      <td>IT COSMETICS</td>\n",
       "      <td>Your Skin But Better™ CC+™ Cream with SPF 50+</td>\n",
       "      <td>38</td>\n",
       "      <td>4.1</td>\n",
       "      <td>Water, Snail Secretion Filtrate, Phenyl Trimet...</td>\n",
       "      <td>1</td>\n",
       "      <td>1</td>\n",
       "      <td>1</td>\n",
       "      <td>...</td>\n",
       "      <td>0</td>\n",
       "      <td>0</td>\n",
       "      <td>0</td>\n",
       "      <td>0</td>\n",
       "      <td>0</td>\n",
       "      <td>0</td>\n",
       "      <td>1</td>\n",
       "      <td>0</td>\n",
       "      <td>0</td>\n",
       "      <td>0</td>\n",
       "    </tr>\n",
       "    <tr>\n",
       "      <th>...</th>\n",
       "      <td>...</td>\n",
       "      <td>...</td>\n",
       "      <td>...</td>\n",
       "      <td>...</td>\n",
       "      <td>...</td>\n",
       "      <td>...</td>\n",
       "      <td>...</td>\n",
       "      <td>...</td>\n",
       "      <td>...</td>\n",
       "      <td>...</td>\n",
       "      <td>...</td>\n",
       "      <td>...</td>\n",
       "      <td>...</td>\n",
       "      <td>...</td>\n",
       "      <td>...</td>\n",
       "      <td>...</td>\n",
       "      <td>...</td>\n",
       "      <td>...</td>\n",
       "      <td>...</td>\n",
       "      <td>...</td>\n",
       "      <td>...</td>\n",
       "    </tr>\n",
       "    <tr>\n",
       "      <th>1416</th>\n",
       "      <td>1416</td>\n",
       "      <td>Sun protect</td>\n",
       "      <td>KORRES</td>\n",
       "      <td>Yoghurt Nourishing Fluid Veil Face Sunscreen B...</td>\n",
       "      <td>35</td>\n",
       "      <td>3.9</td>\n",
       "      <td>Water, Alcohol Denat., Potassium Cetyl Phospha...</td>\n",
       "      <td>1</td>\n",
       "      <td>1</td>\n",
       "      <td>1</td>\n",
       "      <td>...</td>\n",
       "      <td>0</td>\n",
       "      <td>0</td>\n",
       "      <td>0</td>\n",
       "      <td>0</td>\n",
       "      <td>0</td>\n",
       "      <td>0</td>\n",
       "      <td>0</td>\n",
       "      <td>1</td>\n",
       "      <td>1</td>\n",
       "      <td>0</td>\n",
       "    </tr>\n",
       "    <tr>\n",
       "      <th>1417</th>\n",
       "      <td>1417</td>\n",
       "      <td>Sun protect</td>\n",
       "      <td>KATE SOMERVILLE</td>\n",
       "      <td>Daily Deflector™ Waterlight Broad Spectrum SPF...</td>\n",
       "      <td>48</td>\n",
       "      <td>3.6</td>\n",
       "      <td>Water, Isododecane, Dimethicone, Butyloctyl Sa...</td>\n",
       "      <td>0</td>\n",
       "      <td>0</td>\n",
       "      <td>0</td>\n",
       "      <td>...</td>\n",
       "      <td>0</td>\n",
       "      <td>0</td>\n",
       "      <td>0</td>\n",
       "      <td>0</td>\n",
       "      <td>0</td>\n",
       "      <td>0</td>\n",
       "      <td>0</td>\n",
       "      <td>1</td>\n",
       "      <td>1</td>\n",
       "      <td>0</td>\n",
       "    </tr>\n",
       "    <tr>\n",
       "      <th>1418</th>\n",
       "      <td>1418</td>\n",
       "      <td>Sun protect</td>\n",
       "      <td>VITA LIBERATA</td>\n",
       "      <td>Self Tan Dry Oil SPF 50</td>\n",
       "      <td>54</td>\n",
       "      <td>3.5</td>\n",
       "      <td>Water, Dihydroxyacetone, Glycerin, Sclerocarya...</td>\n",
       "      <td>0</td>\n",
       "      <td>0</td>\n",
       "      <td>0</td>\n",
       "      <td>...</td>\n",
       "      <td>0</td>\n",
       "      <td>0</td>\n",
       "      <td>0</td>\n",
       "      <td>0</td>\n",
       "      <td>0</td>\n",
       "      <td>0</td>\n",
       "      <td>0</td>\n",
       "      <td>1</td>\n",
       "      <td>1</td>\n",
       "      <td>0</td>\n",
       "    </tr>\n",
       "    <tr>\n",
       "      <th>1419</th>\n",
       "      <td>1419</td>\n",
       "      <td>Sun protect</td>\n",
       "      <td>ST. TROPEZ TANNING ESSENTIALS</td>\n",
       "      <td>Pro Light Self Tan Bronzing Mist</td>\n",
       "      <td>20</td>\n",
       "      <td>1.0</td>\n",
       "      <td>Water, Dihydroxyacetone, Propylene Glycol, PPG...</td>\n",
       "      <td>0</td>\n",
       "      <td>0</td>\n",
       "      <td>0</td>\n",
       "      <td>...</td>\n",
       "      <td>0</td>\n",
       "      <td>0</td>\n",
       "      <td>0</td>\n",
       "      <td>0</td>\n",
       "      <td>0</td>\n",
       "      <td>0</td>\n",
       "      <td>0</td>\n",
       "      <td>1</td>\n",
       "      <td>1</td>\n",
       "      <td>0</td>\n",
       "    </tr>\n",
       "    <tr>\n",
       "      <th>1420</th>\n",
       "      <td>1420</td>\n",
       "      <td>Sun protect</td>\n",
       "      <td>DERMAFLASH</td>\n",
       "      <td>DERMAPROTECT Daily Defense Broad Spectrum SPF 50+</td>\n",
       "      <td>45</td>\n",
       "      <td>0.0</td>\n",
       "      <td>AQUA/WATER, ETHYLHEXYL METHOXYCINNAMATE, DIMET...</td>\n",
       "      <td>1</td>\n",
       "      <td>1</td>\n",
       "      <td>1</td>\n",
       "      <td>...</td>\n",
       "      <td>0</td>\n",
       "      <td>0</td>\n",
       "      <td>0</td>\n",
       "      <td>0</td>\n",
       "      <td>0</td>\n",
       "      <td>0</td>\n",
       "      <td>0</td>\n",
       "      <td>1</td>\n",
       "      <td>1</td>\n",
       "      <td>0</td>\n",
       "    </tr>\n",
       "  </tbody>\n",
       "</table>\n",
       "<p>1421 rows × 124 columns</p>\n",
       "</div>"
      ],
      "text/plain": [
       "      Unnamed: 0        Label                          Brand  \\\n",
       "0              0  Moisturizer                         LA MER   \n",
       "1              1  Moisturizer                          SK-II   \n",
       "2              2  Moisturizer                 DRUNK ELEPHANT   \n",
       "3              3  Moisturizer                         LA MER   \n",
       "4              4  Moisturizer                   IT COSMETICS   \n",
       "...          ...          ...                            ...   \n",
       "1416        1416  Sun protect                         KORRES   \n",
       "1417        1417  Sun protect                KATE SOMERVILLE   \n",
       "1418        1418  Sun protect                  VITA LIBERATA   \n",
       "1419        1419  Sun protect  ST. TROPEZ TANNING ESSENTIALS   \n",
       "1420        1420  Sun protect                     DERMAFLASH   \n",
       "\n",
       "                                                   Name  Price  Rank  \\\n",
       "0                                       Crème de la Mer    175   4.1   \n",
       "1                              Facial Treatment Essence    179   4.1   \n",
       "2                            Protini™ Polypeptide Cream     68   4.4   \n",
       "3                           The Moisturizing Soft Cream    175   3.8   \n",
       "4         Your Skin But Better™ CC+™ Cream with SPF 50+     38   4.1   \n",
       "...                                                 ...    ...   ...   \n",
       "1416  Yoghurt Nourishing Fluid Veil Face Sunscreen B...     35   3.9   \n",
       "1417  Daily Deflector™ Waterlight Broad Spectrum SPF...     48   3.6   \n",
       "1418                            Self Tan Dry Oil SPF 50     54   3.5   \n",
       "1419                   Pro Light Self Tan Bronzing Mist     20   1.0   \n",
       "1420  DERMAPROTECT Daily Defense Broad Spectrum SPF 50+     45   0.0   \n",
       "\n",
       "                                            Ingredients  Combination  Dry  \\\n",
       "0     Algae (Seaweed) Extract, Mineral Oil, Petrolat...            1    1   \n",
       "1     Galactomyces Ferment Filtrate (Pitera), Butyle...            1    1   \n",
       "2     Water, Dicaprylyl Carbonate, Glycerin, Ceteary...            1    1   \n",
       "3     Algae (Seaweed) Extract, Cyclopentasiloxane, P...            1    1   \n",
       "4     Water, Snail Secretion Filtrate, Phenyl Trimet...            1    1   \n",
       "...                                                 ...          ...  ...   \n",
       "1416  Water, Alcohol Denat., Potassium Cetyl Phospha...            1    1   \n",
       "1417  Water, Isododecane, Dimethicone, Butyloctyl Sa...            0    0   \n",
       "1418  Water, Dihydroxyacetone, Glycerin, Sclerocarya...            0    0   \n",
       "1419  Water, Dihydroxyacetone, Propylene Glycol, PPG...            0    0   \n",
       "1420  AQUA/WATER, ETHYLHEXYL METHOXYCINNAMATE, DIMET...            1    1   \n",
       "\n",
       "      Normal  ...  xanthan gum  cleanser  cream eye  face  mask  moisturizer  \\\n",
       "0          1  ...            0         0      0   0     0     0            1   \n",
       "1          1  ...            0         0      0   0     0     0            1   \n",
       "2          1  ...            0         0      0   0     0     0            1   \n",
       "3          1  ...            0         0      0   0     0     0            1   \n",
       "4          1  ...            0         0      0   0     0     0            1   \n",
       "...      ...  ...          ...       ...    ...  ..   ...   ...          ...   \n",
       "1416       1  ...            0         0      0   0     0     0            0   \n",
       "1417       0  ...            0         0      0   0     0     0            0   \n",
       "1418       0  ...            0         0      0   0     0     0            0   \n",
       "1419       0  ...            0         0      0   0     0     0            0   \n",
       "1420       1  ...            0         0      0   0     0     0            0   \n",
       "\n",
       "      protect  sun  treatment  \n",
       "0           0    0          0  \n",
       "1           0    0          0  \n",
       "2           0    0          0  \n",
       "3           0    0          0  \n",
       "4           0    0          0  \n",
       "...       ...  ...        ...  \n",
       "1416        1    1          0  \n",
       "1417        1    1          0  \n",
       "1418        1    1          0  \n",
       "1419        1    1          0  \n",
       "1420        1    1          0  \n",
       "\n",
       "[1421 rows x 124 columns]"
      ]
     },
     "execution_count": 10,
     "metadata": {},
     "output_type": "execute_result"
    }
   ],
   "source": [
    "data_ML"
   ]
  },
  {
   "cell_type": "code",
   "execution_count": 11,
   "metadata": {},
   "outputs": [],
   "source": [
    "#Add a column to calculate the part of harmful ingredients per product\n",
    "data_ML[\"Harmful_part\"] = data.Harmful_Substances / data.Ingredients.str.len() * 100"
   ]
  },
  {
   "cell_type": "code",
   "execution_count": 12,
   "metadata": {},
   "outputs": [
    {
     "data": {
      "text/plain": [
       "Index(['titanium dioxide', 'tocopherol', 'tocopheryl acetate', 'trehalose',\n",
       "       'water', 'xanthan gum', 'cleanser', 'cream', 'eye', 'face', 'mask',\n",
       "       'moisturizer', 'protect', 'sun', 'treatment', 'Harmful_part'],\n",
       "      dtype='object')"
      ]
     },
     "execution_count": 12,
     "metadata": {},
     "output_type": "execute_result"
    }
   ],
   "source": [
    "data_ML.columns[109:]"
   ]
  },
  {
   "cell_type": "code",
   "execution_count": 13,
   "metadata": {},
   "outputs": [],
   "source": [
    "#Drop the columns water, price, rank\n",
    "#'cream','eye','face','mask','moisturizer','sun','treatment'\n",
    "\n",
    "list_columns_float = ['cleanser', 'cream', 'eye', 'face', 'mask', 'moisturizer', 'protect',\n",
    "       'sun', 'treatment', '-hexanediol', 'acrylates', 'acrylates copolymer', 'adenosine',\n",
    "       'alcohol', 'alcohol denat', 'algae extract', 'allantoin',\n",
    "       'aloe barbadensis leaf juice', 'ammonium acryloyldimethyltaurate',\n",
    "       'aqua', 'arginine', 'ascorbic acid', 'ascorbyl glucoside',\n",
    "       'ascorbyl palmitate', 'behenyl alcohol', 'betaine', 'bht',\n",
    "       'butylene glycol', 'butyloctyl salicylate',\n",
    "       'butyrospermum parkii butter', 'c- alkyl benzoate', 'caffeine',\n",
    "       'camellia sinensis leaf extract', 'caprylic', 'caprylyl glycol',\n",
    "       'carbomer', 'cetearyl alcohol', 'cetyl alcohol', 'chlorphenesin', 'ci',\n",
    "       'citric acid', 'citronellol', 'cocamidopropyl betaine',\n",
    "       'cucumis sativus fruit extract', 'cyclohexasiloxane',\n",
    "       'cyclopentasiloxane', 'dimethicone', 'dipotassium glycyrrhizate',\n",
    "       'dipropylene glycol', 'disodium edta', 'ethylhexylglycerin',\n",
    "       'fragrance', 'geraniol', 'glycereth-', 'glycerin', 'glyceryl stearate',\n",
    "       'glycolic acid', 'glycyrrhiza glabra root extract',\n",
    "       'helianthus annuus seed oil', 'hexylene glycol',\n",
    "       'hydroxyethyl acrylate', 'iron oxides', 'isododecane',\n",
    "       'isononyl isononanoate', 'kaolin', 'lactic acid', 'lecithin',\n",
    "       'limonene', 'linalool', 'magnesium aluminum silicate',\n",
    "       'methyl gluceth-', 'methylparaben', 'mica', 'niacinamide', 'panthenol',\n",
    "       'parfum', 'peg', 'peg-', 'peg- dimethicone',\n",
    "       'peg- hydrogenated castor oil', 'peg- stearate', 'pentylene glycol',\n",
    "       'phenoxyethanol', 'phenyl trimethicone', 'polymethylsilsesquioxane',\n",
    "       'polysilicone-', 'polysorbate', 'potassium hydroxide',\n",
    "       'potassium sorbate', 'propanediol', 'propylene glycol',\n",
    "       'retinyl palmitate', 'salicylic acid', 'silica', 'sodium benzoate',\n",
    "       'sodium chloride', 'sodium citrate', 'sodium hyaluronate',\n",
    "       'sodium hydroxide', 'sodium pca', 'sorbitol', 'squalane',\n",
    "       'stearic acid', 'sucrose', 'titanium dioxide', 'tocopherol', 'tocopheryl acetate', 'trehalose', 'xanthan gum']"
   ]
  },
  {
   "cell_type": "code",
   "execution_count": 14,
   "metadata": {},
   "outputs": [],
   "source": [
    "X = data_ML.loc[:, list_columns_float].values"
   ]
  },
  {
   "cell_type": "code",
   "execution_count": 15,
   "metadata": {},
   "outputs": [
    {
     "data": {
      "text/plain": [
       "array([[0, 0, 0, ..., 0, 0, 0],\n",
       "       [0, 0, 0, ..., 0, 0, 0],\n",
       "       [0, 0, 0, ..., 0, 0, 0],\n",
       "       ...,\n",
       "       [0, 0, 0, ..., 0, 0, 0],\n",
       "       [0, 0, 0, ..., 0, 0, 0],\n",
       "       [0, 0, 0, ..., 0, 0, 0]], dtype=int64)"
      ]
     },
     "execution_count": 15,
     "metadata": {},
     "output_type": "execute_result"
    }
   ],
   "source": [
    "X"
   ]
  },
  {
   "cell_type": "code",
   "execution_count": 16,
   "metadata": {},
   "outputs": [],
   "source": [
    "X = X.astype(float)"
   ]
  },
  {
   "cell_type": "code",
   "execution_count": 17,
   "metadata": {},
   "outputs": [],
   "source": [
    "from scipy.sparse.linalg import svds\n",
    "U, sigma, Vt = svds(X, k = 10)"
   ]
  },
  {
   "cell_type": "code",
   "execution_count": 18,
   "metadata": {},
   "outputs": [
    {
     "data": {
      "text/plain": [
       "(1421, 10)"
      ]
     },
     "execution_count": 18,
     "metadata": {},
     "output_type": "execute_result"
    }
   ],
   "source": [
    "U.shape"
   ]
  },
  {
   "cell_type": "code",
   "execution_count": 19,
   "metadata": {},
   "outputs": [
    {
     "data": {
      "text/plain": [
       "0                                         Crème de la Mer\n",
       "1                                Facial Treatment Essence\n",
       "2                              Protini™ Polypeptide Cream\n",
       "3                             The Moisturizing Soft Cream\n",
       "4           Your Skin But Better™ CC+™ Cream with SPF 50+\n",
       "                              ...                        \n",
       "1416    Yoghurt Nourishing Fluid Veil Face Sunscreen B...\n",
       "1417    Daily Deflector™ Waterlight Broad Spectrum SPF...\n",
       "1418                              Self Tan Dry Oil SPF 50\n",
       "1419                     Pro Light Self Tan Bronzing Mist\n",
       "1420    DERMAPROTECT Daily Defense Broad Spectrum SPF 50+\n",
       "Name: Name, Length: 1421, dtype: object"
      ]
     },
     "execution_count": 19,
     "metadata": {},
     "output_type": "execute_result"
    }
   ],
   "source": [
    "data['Name']"
   ]
  },
  {
   "cell_type": "code",
   "execution_count": 20,
   "metadata": {},
   "outputs": [
    {
     "data": {
      "text/plain": [
       "array([ 0.05290772, -0.04555552, -0.0070136 ,  0.05144729,  0.01084423,\n",
       "        0.04266688,  0.01189289, -0.02836686, -0.00335185,  0.02833186])"
      ]
     },
     "execution_count": 20,
     "metadata": {},
     "output_type": "execute_result"
    }
   ],
   "source": [
    "U[0]"
   ]
  },
  {
   "cell_type": "code",
   "execution_count": 21,
   "metadata": {},
   "outputs": [],
   "source": [
    "from sklearn.metrics.pairwise import cosine_similarity"
   ]
  },
  {
   "cell_type": "code",
   "execution_count": 22,
   "metadata": {},
   "outputs": [
    {
     "data": {
      "text/plain": [
       "array([[1.]])"
      ]
     },
     "execution_count": 22,
     "metadata": {},
     "output_type": "execute_result"
    }
   ],
   "source": [
    "cosine_similarity([U[0]], [U[0]])"
   ]
  },
  {
   "cell_type": "code",
   "execution_count": 23,
   "metadata": {},
   "outputs": [],
   "source": [
    "sim = cosine_similarity([U[2]], U)"
   ]
  },
  {
   "cell_type": "code",
   "execution_count": 24,
   "metadata": {},
   "outputs": [
    {
     "name": "stdout",
     "output_type": "stream",
     "text": [
      "Protini™ Polypeptide Cream 1.0\n",
      "Super Multi-Corrective Cream 0.97\n",
      "Wild Rose + Vitamin C Advanced Brightening Sleeping Facial 0.97\n",
      "R.N.A. POWER Face Cream 0.96\n",
      "Vinosource Intense Moisture Rescue Cream 0.96\n",
      "Lotus Youth Preserve Moisturizer 0.96\n",
      "Resveratrol Lift Night Infusion Cream 0.96\n",
      "Water Drop Hydrating Moisturizer 0.96\n",
      "Ultra Repair® Hydrating Serum 0.94\n",
      "Watermelon Pink Juice Moisturizer 0.93\n"
     ]
    }
   ],
   "source": [
    "for idx in np.argsort(sim)[0][::-1][:10]:\n",
    "    print(data.iloc[idx]['Name'], np.trunc(sim[0][idx]*100)/100) "
   ]
  },
  {
   "cell_type": "code",
   "execution_count": 25,
   "metadata": {},
   "outputs": [],
   "source": [
    "#Find similar product with an input and sort by price\n",
    "def similar_product_byprice(x):\n",
    "    sim = cosine_similarity([U[x]], U)\n",
    "    \n",
    "    similar_product = [(data.iloc[idx][['Name','Price']], np.trunc(sim[0][idx]*100)/100) for idx in np.argsort(sim)[0][::-1][:10]]\n",
    "    return similar_product"
   ]
  },
  {
   "cell_type": "code",
   "execution_count": 26,
   "metadata": {},
   "outputs": [
    {
     "data": {
      "text/plain": [
       "[(Name     Your Skin But Better™ CC+™ Cream with SPF 50+\n",
       "  Price                                               38\n",
       "  Name: 4, dtype: object,\n",
       "  1.0),\n",
       " (Name     Your Skin But Better™ CC+Illumination™ Cream w...\n",
       "  Price                                                   38\n",
       "  Name: 70, dtype: object,\n",
       "  0.99),\n",
       " (Name     Plantscription™ SPF 25 Power Anti-Aging Cream\n",
       "  Price                                               60\n",
       "  Name: 160, dtype: object,\n",
       "  0.99),\n",
       " (Name     Dr. Andrew Weil For Origins™ Mega-Bright SPF 3...\n",
       "  Price                                                   56\n",
       "  Name: 154, dtype: object,\n",
       "  0.99),\n",
       " (Name     Cicapair ™ Tiger Grass Color Correcting Treatm...\n",
       "  Price                                                   52\n",
       "  Name: 63, dtype: object,\n",
       "  0.98),\n",
       " (Name     Black Label Detox BB Beauty Balm\n",
       "  Price                                  36\n",
       "  Name: 212, dtype: object,\n",
       "  0.98),\n",
       " (Name     Color Control Cushion Compact Broad Spectrum S...\n",
       "  Price                                                   60\n",
       "  Name: 61, dtype: object,\n",
       "  0.96),\n",
       " (Name     Even Better Skin Tone Correcting Moisturizer B...\n",
       "  Price                                                   50\n",
       "  Name: 263, dtype: object,\n",
       "  0.91),\n",
       " (Name     The Moisturizing Soft Lotion\n",
       "  Price                             270\n",
       "  Name: 161, dtype: object,\n",
       "  0.9),\n",
       " (Name     Beauty Water\n",
       "  Price              30\n",
       "  Name: 58, dtype: object,\n",
       "  0.89)]"
      ]
     },
     "execution_count": 26,
     "metadata": {},
     "output_type": "execute_result"
    }
   ],
   "source": [
    "similar_product_byprice(4)"
   ]
  },
  {
   "cell_type": "code",
   "execution_count": 27,
   "metadata": {},
   "outputs": [],
   "source": [
    "data[\"Harmful_part\"] = data.Harmful_Substances / data.Ingredients.str.len() * 100"
   ]
  },
  {
   "cell_type": "code",
   "execution_count": 28,
   "metadata": {},
   "outputs": [],
   "source": [
    "#Find similar product with an input and sort by part of harmful ingredients\n",
    "def similar_product_byharmfulpart(x):\n",
    "    sim = cosine_similarity([U[x]], U)\n",
    "    \n",
    "    similar_product = [(data.iloc[idx][['Name','Harmful_part']], np.trunc(sim[0][idx]*100)/100) for idx in np.argsort(sim)[0][::-1][:10]]\n",
    "    return similar_product"
   ]
  },
  {
   "cell_type": "code",
   "execution_count": 29,
   "metadata": {},
   "outputs": [
    {
     "data": {
      "text/plain": [
       "[(Name            Protini™ Polypeptide Cream\n",
       "  Harmful_part                      0.093633\n",
       "  Name: 2, dtype: object,\n",
       "  1.0),\n",
       " (Name            Super Multi-Corrective Cream\n",
       "  Harmful_part                        0.469484\n",
       "  Name: 117, dtype: object,\n",
       "  0.97),\n",
       " (Name            Wild Rose + Vitamin C Advanced Brightening Sle...\n",
       "  Harmful_part                                            0.0944287\n",
       "  Name: 127, dtype: object,\n",
       "  0.97),\n",
       " (Name            R.N.A. POWER Face Cream\n",
       "  Harmful_part                    1.10803\n",
       "  Name: 19, dtype: object,\n",
       "  0.96),\n",
       " (Name            Vinosource Intense Moisture Rescue Cream\n",
       "  Harmful_part                                    0.865801\n",
       "  Name: 224, dtype: object,\n",
       "  0.96),\n",
       " (Name            Lotus Youth Preserve Moisturizer\n",
       "  Harmful_part                            0.396825\n",
       "  Name: 10, dtype: object,\n",
       "  0.96),\n",
       " (Name            Resveratrol Lift Night Infusion Cream\n",
       "  Harmful_part                                 0.496278\n",
       "  Name: 164, dtype: object,\n",
       "  0.96),\n",
       " (Name            Water Drop Hydrating Moisturizer\n",
       "  Harmful_part                            0.689655\n",
       "  Name: 257, dtype: object,\n",
       "  0.96),\n",
       " (Name            Ultra Repair® Hydrating Serum\n",
       "  Harmful_part                         0.178891\n",
       "  Name: 153, dtype: object,\n",
       "  0.94),\n",
       " (Name            Watermelon Pink Juice Moisturizer\n",
       "  Harmful_part                                    0\n",
       "  Name: 96, dtype: object,\n",
       "  0.93)]"
      ]
     },
     "execution_count": 29,
     "metadata": {},
     "output_type": "execute_result"
    }
   ],
   "source": [
    "similar_product_byharmfulpart(2)"
   ]
  },
  {
   "cell_type": "code",
   "execution_count": null,
   "metadata": {},
   "outputs": [],
   "source": []
  }
 ],
 "metadata": {
  "kernelspec": {
   "display_name": "Python 3",
   "language": "python",
   "name": "python3"
  },
  "language_info": {
   "codemirror_mode": {
    "name": "ipython",
    "version": 3
   },
   "file_extension": ".py",
   "mimetype": "text/x-python",
   "name": "python",
   "nbconvert_exporter": "python",
   "pygments_lexer": "ipython3",
   "version": "3.8.3"
  }
 },
 "nbformat": 4,
 "nbformat_minor": 4
}
