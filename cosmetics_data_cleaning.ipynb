{
 "cells": [
  {
   "cell_type": "markdown",
   "metadata": {},
   "source": [
    "## 1. Introduction"
   ]
  },
  {
   "cell_type": "markdown",
   "metadata": {},
   "source": [
    "#### Libraries"
   ]
  },
  {
   "cell_type": "code",
   "execution_count": 50,
   "metadata": {},
   "outputs": [
    {
     "name": "stderr",
     "output_type": "stream",
     "text": [
      "[nltk_data] Downloading package punkt to\n",
      "[nltk_data]     C:\\Users\\amandine.gauberville\\AppData\\Roaming\\nltk_dat\n",
      "[nltk_data]     a...\n",
      "[nltk_data]   Package punkt is already up-to-date!\n",
      "[nltk_data] Downloading package wordnet to\n",
      "[nltk_data]     C:\\Users\\amandine.gauberville\\AppData\\Roaming\\nltk_dat\n",
      "[nltk_data]     a...\n",
      "[nltk_data]   Package wordnet is already up-to-date!\n"
     ]
    }
   ],
   "source": [
    "import numpy as np\n",
    "import pandas as pd\n",
    "import scipy.stats as st\n",
    "import statsmodels as sm\n",
    "import matplotlib\n",
    "import matplotlib.pyplot as plt\n",
    "import seaborn as sns\n",
    "import nltk\n",
    "nltk.download('punkt')\n",
    "from nltk.stem import PorterStemmer\n",
    "from nltk.stem import WordNetLemmatizer\n",
    "nltk.download('wordnet')\n",
    "from nltk.corpus import stopwords\n",
    "import re\n",
    "from nltk import word_tokenize"
   ]
  },
  {
   "cell_type": "markdown",
   "metadata": {},
   "source": [
    "#### Read the toxic_beauty_ingredients file"
   ]
  },
  {
   "cell_type": "code",
   "execution_count": 51,
   "metadata": {
    "scrolled": true
   },
   "outputs": [],
   "source": [
    "toxic_beauty_ingredients = pd.read_csv('./Data/toxic beauty ingredients.csv', sep=\";\", encoding='latin1')\n",
    "#The list of ingredients comes out as the name of the column, we will save it in a list\n",
    "toxic_ingredients_list = str(toxic_beauty_ingredients.columns[0]).split(\";\")"
   ]
  },
  {
   "cell_type": "markdown",
   "metadata": {},
   "source": [
    "Some strings begin with space, let's use rstrip() to remove them and put every string in lowercase."
   ]
  },
  {
   "cell_type": "code",
   "execution_count": 52,
   "metadata": {},
   "outputs": [],
   "source": [
    "toxic_ingredients_list = [string.rstrip().lower() for string in toxic_ingredients_list]"
   ]
  },
  {
   "cell_type": "markdown",
   "metadata": {},
   "source": [
    "The last string in the list is empty, we'll remove it."
   ]
  },
  {
   "cell_type": "code",
   "execution_count": 53,
   "metadata": {},
   "outputs": [],
   "source": [
    "toxic_ingredients_list.remove('')"
   ]
  },
  {
   "cell_type": "markdown",
   "metadata": {},
   "source": [
    "#### Read the cosmetic file containing our dataset"
   ]
  },
  {
   "cell_type": "code",
   "execution_count": 54,
   "metadata": {},
   "outputs": [],
   "source": [
    "data = pd.read_csv('./Data/cosmetics-final.csv', sep=\";\")"
   ]
  },
  {
   "cell_type": "markdown",
   "metadata": {},
   "source": [
    "#### Let's take a look at our dataframe "
   ]
  },
  {
   "cell_type": "code",
   "execution_count": 55,
   "metadata": {},
   "outputs": [
    {
     "data": {
      "text/html": [
       "<div>\n",
       "<style scoped>\n",
       "    .dataframe tbody tr th:only-of-type {\n",
       "        vertical-align: middle;\n",
       "    }\n",
       "\n",
       "    .dataframe tbody tr th {\n",
       "        vertical-align: top;\n",
       "    }\n",
       "\n",
       "    .dataframe thead th {\n",
       "        text-align: right;\n",
       "    }\n",
       "</style>\n",
       "<table border=\"1\" class=\"dataframe\">\n",
       "  <thead>\n",
       "    <tr style=\"text-align: right;\">\n",
       "      <th></th>\n",
       "      <th>Label</th>\n",
       "      <th>Brand</th>\n",
       "      <th>Name</th>\n",
       "      <th>Price</th>\n",
       "      <th>Rank</th>\n",
       "      <th>Ingredients</th>\n",
       "      <th>Combination</th>\n",
       "      <th>Dry</th>\n",
       "      <th>Normal</th>\n",
       "      <th>Oily</th>\n",
       "      <th>Sensitive</th>\n",
       "    </tr>\n",
       "  </thead>\n",
       "  <tbody>\n",
       "    <tr>\n",
       "      <th>0</th>\n",
       "      <td>Moisturizer</td>\n",
       "      <td>LA MER</td>\n",
       "      <td>Crème de la Mer</td>\n",
       "      <td>175</td>\n",
       "      <td>4.1</td>\n",
       "      <td>Algae (Seaweed) Extract, Mineral Oil, Petrolat...</td>\n",
       "      <td>1</td>\n",
       "      <td>1</td>\n",
       "      <td>1</td>\n",
       "      <td>1</td>\n",
       "      <td>1</td>\n",
       "    </tr>\n",
       "    <tr>\n",
       "      <th>1</th>\n",
       "      <td>Moisturizer</td>\n",
       "      <td>SK-II</td>\n",
       "      <td>Facial Treatment Essence</td>\n",
       "      <td>179</td>\n",
       "      <td>4.1</td>\n",
       "      <td>Galactomyces Ferment Filtrate (Pitera), Butyle...</td>\n",
       "      <td>1</td>\n",
       "      <td>1</td>\n",
       "      <td>1</td>\n",
       "      <td>1</td>\n",
       "      <td>1</td>\n",
       "    </tr>\n",
       "    <tr>\n",
       "      <th>2</th>\n",
       "      <td>Moisturizer</td>\n",
       "      <td>DRUNK ELEPHANT</td>\n",
       "      <td>Protini™ Polypeptide Cream</td>\n",
       "      <td>68</td>\n",
       "      <td>4.4</td>\n",
       "      <td>Water, Dicaprylyl Carbonate, Glycerin, Ceteary...</td>\n",
       "      <td>1</td>\n",
       "      <td>1</td>\n",
       "      <td>1</td>\n",
       "      <td>1</td>\n",
       "      <td>0</td>\n",
       "    </tr>\n",
       "    <tr>\n",
       "      <th>3</th>\n",
       "      <td>Moisturizer</td>\n",
       "      <td>LA MER</td>\n",
       "      <td>The Moisturizing Soft Cream</td>\n",
       "      <td>175</td>\n",
       "      <td>3.8</td>\n",
       "      <td>Algae (Seaweed) Extract, Cyclopentasiloxane, P...</td>\n",
       "      <td>1</td>\n",
       "      <td>1</td>\n",
       "      <td>1</td>\n",
       "      <td>1</td>\n",
       "      <td>1</td>\n",
       "    </tr>\n",
       "    <tr>\n",
       "      <th>4</th>\n",
       "      <td>Moisturizer</td>\n",
       "      <td>IT COSMETICS</td>\n",
       "      <td>Your Skin But Better™ CC+™ Cream with SPF 50+</td>\n",
       "      <td>38</td>\n",
       "      <td>4.1</td>\n",
       "      <td>Water, Snail Secretion Filtrate, Phenyl Trimet...</td>\n",
       "      <td>1</td>\n",
       "      <td>1</td>\n",
       "      <td>1</td>\n",
       "      <td>1</td>\n",
       "      <td>1</td>\n",
       "    </tr>\n",
       "  </tbody>\n",
       "</table>\n",
       "</div>"
      ],
      "text/plain": [
       "         Label           Brand                                           Name  \\\n",
       "0  Moisturizer          LA MER                                Crème de la Mer   \n",
       "1  Moisturizer           SK-II                       Facial Treatment Essence   \n",
       "2  Moisturizer  DRUNK ELEPHANT                     Protini™ Polypeptide Cream   \n",
       "3  Moisturizer          LA MER                    The Moisturizing Soft Cream   \n",
       "4  Moisturizer    IT COSMETICS  Your Skin But Better™ CC+™ Cream with SPF 50+   \n",
       "\n",
       "   Price  Rank                                        Ingredients  \\\n",
       "0    175   4.1  Algae (Seaweed) Extract, Mineral Oil, Petrolat...   \n",
       "1    179   4.1  Galactomyces Ferment Filtrate (Pitera), Butyle...   \n",
       "2     68   4.4  Water, Dicaprylyl Carbonate, Glycerin, Ceteary...   \n",
       "3    175   3.8  Algae (Seaweed) Extract, Cyclopentasiloxane, P...   \n",
       "4     38   4.1  Water, Snail Secretion Filtrate, Phenyl Trimet...   \n",
       "\n",
       "   Combination  Dry  Normal  Oily  Sensitive  \n",
       "0            1    1       1     1          1  \n",
       "1            1    1       1     1          1  \n",
       "2            1    1       1     1          0  \n",
       "3            1    1       1     1          1  \n",
       "4            1    1       1     1          1  "
      ]
     },
     "execution_count": 55,
     "metadata": {},
     "output_type": "execute_result"
    }
   ],
   "source": [
    "data.head()"
   ]
  },
  {
   "cell_type": "code",
   "execution_count": 56,
   "metadata": {},
   "outputs": [
    {
     "name": "stdout",
     "output_type": "stream",
     "text": [
      "<class 'pandas.core.frame.DataFrame'>\n",
      "RangeIndex: 1452 entries, 0 to 1451\n",
      "Data columns (total 11 columns):\n",
      " #   Column       Non-Null Count  Dtype  \n",
      "---  ------       --------------  -----  \n",
      " 0   Label        1452 non-null   object \n",
      " 1   Brand        1452 non-null   object \n",
      " 2   Name         1452 non-null   object \n",
      " 3   Price        1452 non-null   int64  \n",
      " 4   Rank         1452 non-null   float64\n",
      " 5   Ingredients  1452 non-null   object \n",
      " 6   Combination  1452 non-null   int64  \n",
      " 7   Dry          1452 non-null   int64  \n",
      " 8   Normal       1452 non-null   int64  \n",
      " 9   Oily         1452 non-null   int64  \n",
      " 10  Sensitive    1452 non-null   int64  \n",
      "dtypes: float64(1), int64(6), object(4)\n",
      "memory usage: 124.9+ KB\n"
     ]
    }
   ],
   "source": [
    "data.info()"
   ]
  },
  {
   "cell_type": "markdown",
   "metadata": {},
   "source": [
    "## 2. Combining the toxic_ingredients_list into the dataset"
   ]
  },
  {
   "cell_type": "markdown",
   "metadata": {},
   "source": [
    "#### Let's combine the toxic_ingredients_list with the dataframe "
   ]
  },
  {
   "cell_type": "code",
   "execution_count": 57,
   "metadata": {},
   "outputs": [],
   "source": [
    "#We're going to define a function which will return the number of harmful substences.\n",
    "def toxic(ingredients):\n",
    "    #creating a list with the ingredients of the product\n",
    "    ingredients_list = str(ingredients).split(\", \")\n",
    "    #converting them to lowercases \n",
    "    ingredients_list = [string.lower() for string in ingredients_list]\n",
    "    #iniating the number of harmful substances to be counted\n",
    "    harmful_substances = 0\n",
    "    #creating a list with the harmful substances (which we won't return, but can be if we need it in the future)\n",
    "    list_harm=[]\n",
    "    for ingredient in ingredients_list:\n",
    "        #All susbtances with 'PEG-' are harmful\n",
    "        if 'peg-' in ingredient:\n",
    "            harmful_substances += 1\n",
    "            list_harm.append(ingredient)\n",
    "        elif 'peg/' in ingredient:\n",
    "            harmful_substances += 1\n",
    "            list_harm.append(ingredient)\n",
    "        elif ingredient in toxic_ingredients_list:\n",
    "            harmful_substances += 1\n",
    "            list_harm.append(ingredient)\n",
    "    return harmful_substances"
   ]
  },
  {
   "cell_type": "code",
   "execution_count": 58,
   "metadata": {},
   "outputs": [],
   "source": [
    "#Creating the column with the number of harmful susbtences per product\n",
    "data['Harmful_Substances'] = data.Ingredients.apply(toxic)"
   ]
  },
  {
   "cell_type": "code",
   "execution_count": 59,
   "metadata": {},
   "outputs": [
    {
     "name": "stdout",
     "output_type": "stream",
     "text": [
      "<class 'pandas.core.frame.DataFrame'>\n",
      "RangeIndex: 1452 entries, 0 to 1451\n",
      "Data columns (total 12 columns):\n",
      " #   Column              Non-Null Count  Dtype  \n",
      "---  ------              --------------  -----  \n",
      " 0   Label               1452 non-null   object \n",
      " 1   Brand               1452 non-null   object \n",
      " 2   Name                1452 non-null   object \n",
      " 3   Price               1452 non-null   int64  \n",
      " 4   Rank                1452 non-null   float64\n",
      " 5   Ingredients         1452 non-null   object \n",
      " 6   Combination         1452 non-null   int64  \n",
      " 7   Dry                 1452 non-null   int64  \n",
      " 8   Normal              1452 non-null   int64  \n",
      " 9   Oily                1452 non-null   int64  \n",
      " 10  Sensitive           1452 non-null   int64  \n",
      " 11  Harmful_Substances  1452 non-null   int64  \n",
      "dtypes: float64(1), int64(7), object(4)\n",
      "memory usage: 136.2+ KB\n"
     ]
    }
   ],
   "source": [
    "data.info()"
   ]
  },
  {
   "cell_type": "code",
   "execution_count": 60,
   "metadata": {},
   "outputs": [
    {
     "data": {
      "text/html": [
       "<div>\n",
       "<style scoped>\n",
       "    .dataframe tbody tr th:only-of-type {\n",
       "        vertical-align: middle;\n",
       "    }\n",
       "\n",
       "    .dataframe tbody tr th {\n",
       "        vertical-align: top;\n",
       "    }\n",
       "\n",
       "    .dataframe thead th {\n",
       "        text-align: right;\n",
       "    }\n",
       "</style>\n",
       "<table border=\"1\" class=\"dataframe\">\n",
       "  <thead>\n",
       "    <tr style=\"text-align: right;\">\n",
       "      <th></th>\n",
       "      <th>Label</th>\n",
       "      <th>Brand</th>\n",
       "      <th>Name</th>\n",
       "      <th>Price</th>\n",
       "      <th>Rank</th>\n",
       "      <th>Ingredients</th>\n",
       "      <th>Combination</th>\n",
       "      <th>Dry</th>\n",
       "      <th>Normal</th>\n",
       "      <th>Oily</th>\n",
       "      <th>Sensitive</th>\n",
       "      <th>Harmful_Substances</th>\n",
       "    </tr>\n",
       "  </thead>\n",
       "  <tbody>\n",
       "    <tr>\n",
       "      <th>7</th>\n",
       "      <td>Moisturizer</td>\n",
       "      <td>DRUNK ELEPHANT</td>\n",
       "      <td>Virgin Marula Luxury Facial Oil</td>\n",
       "      <td>72</td>\n",
       "      <td>4.4</td>\n",
       "      <td>100% Unrefined Sclerocraya Birrea (Marula) Ker...</td>\n",
       "      <td>1</td>\n",
       "      <td>1</td>\n",
       "      <td>1</td>\n",
       "      <td>1</td>\n",
       "      <td>0</td>\n",
       "      <td>0</td>\n",
       "    </tr>\n",
       "    <tr>\n",
       "      <th>11</th>\n",
       "      <td>Moisturizer</td>\n",
       "      <td>KIEHL'S SINCE 1851</td>\n",
       "      <td>Midnight Recovery Concentrate</td>\n",
       "      <td>47</td>\n",
       "      <td>4.4</td>\n",
       "      <td>Caprylic/Capric Triglyceride Dicaprylyl Carbon...</td>\n",
       "      <td>1</td>\n",
       "      <td>1</td>\n",
       "      <td>1</td>\n",
       "      <td>1</td>\n",
       "      <td>1</td>\n",
       "      <td>0</td>\n",
       "    </tr>\n",
       "    <tr>\n",
       "      <th>13</th>\n",
       "      <td>Moisturizer</td>\n",
       "      <td>SUNDAY RILEY</td>\n",
       "      <td>Luna Sleeping Night Oil</td>\n",
       "      <td>105</td>\n",
       "      <td>4.1</td>\n",
       "      <td>Persea Gratissima (Extra Virgin, Cold Pressed ...</td>\n",
       "      <td>1</td>\n",
       "      <td>1</td>\n",
       "      <td>1</td>\n",
       "      <td>1</td>\n",
       "      <td>1</td>\n",
       "      <td>0</td>\n",
       "    </tr>\n",
       "    <tr>\n",
       "      <th>14</th>\n",
       "      <td>Moisturizer</td>\n",
       "      <td>FARMACY</td>\n",
       "      <td>Honeymoon Glow AHA Resurfacing Night Serum wit...</td>\n",
       "      <td>58</td>\n",
       "      <td>4.6</td>\n",
       "      <td>Water, Lactic Acid, Propanediol, Jojoba Esters...</td>\n",
       "      <td>1</td>\n",
       "      <td>1</td>\n",
       "      <td>1</td>\n",
       "      <td>1</td>\n",
       "      <td>1</td>\n",
       "      <td>0</td>\n",
       "    </tr>\n",
       "    <tr>\n",
       "      <th>26</th>\n",
       "      <td>Moisturizer</td>\n",
       "      <td>DRUNK ELEPHANT</td>\n",
       "      <td>Virgin Marula Luxury Facial Oil Mini</td>\n",
       "      <td>40</td>\n",
       "      <td>4.5</td>\n",
       "      <td>100% Unrefined Sclerocraya Birrea (Marula) Ker...</td>\n",
       "      <td>1</td>\n",
       "      <td>1</td>\n",
       "      <td>1</td>\n",
       "      <td>1</td>\n",
       "      <td>0</td>\n",
       "      <td>0</td>\n",
       "    </tr>\n",
       "    <tr>\n",
       "      <th>...</th>\n",
       "      <td>...</td>\n",
       "      <td>...</td>\n",
       "      <td>...</td>\n",
       "      <td>...</td>\n",
       "      <td>...</td>\n",
       "      <td>...</td>\n",
       "      <td>...</td>\n",
       "      <td>...</td>\n",
       "      <td>...</td>\n",
       "      <td>...</td>\n",
       "      <td>...</td>\n",
       "      <td>...</td>\n",
       "    </tr>\n",
       "    <tr>\n",
       "      <th>1438</th>\n",
       "      <td>Sun protect</td>\n",
       "      <td>COOLA</td>\n",
       "      <td>Sport Continuous Spray SPF 30 - Unscented</td>\n",
       "      <td>32</td>\n",
       "      <td>5.0</td>\n",
       "      <td>Alcohol (Organic), Algae Extract (Organic), Al...</td>\n",
       "      <td>1</td>\n",
       "      <td>1</td>\n",
       "      <td>1</td>\n",
       "      <td>1</td>\n",
       "      <td>1</td>\n",
       "      <td>0</td>\n",
       "    </tr>\n",
       "    <tr>\n",
       "      <th>1440</th>\n",
       "      <td>Sun protect</td>\n",
       "      <td>SUPERGOOP!</td>\n",
       "      <td>Perfect Day 2-in-1 Everywear Lotion Broad Spec...</td>\n",
       "      <td>19</td>\n",
       "      <td>4.8</td>\n",
       "      <td>-Homosalate 10%, Octinoxate 7.5%, Octisalate 5...</td>\n",
       "      <td>1</td>\n",
       "      <td>1</td>\n",
       "      <td>1</td>\n",
       "      <td>1</td>\n",
       "      <td>0</td>\n",
       "      <td>0</td>\n",
       "    </tr>\n",
       "    <tr>\n",
       "      <th>1442</th>\n",
       "      <td>Sun protect</td>\n",
       "      <td>COOLA</td>\n",
       "      <td>Summer Duo</td>\n",
       "      <td>36</td>\n",
       "      <td>4.8</td>\n",
       "      <td>Avobenzone 2.8%, Octisalate 4.9%, Octocrylene ...</td>\n",
       "      <td>0</td>\n",
       "      <td>0</td>\n",
       "      <td>0</td>\n",
       "      <td>0</td>\n",
       "      <td>0</td>\n",
       "      <td>0</td>\n",
       "    </tr>\n",
       "    <tr>\n",
       "      <th>1445</th>\n",
       "      <td>Sun protect</td>\n",
       "      <td>URBAN DECAY</td>\n",
       "      <td>Naked Skin Bronzing Beauty Balm Broad Spectrum...</td>\n",
       "      <td>34</td>\n",
       "      <td>4.1</td>\n",
       "      <td>-Pepha® (derived from watermelon extract): Pro...</td>\n",
       "      <td>0</td>\n",
       "      <td>0</td>\n",
       "      <td>0</td>\n",
       "      <td>0</td>\n",
       "      <td>0</td>\n",
       "      <td>0</td>\n",
       "    </tr>\n",
       "    <tr>\n",
       "      <th>1449</th>\n",
       "      <td>Sun protect</td>\n",
       "      <td>VITA LIBERATA</td>\n",
       "      <td>Self Tan Dry Oil SPF 50</td>\n",
       "      <td>54</td>\n",
       "      <td>3.5</td>\n",
       "      <td>Water, Dihydroxyacetone, Glycerin, Sclerocarya...</td>\n",
       "      <td>0</td>\n",
       "      <td>0</td>\n",
       "      <td>0</td>\n",
       "      <td>0</td>\n",
       "      <td>0</td>\n",
       "      <td>0</td>\n",
       "    </tr>\n",
       "  </tbody>\n",
       "</table>\n",
       "<p>257 rows × 12 columns</p>\n",
       "</div>"
      ],
      "text/plain": [
       "            Label               Brand  \\\n",
       "7     Moisturizer      DRUNK ELEPHANT   \n",
       "11    Moisturizer  KIEHL'S SINCE 1851   \n",
       "13    Moisturizer        SUNDAY RILEY   \n",
       "14    Moisturizer             FARMACY   \n",
       "26    Moisturizer      DRUNK ELEPHANT   \n",
       "...           ...                 ...   \n",
       "1438  Sun protect               COOLA   \n",
       "1440  Sun protect          SUPERGOOP!   \n",
       "1442  Sun protect               COOLA   \n",
       "1445  Sun protect         URBAN DECAY   \n",
       "1449  Sun protect       VITA LIBERATA   \n",
       "\n",
       "                                                   Name  Price  Rank  \\\n",
       "7                       Virgin Marula Luxury Facial Oil     72   4.4   \n",
       "11                        Midnight Recovery Concentrate     47   4.4   \n",
       "13                              Luna Sleeping Night Oil    105   4.1   \n",
       "14    Honeymoon Glow AHA Resurfacing Night Serum wit...     58   4.6   \n",
       "26                 Virgin Marula Luxury Facial Oil Mini     40   4.5   \n",
       "...                                                 ...    ...   ...   \n",
       "1438          Sport Continuous Spray SPF 30 - Unscented     32   5.0   \n",
       "1440  Perfect Day 2-in-1 Everywear Lotion Broad Spec...     19   4.8   \n",
       "1442                                         Summer Duo     36   4.8   \n",
       "1445  Naked Skin Bronzing Beauty Balm Broad Spectrum...     34   4.1   \n",
       "1449                            Self Tan Dry Oil SPF 50     54   3.5   \n",
       "\n",
       "                                            Ingredients  Combination  Dry  \\\n",
       "7     100% Unrefined Sclerocraya Birrea (Marula) Ker...            1    1   \n",
       "11    Caprylic/Capric Triglyceride Dicaprylyl Carbon...            1    1   \n",
       "13    Persea Gratissima (Extra Virgin, Cold Pressed ...            1    1   \n",
       "14    Water, Lactic Acid, Propanediol, Jojoba Esters...            1    1   \n",
       "26    100% Unrefined Sclerocraya Birrea (Marula) Ker...            1    1   \n",
       "...                                                 ...          ...  ...   \n",
       "1438  Alcohol (Organic), Algae Extract (Organic), Al...            1    1   \n",
       "1440  -Homosalate 10%, Octinoxate 7.5%, Octisalate 5...            1    1   \n",
       "1442  Avobenzone 2.8%, Octisalate 4.9%, Octocrylene ...            0    0   \n",
       "1445  -Pepha® (derived from watermelon extract): Pro...            0    0   \n",
       "1449  Water, Dihydroxyacetone, Glycerin, Sclerocarya...            0    0   \n",
       "\n",
       "      Normal  Oily  Sensitive  Harmful_Substances  \n",
       "7          1     1          0                   0  \n",
       "11         1     1          1                   0  \n",
       "13         1     1          1                   0  \n",
       "14         1     1          1                   0  \n",
       "26         1     1          0                   0  \n",
       "...      ...   ...        ...                 ...  \n",
       "1438       1     1          1                   0  \n",
       "1440       1     1          0                   0  \n",
       "1442       0     0          0                   0  \n",
       "1445       0     0          0                   0  \n",
       "1449       0     0          0                   0  \n",
       "\n",
       "[257 rows x 12 columns]"
      ]
     },
     "execution_count": 60,
     "metadata": {},
     "output_type": "execute_result"
    }
   ],
   "source": [
    "data[data.Harmful_Substances == 0]"
   ]
  },
  {
   "cell_type": "markdown",
   "metadata": {},
   "source": [
    "We are left with 226 \"safe\" products."
   ]
  },
  {
   "cell_type": "markdown",
   "metadata": {},
   "source": [
    "## 3. Data cleaning"
   ]
  },
  {
   "cell_type": "markdown",
   "metadata": {},
   "source": [
    "#### Evaluer les données catégorielles"
   ]
  },
  {
   "cell_type": "code",
   "execution_count": 11,
   "metadata": {},
   "outputs": [
    {
     "data": {
      "text/plain": [
       "No Info                                                                                                                                                                                                                                                                                                                                                                                                                                                                                                                                                                                                                                                                                                                                                                                                                                                                                                                                                                                                                                                                                                                                                                                                                                                                                                                                                                                                                                                                                                                                                                                                                                                                                                                                                          23\n",
       "No info                                                                                                                                                                                                                                                                                                                                                                                                                                                                                                                                                                                                                                                                                                                                                                                                                                                                                                                                                                                                                                                                                                                                                                                                                                                                                                                                                                                                                                                                                                                                                                                                                                                                                                                                                           8\n",
       "*Ingredients from organic farming. **Clinical grade essential oils blend.                                                                                                                                                                                                                                                                                                                                                                                                                                                                                                                                                                                                                                                                                                                                                                                                                                                                                                                                                                                                                                                                                                                                                                                                                                                                                                                                                                                                                                                                                                                                                                                                                                                                                         5\n",
       "Light                                                                                                                                                                                                                                                                                                                                                                                                                                                                                                                                                                                                                                                                                                                                                                                                                                                                                                                                                                                                                                                                                                                                                                                                                                                                                                                                                                                                                                                                                                                                                                                                                                                                                                                                                             3\n",
       "Algae (Seaweed) Extract, Mineral Oil, Petrolatum, Glycerin, Isohexadecane, Microcrystalline Wax, Lanolin Alcohol, Citrus Aurantifolia (Lime) Extract, Sesamum Indicum (Sesame) Seed Oil, Eucalyptus Globulus (Eucalyptus) Leaf Oil, Sesamum Indicum (Sesame) Seed Powder, Medicago Sativa (Alfalfa) Seed Powder, Helianthus Annuus (Sunflower) Seedcake, Prunus Amygdalus Dulcis (Sweet Almond) Seed Meal, Sodium Gluconate, Copper Gluconate, Calcium Gluconate, Magnesium Gluconate, Zinc Gluconate, Magnesium Sulfate, Paraffin, Tocopheryl Succinate, Niacin, Water, Beta-Carotene, Decyl Oleate, Aluminum Distearate, Octyldodecanol, Citric Acid, Cyanocobalamin, Magnesium Stearate, Panthenol, Limonene, Geraniol, Linalool, Hydroxycitronellal, Citronellol, Benzyl Salicylate, Citral, Sodium Benzoate, Alcohol Denat., Fragrance.                                                                                                                                                                                                                                                                                                                                                                                                                                                                                                                                                                                                                                                                                                                                                                                                                                                                                                                      3\n",
       "                                                                                                                                                                                                                                                                                                                                                                                                                                                                                                                                                                                                                                                                                                                                                                                                                                                                                                                                                                                                                                                                                                                                                                                                                                                                                                                                                                                                                                                                                                                                                                                                                                                                                                                                                                 ..\n",
       "Organic Argania Spinosa (Argan) Kernel Oil*. *Organic. **Natural.                                                                                                                                                                                                                                                                                                                                                                                                                                                                                                                                                                                                                                                                                                                                                                                                                                                                                                                                                                                                                                                                                                                                                                                                                                                                                                                                                                                                                                                                                                                                                                                                                                                                                                 1\n",
       "Water, Monarda Didyma Leaf Extract 8%, Glycerin, Alcohol Denat, Butylene Glycol, Salvia Officinalis (Sage) Leaf Extract, Corchorus Olitorius Leaf Extract, Betaine, 1,2-Hexanediol, Methylpropanediol, Polyglutamic Acid, Beta-Glucan, Glyceryl Acrlate/Acrylic Acid Copolymer, Propylene Glycol, *Avena Sativa (Oat) Kernel Extract, *Calendula Officinalis Flower Extract, *Nepeta Cataria Extract, *Rubus Idaeus (Raspberry) Leaf Extract, *Baptisia Tinctoria Root Extract, *Stellaria Media (Chickweed) Extract, Portulaca Oleracea Extract, Panthenol, Sodium Hyaluronate, Biosaccharide Gum-1, Glycereth-26, Bis-PEG-18 Methyl Ether Dimethyl Silane, PEG/Ppg/Polybutylene Glycol-8/5/3 Glycerin, Peg/Ppg-17/6 Copolymer, PEG-40 Hydrogenated Caster Oil, Hydroxypropyl Cyclodextrin, Octyldodeceth-16, Acrylates/C10-30 Alkyl Acrylate Crosspolymer, Phenyl Trimethicone, Tromethamine, Trisodium EDTA, Fragrance**, Citronnellol, Limonene. *Napiers Original Formula. **Fragrances of Natural Origin.                                                                                                                                                                                                                                                                                                                                                                                                                                                                                                                                                                                                                                                                                                                                                   1\n",
       "Citrus Aurantium Bergamia (Bergamot) Leaf Extract, Glycerin, Sodium Cocoyl Isethionate, Sorbitol, Disiodium Lauryl Sulfosuccinate, Sodium Chloride, Amber Powder, Phenoxyethanol, Helianthus Annuus (Sunflower) Seed Oil, Maltodextrin, Carica Papaya (Papaya) Fruit Extract, Parfum (Fragrance), Citrus Aurantium Dulcis (Orange) Flower Oil, Citrus Nobilis (Mandarin Orange) Peel Oil, Citrus Tangerina (Tangerine) Peel Oil, Citrus Grandis (Grapefruit) Peel Oil, Xanthan Gum, Ethylhexylglycerin, Lactic Acid, Citrus Medica Limonum (Lemon) Fruit Extract, Passiflora Quadrangularis Fruit Extract, Ananas Sativus (Pineapple) Fruit Extract, Vitis Vinifera (Grape) Fruit Extract, Alcohol Denat., Daucus Carota Sativa (Carrot) Seed Oil, Daucus Carota Sativa (Carrot) Root Extract, Beta-Carotene, Ascorbyl Palmitate, Potassium Sorbate, Sodium Bisulfite, Limonene, Linalool, Citral.                                                                                                                                                                                                                                                                                                                                                                                                                                                                                                                                                                                                                                                                                                                                                                                                                                                                1\n",
       "Water , Dimethicone , Butylene Glycol , Isododecane , Cyclopentasiloxane , Polysilicone-11 , Ascorbyl Glucoside , Tromethamine , Pentylene Glycol , Curcuma Longa (Turmeric) Root Extract , Morus Bombycis (Mulberry) Root Extract , Cucumis Sativus (Cucumber) Fruit Extract , Betula Alba (Birch) Bark Extract , Scutellaria Baicalensis Root Extract , Trametes Versicolor Extract , Narcissus Tazetta Bulb Extract , Triticum Vulgare (Wheat) Germ Extract , Morus Nigra (Mulberry) Root Extract , Molasses Extract/Saccharum Officinarum/Extrait De Melasse , Citrus Grandis (Grapefruit) Peel Extract , Hordeum Vulgare (Barley) Extract/Extrait D'Orge , Salicylic Acid , Oryza Sativa (Rice) Bran Extract , Algae Extract , Caffeine , Gentiana Lutea (Gentian) Root Extract , Vitis Vinifera (Grape) Fruit Extract , Saccharomyces Lysate Extract , Camellia Sinensis Leaf Extract , Yeast Extract/Faex/Extrait De Levure , Hydrolyzed Rice Bran Extract , Hydrolyzed Prunus Domestica , Sorbitol , Cholesterol , Phospholipids , Dipotassium Glycyrrhizate , Di-C12-18 Alkyl Dimonium Chloride , Squalane , Peg-10 Dimethicone , Peg-6 , Glycerin , Sucrose , Polysorbate 20 , Tocopheryl Acetate , Isohexadecane , Acetyl Glucosamine , Propylene Glycol Dicaprate , Arginine , Helianthus Annuus (Sunflower) Seedcake , Sodium Rna , Caprylyl Glycol , Dimethoxytolyl Propylresorcinol , Glycyrrhetinic Acid , Sodium Hyaluronate , Polysorbate 80 , Ammonium Acryloyldimethyltaurate/Vp Copolymer , Acrylamide/Sodium Acryloyldimethyltaurate Copolymer , Carbomer , Potassium Sorbate , Sodium Hydroxide , Sodium Sulfite , Sodium Metabisulfite , Hexylene Glycol , Disodium Edta , Phenoxyethanol , Yellow 5 (Ci 19140) , Yellow 6 (Ci 15985)     1\n",
       "Water, Polylactic Acid, Hexyldecyl Stearate, Glycerin, Glyceryl Stearate, Pentaerythrityl Distearate, Arachidyl Alcohol, Polyacrylate Crosspolymer-6, Vitis Vinifera (Grape) Fruit Water, Behenyl Alcohol, Arachidyl Glucoside, Potassium Cetyl Phosphate, Fragrance, Caprylyl Glycol, Tocopherol, Helianthus Annuus (Sunflower) Seed Oil, Potassium Sorbate, Xanthan Gum, Menthol, Sodium Phytate, Vitis Vinifera (Grape) Juice, Vitis Vinifera (Grape) Fruit Extract, Sodium Hydroxide, Citric Acid, Sodium Benzoate, Alcohol, Limonene, Butylphenyl, Methylpropional.                                                                                                                                                                                                                                                                                                                                                                                                                                                                                                                                                                                                                                                                                                                                                                                                                                                                                                                                                                                                                                                                                                                                                                                          1\n",
       "Name: Ingredients, Length: 1381, dtype: int64"
      ]
     },
     "execution_count": 11,
     "metadata": {},
     "output_type": "execute_result"
    }
   ],
   "source": [
    "data.Ingredients.value_counts()"
   ]
  },
  {
   "cell_type": "markdown",
   "metadata": {},
   "source": [
    "#### Supprimer les produits sans ingrédient \"No Info\""
   ]
  },
  {
   "cell_type": "code",
   "execution_count": 61,
   "metadata": {},
   "outputs": [],
   "source": [
    "list_index_NoInfo = data[data.Ingredients == \"No Info\"].index"
   ]
  },
  {
   "cell_type": "code",
   "execution_count": 62,
   "metadata": {},
   "outputs": [],
   "source": [
    "list_index_Noinfo = data[data.Ingredients == \"No info\"].index"
   ]
  },
  {
   "cell_type": "code",
   "execution_count": 63,
   "metadata": {},
   "outputs": [],
   "source": [
    "# Suppression de 31 produits sans ingrédient\n",
    "data.drop(list_index_NoInfo, axis=0, inplace=True)\n",
    "data.drop(list_index_Noinfo, axis=0, inplace=True)"
   ]
  },
  {
   "cell_type": "code",
   "execution_count": 64,
   "metadata": {},
   "outputs": [
    {
     "name": "stdout",
     "output_type": "stream",
     "text": [
      "<class 'pandas.core.frame.DataFrame'>\n",
      "Int64Index: 1421 entries, 0 to 1451\n",
      "Data columns (total 12 columns):\n",
      " #   Column              Non-Null Count  Dtype  \n",
      "---  ------              --------------  -----  \n",
      " 0   Label               1421 non-null   object \n",
      " 1   Brand               1421 non-null   object \n",
      " 2   Name                1421 non-null   object \n",
      " 3   Price               1421 non-null   int64  \n",
      " 4   Rank                1421 non-null   float64\n",
      " 5   Ingredients         1421 non-null   object \n",
      " 6   Combination         1421 non-null   int64  \n",
      " 7   Dry                 1421 non-null   int64  \n",
      " 8   Normal              1421 non-null   int64  \n",
      " 9   Oily                1421 non-null   int64  \n",
      " 10  Sensitive           1421 non-null   int64  \n",
      " 11  Harmful_Substances  1421 non-null   int64  \n",
      "dtypes: float64(1), int64(7), object(4)\n",
      "memory usage: 144.3+ KB\n"
     ]
    }
   ],
   "source": [
    "data.info()"
   ]
  },
  {
   "cell_type": "markdown",
   "metadata": {},
   "source": [
    "#### Cleaner les ingrédients avant le bag of words"
   ]
  },
  {
   "cell_type": "code",
   "execution_count": 65,
   "metadata": {},
   "outputs": [],
   "source": [
    "def clean_up(s):\n",
    "    #putting everything in lowercase\n",
    "    s_lower = s.lower()\n",
    "    #removing numbers\n",
    "    s_sans_chiffre = re.sub(\"[0-9]\",\"\", s_lower)\n",
    "    #removing everything that is in between parenthesis\n",
    "    s_sans_par = re.sub(r'\\([^)]*\\)', '', s_sans_chiffre)\n",
    "    return s_sans_par"
   ]
  },
  {
   "cell_type": "code",
   "execution_count": 66,
   "metadata": {},
   "outputs": [],
   "source": [
    "data['ing_processed'] = data['Ingredients'].apply(clean_up)"
   ]
  },
  {
   "cell_type": "code",
   "execution_count": 67,
   "metadata": {},
   "outputs": [
    {
     "data": {
      "text/html": [
       "<div>\n",
       "<style scoped>\n",
       "    .dataframe tbody tr th:only-of-type {\n",
       "        vertical-align: middle;\n",
       "    }\n",
       "\n",
       "    .dataframe tbody tr th {\n",
       "        vertical-align: top;\n",
       "    }\n",
       "\n",
       "    .dataframe thead th {\n",
       "        text-align: right;\n",
       "    }\n",
       "</style>\n",
       "<table border=\"1\" class=\"dataframe\">\n",
       "  <thead>\n",
       "    <tr style=\"text-align: right;\">\n",
       "      <th></th>\n",
       "      <th>Label</th>\n",
       "      <th>Brand</th>\n",
       "      <th>Name</th>\n",
       "      <th>Price</th>\n",
       "      <th>Rank</th>\n",
       "      <th>Ingredients</th>\n",
       "      <th>Combination</th>\n",
       "      <th>Dry</th>\n",
       "      <th>Normal</th>\n",
       "      <th>Oily</th>\n",
       "      <th>Sensitive</th>\n",
       "      <th>Harmful_Substances</th>\n",
       "      <th>ing_processed</th>\n",
       "    </tr>\n",
       "  </thead>\n",
       "  <tbody>\n",
       "    <tr>\n",
       "      <th>0</th>\n",
       "      <td>Moisturizer</td>\n",
       "      <td>LA MER</td>\n",
       "      <td>Crème de la Mer</td>\n",
       "      <td>175</td>\n",
       "      <td>4.1</td>\n",
       "      <td>Algae (Seaweed) Extract, Mineral Oil, Petrolat...</td>\n",
       "      <td>1</td>\n",
       "      <td>1</td>\n",
       "      <td>1</td>\n",
       "      <td>1</td>\n",
       "      <td>1</td>\n",
       "      <td>10</td>\n",
       "      <td>algae  extract, mineral oil, petrolatum, glyce...</td>\n",
       "    </tr>\n",
       "    <tr>\n",
       "      <th>1</th>\n",
       "      <td>Moisturizer</td>\n",
       "      <td>SK-II</td>\n",
       "      <td>Facial Treatment Essence</td>\n",
       "      <td>179</td>\n",
       "      <td>4.1</td>\n",
       "      <td>Galactomyces Ferment Filtrate (Pitera), Butyle...</td>\n",
       "      <td>1</td>\n",
       "      <td>1</td>\n",
       "      <td>1</td>\n",
       "      <td>1</td>\n",
       "      <td>1</td>\n",
       "      <td>1</td>\n",
       "      <td>galactomyces ferment filtrate , butylene glyco...</td>\n",
       "    </tr>\n",
       "    <tr>\n",
       "      <th>2</th>\n",
       "      <td>Moisturizer</td>\n",
       "      <td>DRUNK ELEPHANT</td>\n",
       "      <td>Protini™ Polypeptide Cream</td>\n",
       "      <td>68</td>\n",
       "      <td>4.4</td>\n",
       "      <td>Water, Dicaprylyl Carbonate, Glycerin, Ceteary...</td>\n",
       "      <td>1</td>\n",
       "      <td>1</td>\n",
       "      <td>1</td>\n",
       "      <td>1</td>\n",
       "      <td>0</td>\n",
       "      <td>1</td>\n",
       "      <td>water, dicaprylyl carbonate, glycerin, ceteary...</td>\n",
       "    </tr>\n",
       "    <tr>\n",
       "      <th>3</th>\n",
       "      <td>Moisturizer</td>\n",
       "      <td>LA MER</td>\n",
       "      <td>The Moisturizing Soft Cream</td>\n",
       "      <td>175</td>\n",
       "      <td>3.8</td>\n",
       "      <td>Algae (Seaweed) Extract, Cyclopentasiloxane, P...</td>\n",
       "      <td>1</td>\n",
       "      <td>1</td>\n",
       "      <td>1</td>\n",
       "      <td>1</td>\n",
       "      <td>1</td>\n",
       "      <td>12</td>\n",
       "      <td>algae  extract, cyclopentasiloxane, petrolatum...</td>\n",
       "    </tr>\n",
       "    <tr>\n",
       "      <th>4</th>\n",
       "      <td>Moisturizer</td>\n",
       "      <td>IT COSMETICS</td>\n",
       "      <td>Your Skin But Better™ CC+™ Cream with SPF 50+</td>\n",
       "      <td>38</td>\n",
       "      <td>4.1</td>\n",
       "      <td>Water, Snail Secretion Filtrate, Phenyl Trimet...</td>\n",
       "      <td>1</td>\n",
       "      <td>1</td>\n",
       "      <td>1</td>\n",
       "      <td>1</td>\n",
       "      <td>1</td>\n",
       "      <td>5</td>\n",
       "      <td>water, snail secretion filtrate, phenyl trimet...</td>\n",
       "    </tr>\n",
       "  </tbody>\n",
       "</table>\n",
       "</div>"
      ],
      "text/plain": [
       "         Label           Brand                                           Name  \\\n",
       "0  Moisturizer          LA MER                                Crème de la Mer   \n",
       "1  Moisturizer           SK-II                       Facial Treatment Essence   \n",
       "2  Moisturizer  DRUNK ELEPHANT                     Protini™ Polypeptide Cream   \n",
       "3  Moisturizer          LA MER                    The Moisturizing Soft Cream   \n",
       "4  Moisturizer    IT COSMETICS  Your Skin But Better™ CC+™ Cream with SPF 50+   \n",
       "\n",
       "   Price  Rank                                        Ingredients  \\\n",
       "0    175   4.1  Algae (Seaweed) Extract, Mineral Oil, Petrolat...   \n",
       "1    179   4.1  Galactomyces Ferment Filtrate (Pitera), Butyle...   \n",
       "2     68   4.4  Water, Dicaprylyl Carbonate, Glycerin, Ceteary...   \n",
       "3    175   3.8  Algae (Seaweed) Extract, Cyclopentasiloxane, P...   \n",
       "4     38   4.1  Water, Snail Secretion Filtrate, Phenyl Trimet...   \n",
       "\n",
       "   Combination  Dry  Normal  Oily  Sensitive  Harmful_Substances  \\\n",
       "0            1    1       1     1          1                  10   \n",
       "1            1    1       1     1          1                   1   \n",
       "2            1    1       1     1          0                   1   \n",
       "3            1    1       1     1          1                  12   \n",
       "4            1    1       1     1          1                   5   \n",
       "\n",
       "                                       ing_processed  \n",
       "0  algae  extract, mineral oil, petrolatum, glyce...  \n",
       "1  galactomyces ferment filtrate , butylene glyco...  \n",
       "2  water, dicaprylyl carbonate, glycerin, ceteary...  \n",
       "3  algae  extract, cyclopentasiloxane, petrolatum...  \n",
       "4  water, snail secretion filtrate, phenyl trimet...  "
      ]
     },
     "execution_count": 67,
     "metadata": {},
     "output_type": "execute_result"
    }
   ],
   "source": [
    "data.head()"
   ]
  },
  {
   "cell_type": "markdown",
   "metadata": {},
   "source": [
    "#### Tokeniser les ingrédients"
   ]
  },
  {
   "cell_type": "code",
   "execution_count": 68,
   "metadata": {},
   "outputs": [],
   "source": [
    "#Création d'une fonction qui split les ingrédients à chaque virgule et ne comptabilise pas les doublons\n",
    "\n",
    "def ingredients_tokenizer(v):\n",
    "    return list(set([w.strip() for w in v.split(\",\")]))"
   ]
  },
  {
   "cell_type": "code",
   "execution_count": 69,
   "metadata": {},
   "outputs": [
    {
     "data": {
      "text/plain": [
       "'algae  extract, mineral oil, petrolatum, glycerin, isohexadecane, microcrystalline wax, lanolin alcohol, citrus aurantifolia  extract, sesamum indicum  seed oil, eucalyptus globulus  leaf oil, sesamum indicum  seed powder, medicago sativa  seed powder, helianthus annuus  seedcake, prunus amygdalus dulcis  seed meal, sodium gluconate, copper gluconate, calcium gluconate, magnesium gluconate, zinc gluconate, magnesium sulfate, paraffin, tocopheryl succinate, niacin, water, beta-carotene, decyl oleate, aluminum distearate, octyldodecanol, citric acid, cyanocobalamin, magnesium stearate, panthenol, limonene, geraniol, linalool, hydroxycitronellal, citronellol, benzyl salicylate, citral, sodium benzoate, alcohol denat., fragrance.'"
      ]
     },
     "execution_count": 69,
     "metadata": {},
     "output_type": "execute_result"
    }
   ],
   "source": [
    "data['ing_processed'][0]"
   ]
  },
  {
   "cell_type": "code",
   "execution_count": 70,
   "metadata": {},
   "outputs": [],
   "source": [
    "#Création d'une colonne avec ingrédients tokénisés :\n",
    "\n",
    "data['ing_processed'] = data['ing_processed'].apply(ingredients_tokenizer)"
   ]
  },
  {
   "cell_type": "code",
   "execution_count": 71,
   "metadata": {},
   "outputs": [
    {
     "data": {
      "text/html": [
       "<div>\n",
       "<style scoped>\n",
       "    .dataframe tbody tr th:only-of-type {\n",
       "        vertical-align: middle;\n",
       "    }\n",
       "\n",
       "    .dataframe tbody tr th {\n",
       "        vertical-align: top;\n",
       "    }\n",
       "\n",
       "    .dataframe thead th {\n",
       "        text-align: right;\n",
       "    }\n",
       "</style>\n",
       "<table border=\"1\" class=\"dataframe\">\n",
       "  <thead>\n",
       "    <tr style=\"text-align: right;\">\n",
       "      <th></th>\n",
       "      <th>Label</th>\n",
       "      <th>Brand</th>\n",
       "      <th>Name</th>\n",
       "      <th>Price</th>\n",
       "      <th>Rank</th>\n",
       "      <th>Ingredients</th>\n",
       "      <th>Combination</th>\n",
       "      <th>Dry</th>\n",
       "      <th>Normal</th>\n",
       "      <th>Oily</th>\n",
       "      <th>Sensitive</th>\n",
       "      <th>Harmful_Substances</th>\n",
       "      <th>ing_processed</th>\n",
       "    </tr>\n",
       "  </thead>\n",
       "  <tbody>\n",
       "    <tr>\n",
       "      <th>0</th>\n",
       "      <td>Moisturizer</td>\n",
       "      <td>LA MER</td>\n",
       "      <td>Crème de la Mer</td>\n",
       "      <td>175</td>\n",
       "      <td>4.1</td>\n",
       "      <td>Algae (Seaweed) Extract, Mineral Oil, Petrolat...</td>\n",
       "      <td>1</td>\n",
       "      <td>1</td>\n",
       "      <td>1</td>\n",
       "      <td>1</td>\n",
       "      <td>1</td>\n",
       "      <td>10</td>\n",
       "      <td>[calcium gluconate, copper gluconate, prunus a...</td>\n",
       "    </tr>\n",
       "    <tr>\n",
       "      <th>1</th>\n",
       "      <td>Moisturizer</td>\n",
       "      <td>SK-II</td>\n",
       "      <td>Facial Treatment Essence</td>\n",
       "      <td>179</td>\n",
       "      <td>4.1</td>\n",
       "      <td>Galactomyces Ferment Filtrate (Pitera), Butyle...</td>\n",
       "      <td>1</td>\n",
       "      <td>1</td>\n",
       "      <td>1</td>\n",
       "      <td>1</td>\n",
       "      <td>1</td>\n",
       "      <td>1</td>\n",
       "      <td>[sorbic acid., pentylene glycol, butylene glyc...</td>\n",
       "    </tr>\n",
       "    <tr>\n",
       "      <th>2</th>\n",
       "      <td>Moisturizer</td>\n",
       "      <td>DRUNK ELEPHANT</td>\n",
       "      <td>Protini™ Polypeptide Cream</td>\n",
       "      <td>68</td>\n",
       "      <td>4.4</td>\n",
       "      <td>Water, Dicaprylyl Carbonate, Glycerin, Ceteary...</td>\n",
       "      <td>1</td>\n",
       "      <td>1</td>\n",
       "      <td>1</td>\n",
       "      <td>1</td>\n",
       "      <td>0</td>\n",
       "      <td>1</td>\n",
       "      <td>[, sorbitan olivate, sclerocarya birrea seed o...</td>\n",
       "    </tr>\n",
       "    <tr>\n",
       "      <th>3</th>\n",
       "      <td>Moisturizer</td>\n",
       "      <td>LA MER</td>\n",
       "      <td>The Moisturizing Soft Cream</td>\n",
       "      <td>175</td>\n",
       "      <td>3.8</td>\n",
       "      <td>Algae (Seaweed) Extract, Cyclopentasiloxane, P...</td>\n",
       "      <td>1</td>\n",
       "      <td>1</td>\n",
       "      <td>1</td>\n",
       "      <td>1</td>\n",
       "      <td>1</td>\n",
       "      <td>12</td>\n",
       "      <td>[polyquaternium-, polysilicone-, plankton extr...</td>\n",
       "    </tr>\n",
       "    <tr>\n",
       "      <th>4</th>\n",
       "      <td>Moisturizer</td>\n",
       "      <td>IT COSMETICS</td>\n",
       "      <td>Your Skin But Better™ CC+™ Cream with SPF 50+</td>\n",
       "      <td>38</td>\n",
       "      <td>4.1</td>\n",
       "      <td>Water, Snail Secretion Filtrate, Phenyl Trimet...</td>\n",
       "      <td>1</td>\n",
       "      <td>1</td>\n",
       "      <td>1</td>\n",
       "      <td>1</td>\n",
       "      <td>1</td>\n",
       "      <td>5</td>\n",
       "      <td>[, folic acid, citrus grandis  peel oil, -hexa...</td>\n",
       "    </tr>\n",
       "  </tbody>\n",
       "</table>\n",
       "</div>"
      ],
      "text/plain": [
       "         Label           Brand                                           Name  \\\n",
       "0  Moisturizer          LA MER                                Crème de la Mer   \n",
       "1  Moisturizer           SK-II                       Facial Treatment Essence   \n",
       "2  Moisturizer  DRUNK ELEPHANT                     Protini™ Polypeptide Cream   \n",
       "3  Moisturizer          LA MER                    The Moisturizing Soft Cream   \n",
       "4  Moisturizer    IT COSMETICS  Your Skin But Better™ CC+™ Cream with SPF 50+   \n",
       "\n",
       "   Price  Rank                                        Ingredients  \\\n",
       "0    175   4.1  Algae (Seaweed) Extract, Mineral Oil, Petrolat...   \n",
       "1    179   4.1  Galactomyces Ferment Filtrate (Pitera), Butyle...   \n",
       "2     68   4.4  Water, Dicaprylyl Carbonate, Glycerin, Ceteary...   \n",
       "3    175   3.8  Algae (Seaweed) Extract, Cyclopentasiloxane, P...   \n",
       "4     38   4.1  Water, Snail Secretion Filtrate, Phenyl Trimet...   \n",
       "\n",
       "   Combination  Dry  Normal  Oily  Sensitive  Harmful_Substances  \\\n",
       "0            1    1       1     1          1                  10   \n",
       "1            1    1       1     1          1                   1   \n",
       "2            1    1       1     1          0                   1   \n",
       "3            1    1       1     1          1                  12   \n",
       "4            1    1       1     1          1                   5   \n",
       "\n",
       "                                       ing_processed  \n",
       "0  [calcium gluconate, copper gluconate, prunus a...  \n",
       "1  [sorbic acid., pentylene glycol, butylene glyc...  \n",
       "2  [, sorbitan olivate, sclerocarya birrea seed o...  \n",
       "3  [polyquaternium-, polysilicone-, plankton extr...  \n",
       "4  [, folic acid, citrus grandis  peel oil, -hexa...  "
      ]
     },
     "execution_count": 71,
     "metadata": {},
     "output_type": "execute_result"
    }
   ],
   "source": [
    "data.head()"
   ]
  },
  {
   "cell_type": "markdown",
   "metadata": {},
   "source": [
    "## 4. Création d'un bag of words"
   ]
  },
  {
   "cell_type": "code",
   "execution_count": 72,
   "metadata": {},
   "outputs": [],
   "source": [
    "# Extraire ces ingrédients mots de chaque ligne dans une liste commune\n",
    "liste_extraite = [ing for ing in data['ing_processed']]"
   ]
  },
  {
   "cell_type": "code",
   "execution_count": 73,
   "metadata": {},
   "outputs": [],
   "source": [
    "#We want to keep only the first part of the string containing \"/\" as after it's only another name of the chemical substance\n",
    "def first_part_before_slash(string):\n",
    "    return string.partition('/')[0]"
   ]
  },
  {
   "cell_type": "code",
   "execution_count": 74,
   "metadata": {},
   "outputs": [],
   "source": [
    "#We want to keep only the first part of the string containing \"\" as after it's only precision about the ingredient\n",
    "def first_part_before_star(string):\n",
    "    return string.partition('*')[0]"
   ]
  },
  {
   "cell_type": "code",
   "execution_count": 75,
   "metadata": {},
   "outputs": [],
   "source": [
    "#We want to add a comma after oil and extract\n",
    "def add_comma(string):\n",
    "    if \"oil\" in string or \"extract\" in string:\n",
    "        return string + \",\"\n",
    "    else:\n",
    "        return string"
   ]
  },
  {
   "cell_type": "code",
   "execution_count": 76,
   "metadata": {},
   "outputs": [
    {
     "data": {
      "text/plain": [
       "47678"
      ]
     },
     "execution_count": 76,
     "metadata": {},
     "output_type": "execute_result"
    }
   ],
   "source": [
    "#flatten the list and applying the function first_part_before_slash and first part of the string containing and add comma\n",
    "ingredients_processed =  [first_part_before_star(first_part_before_slash(ing)) for ligne in liste_extraite for ing in ligne]\n",
    "ingredients_processed_withcomma = [add_comma(ing) for ing in ingredients_processed]\n",
    "\n",
    "len(ingredients_processed_withcomma)\n",
    "#ingredients_processed_withcomma"
   ]
  },
  {
   "cell_type": "code",
   "execution_count": 77,
   "metadata": {},
   "outputs": [],
   "source": [
    "#Removing the double (or more) spaces\n",
    "def remove_additional_spaces(string):\n",
    "    return \" \".join(string.split())"
   ]
  },
  {
   "cell_type": "code",
   "execution_count": 78,
   "metadata": {},
   "outputs": [],
   "source": [
    "ingredients_processed = [remove_additional_spaces(string) for string in ingredients_processed]"
   ]
  },
  {
   "cell_type": "code",
   "execution_count": 80,
   "metadata": {},
   "outputs": [],
   "source": [
    "#Removing the coma, point and hyphen\n",
    "def remove_coma_point_hyphen(string):\n",
    "    final_string = string.replace('-','')\n",
    "    final_string = final_string.replace('.','')\n",
    "    final_string= final_string.replace(',','')\n",
    "    return final_string"
   ]
  },
  {
   "cell_type": "code",
   "execution_count": 81,
   "metadata": {},
   "outputs": [],
   "source": [
    "#Applying the function remove_coma_point_hyphen\n",
    "ingredients_processed = [remove_coma_point_hyphen(string) for string in ingredients_processed]"
   ]
  },
  {
   "cell_type": "code",
   "execution_count": 82,
   "metadata": {},
   "outputs": [],
   "source": [
    "#Filtering the empty string\n",
    "filter_object = filter(lambda x: x != \"\", ingredients_processed)\n",
    "ingredients_processed = list(filter_object)"
   ]
  },
  {
   "cell_type": "code",
   "execution_count": 83,
   "metadata": {},
   "outputs": [],
   "source": [
    "from nltk.probability import FreqDist"
   ]
  },
  {
   "cell_type": "code",
   "execution_count": 84,
   "metadata": {},
   "outputs": [],
   "source": [
    "frequence_ingredients = FreqDist(ingredients_processed)\n",
    "Top_1000 = frequence_ingredients.most_common(1000)"
   ]
  },
  {
   "cell_type": "code",
   "execution_count": 85,
   "metadata": {},
   "outputs": [
    {
     "data": {
      "text/plain": [
       "FreqDist({'water': 1057, 'glycerin': 1055, 'phenoxyethanol': 943, 'butylene glycol': 816, 'disodium edta': 582, 'dimethicone': 582, 'sodium hyaluronate': 512, 'caprylyl glycol': 478, 'tocopheryl acetate': 457, 'xanthan gum': 446, ...})"
      ]
     },
     "execution_count": 85,
     "metadata": {},
     "output_type": "execute_result"
    }
   ],
   "source": [
    "frequence_ingredients"
   ]
  },
  {
   "cell_type": "code",
   "execution_count": 90,
   "metadata": {},
   "outputs": [
    {
     "data": {
      "text/plain": [
       "79"
      ]
     },
     "execution_count": 90,
     "metadata": {},
     "output_type": "execute_result"
    }
   ],
   "source": [
    "plusde100 = set([x[0] for x in Top_1000 if x[1] > 100])\n",
    "len(plusde100)"
   ]
  },
  {
   "cell_type": "markdown",
   "metadata": {},
   "source": [
    "## 5. Création du One Hot Encoding"
   ]
  },
  {
   "cell_type": "code",
   "execution_count": 92,
   "metadata": {},
   "outputs": [],
   "source": [
    "text_col = [[remove_coma_point_hyphen(\n",
    "                remove_additional_spaces(\n",
    "                    first_part_before_star(first_part_before_slash(w)))) for w in row] for row in data['ing_processed']]"
   ]
  },
  {
   "cell_type": "code",
   "execution_count": 103,
   "metadata": {},
   "outputs": [],
   "source": [
    "text_col = [[w for w in row if w in plusde100] for row in text_col]"
   ]
  },
  {
   "cell_type": "code",
   "execution_count": 104,
   "metadata": {},
   "outputs": [],
   "source": [
    "from sklearn.feature_extraction.text import CountVectorizer\n",
    "cv = CountVectorizer(tokenizer=lambda x:x,\n",
    "                     preprocessor=lambda x:x)"
   ]
  },
  {
   "cell_type": "code",
   "execution_count": 105,
   "metadata": {},
   "outputs": [],
   "source": [
    "bow = cv.fit_transform(text_col)"
   ]
  },
  {
   "cell_type": "code",
   "execution_count": 106,
   "metadata": {},
   "outputs": [
    {
     "data": {
      "text/plain": [
       "array([[0, 0, 0, ..., 0, 1, 0],\n",
       "       [0, 0, 0, ..., 0, 1, 0],\n",
       "       [0, 0, 0, ..., 0, 1, 1],\n",
       "       ...,\n",
       "       [0, 0, 0, ..., 0, 1, 0],\n",
       "       [0, 0, 0, ..., 0, 1, 0],\n",
       "       [0, 1, 0, ..., 1, 0, 1]], dtype=int64)"
      ]
     },
     "execution_count": 106,
     "metadata": {},
     "output_type": "execute_result"
    }
   ],
   "source": [
    "bow.toarray()"
   ]
  },
  {
   "cell_type": "code",
   "execution_count": 107,
   "metadata": {},
   "outputs": [],
   "source": [
    "bow_df = pd.DataFrame(bow.toarray(), columns=cv.get_feature_names())"
   ]
  },
  {
   "cell_type": "code",
   "execution_count": 108,
   "metadata": {},
   "outputs": [
    {
     "data": {
      "text/plain": [
       "151"
      ]
     },
     "execution_count": 108,
     "metadata": {},
     "output_type": "execute_result"
    }
   ],
   "source": [
    "bow_df.iloc[:, 4].sum()"
   ]
  },
  {
   "cell_type": "code",
   "execution_count": 110,
   "metadata": {},
   "outputs": [
    {
     "data": {
      "text/html": [
       "<div>\n",
       "<style scoped>\n",
       "    .dataframe tbody tr th:only-of-type {\n",
       "        vertical-align: middle;\n",
       "    }\n",
       "\n",
       "    .dataframe tbody tr th {\n",
       "        vertical-align: top;\n",
       "    }\n",
       "\n",
       "    .dataframe thead th {\n",
       "        text-align: right;\n",
       "    }\n",
       "</style>\n",
       "<table border=\"1\" class=\"dataframe\">\n",
       "  <thead>\n",
       "    <tr style=\"text-align: right;\">\n",
       "      <th></th>\n",
       "      <th>acrylates</th>\n",
       "      <th>adenosine</th>\n",
       "      <th>alcohol</th>\n",
       "      <th>alcohol denat</th>\n",
       "      <th>algae extract</th>\n",
       "      <th>allantoin</th>\n",
       "      <th>aloe barbadensis leaf juice</th>\n",
       "      <th>ammonium acryloyldimethyltaurate</th>\n",
       "      <th>betaine</th>\n",
       "      <th>bht</th>\n",
       "      <th>...</th>\n",
       "      <th>stearic acid</th>\n",
       "      <th>sucrose</th>\n",
       "      <th>tetrahexyldecyl ascorbate</th>\n",
       "      <th>titanium dioxide</th>\n",
       "      <th>tocopherol</th>\n",
       "      <th>tocopheryl acetate</th>\n",
       "      <th>trehalose</th>\n",
       "      <th>tromethamine</th>\n",
       "      <th>water</th>\n",
       "      <th>xanthan gum</th>\n",
       "    </tr>\n",
       "  </thead>\n",
       "  <tbody>\n",
       "    <tr>\n",
       "      <th>0</th>\n",
       "      <td>0</td>\n",
       "      <td>0</td>\n",
       "      <td>0</td>\n",
       "      <td>1</td>\n",
       "      <td>1</td>\n",
       "      <td>0</td>\n",
       "      <td>0</td>\n",
       "      <td>0</td>\n",
       "      <td>0</td>\n",
       "      <td>0</td>\n",
       "      <td>...</td>\n",
       "      <td>0</td>\n",
       "      <td>0</td>\n",
       "      <td>0</td>\n",
       "      <td>0</td>\n",
       "      <td>0</td>\n",
       "      <td>0</td>\n",
       "      <td>0</td>\n",
       "      <td>0</td>\n",
       "      <td>1</td>\n",
       "      <td>0</td>\n",
       "    </tr>\n",
       "    <tr>\n",
       "      <th>1</th>\n",
       "      <td>0</td>\n",
       "      <td>0</td>\n",
       "      <td>0</td>\n",
       "      <td>0</td>\n",
       "      <td>0</td>\n",
       "      <td>0</td>\n",
       "      <td>0</td>\n",
       "      <td>0</td>\n",
       "      <td>0</td>\n",
       "      <td>0</td>\n",
       "      <td>...</td>\n",
       "      <td>0</td>\n",
       "      <td>0</td>\n",
       "      <td>0</td>\n",
       "      <td>0</td>\n",
       "      <td>0</td>\n",
       "      <td>0</td>\n",
       "      <td>0</td>\n",
       "      <td>0</td>\n",
       "      <td>1</td>\n",
       "      <td>0</td>\n",
       "    </tr>\n",
       "    <tr>\n",
       "      <th>2</th>\n",
       "      <td>0</td>\n",
       "      <td>0</td>\n",
       "      <td>0</td>\n",
       "      <td>0</td>\n",
       "      <td>0</td>\n",
       "      <td>0</td>\n",
       "      <td>0</td>\n",
       "      <td>0</td>\n",
       "      <td>0</td>\n",
       "      <td>0</td>\n",
       "      <td>...</td>\n",
       "      <td>0</td>\n",
       "      <td>0</td>\n",
       "      <td>0</td>\n",
       "      <td>0</td>\n",
       "      <td>1</td>\n",
       "      <td>0</td>\n",
       "      <td>0</td>\n",
       "      <td>0</td>\n",
       "      <td>1</td>\n",
       "      <td>1</td>\n",
       "    </tr>\n",
       "    <tr>\n",
       "      <th>3</th>\n",
       "      <td>0</td>\n",
       "      <td>0</td>\n",
       "      <td>0</td>\n",
       "      <td>0</td>\n",
       "      <td>1</td>\n",
       "      <td>0</td>\n",
       "      <td>0</td>\n",
       "      <td>0</td>\n",
       "      <td>0</td>\n",
       "      <td>1</td>\n",
       "      <td>...</td>\n",
       "      <td>0</td>\n",
       "      <td>1</td>\n",
       "      <td>1</td>\n",
       "      <td>0</td>\n",
       "      <td>0</td>\n",
       "      <td>1</td>\n",
       "      <td>1</td>\n",
       "      <td>0</td>\n",
       "      <td>1</td>\n",
       "      <td>0</td>\n",
       "    </tr>\n",
       "    <tr>\n",
       "      <th>4</th>\n",
       "      <td>0</td>\n",
       "      <td>0</td>\n",
       "      <td>0</td>\n",
       "      <td>0</td>\n",
       "      <td>0</td>\n",
       "      <td>0</td>\n",
       "      <td>0</td>\n",
       "      <td>0</td>\n",
       "      <td>0</td>\n",
       "      <td>0</td>\n",
       "      <td>...</td>\n",
       "      <td>1</td>\n",
       "      <td>0</td>\n",
       "      <td>0</td>\n",
       "      <td>0</td>\n",
       "      <td>1</td>\n",
       "      <td>1</td>\n",
       "      <td>0</td>\n",
       "      <td>0</td>\n",
       "      <td>1</td>\n",
       "      <td>0</td>\n",
       "    </tr>\n",
       "    <tr>\n",
       "      <th>...</th>\n",
       "      <td>...</td>\n",
       "      <td>...</td>\n",
       "      <td>...</td>\n",
       "      <td>...</td>\n",
       "      <td>...</td>\n",
       "      <td>...</td>\n",
       "      <td>...</td>\n",
       "      <td>...</td>\n",
       "      <td>...</td>\n",
       "      <td>...</td>\n",
       "      <td>...</td>\n",
       "      <td>...</td>\n",
       "      <td>...</td>\n",
       "      <td>...</td>\n",
       "      <td>...</td>\n",
       "      <td>...</td>\n",
       "      <td>...</td>\n",
       "      <td>...</td>\n",
       "      <td>...</td>\n",
       "      <td>...</td>\n",
       "      <td>...</td>\n",
       "    </tr>\n",
       "    <tr>\n",
       "      <th>1416</th>\n",
       "      <td>0</td>\n",
       "      <td>0</td>\n",
       "      <td>0</td>\n",
       "      <td>1</td>\n",
       "      <td>0</td>\n",
       "      <td>0</td>\n",
       "      <td>0</td>\n",
       "      <td>0</td>\n",
       "      <td>0</td>\n",
       "      <td>0</td>\n",
       "      <td>...</td>\n",
       "      <td>0</td>\n",
       "      <td>0</td>\n",
       "      <td>0</td>\n",
       "      <td>0</td>\n",
       "      <td>1</td>\n",
       "      <td>1</td>\n",
       "      <td>0</td>\n",
       "      <td>0</td>\n",
       "      <td>1</td>\n",
       "      <td>0</td>\n",
       "    </tr>\n",
       "    <tr>\n",
       "      <th>1417</th>\n",
       "      <td>0</td>\n",
       "      <td>1</td>\n",
       "      <td>0</td>\n",
       "      <td>0</td>\n",
       "      <td>0</td>\n",
       "      <td>0</td>\n",
       "      <td>0</td>\n",
       "      <td>0</td>\n",
       "      <td>0</td>\n",
       "      <td>0</td>\n",
       "      <td>...</td>\n",
       "      <td>1</td>\n",
       "      <td>0</td>\n",
       "      <td>0</td>\n",
       "      <td>0</td>\n",
       "      <td>1</td>\n",
       "      <td>1</td>\n",
       "      <td>1</td>\n",
       "      <td>0</td>\n",
       "      <td>1</td>\n",
       "      <td>0</td>\n",
       "    </tr>\n",
       "    <tr>\n",
       "      <th>1418</th>\n",
       "      <td>0</td>\n",
       "      <td>0</td>\n",
       "      <td>0</td>\n",
       "      <td>0</td>\n",
       "      <td>0</td>\n",
       "      <td>0</td>\n",
       "      <td>0</td>\n",
       "      <td>0</td>\n",
       "      <td>0</td>\n",
       "      <td>0</td>\n",
       "      <td>...</td>\n",
       "      <td>0</td>\n",
       "      <td>0</td>\n",
       "      <td>0</td>\n",
       "      <td>0</td>\n",
       "      <td>0</td>\n",
       "      <td>0</td>\n",
       "      <td>0</td>\n",
       "      <td>0</td>\n",
       "      <td>1</td>\n",
       "      <td>0</td>\n",
       "    </tr>\n",
       "    <tr>\n",
       "      <th>1419</th>\n",
       "      <td>0</td>\n",
       "      <td>0</td>\n",
       "      <td>0</td>\n",
       "      <td>0</td>\n",
       "      <td>0</td>\n",
       "      <td>0</td>\n",
       "      <td>0</td>\n",
       "      <td>0</td>\n",
       "      <td>0</td>\n",
       "      <td>0</td>\n",
       "      <td>...</td>\n",
       "      <td>0</td>\n",
       "      <td>0</td>\n",
       "      <td>0</td>\n",
       "      <td>0</td>\n",
       "      <td>1</td>\n",
       "      <td>0</td>\n",
       "      <td>0</td>\n",
       "      <td>0</td>\n",
       "      <td>1</td>\n",
       "      <td>0</td>\n",
       "    </tr>\n",
       "    <tr>\n",
       "      <th>1420</th>\n",
       "      <td>0</td>\n",
       "      <td>1</td>\n",
       "      <td>0</td>\n",
       "      <td>1</td>\n",
       "      <td>0</td>\n",
       "      <td>0</td>\n",
       "      <td>0</td>\n",
       "      <td>0</td>\n",
       "      <td>0</td>\n",
       "      <td>1</td>\n",
       "      <td>...</td>\n",
       "      <td>1</td>\n",
       "      <td>0</td>\n",
       "      <td>0</td>\n",
       "      <td>1</td>\n",
       "      <td>1</td>\n",
       "      <td>0</td>\n",
       "      <td>0</td>\n",
       "      <td>1</td>\n",
       "      <td>0</td>\n",
       "      <td>1</td>\n",
       "    </tr>\n",
       "  </tbody>\n",
       "</table>\n",
       "<p>1421 rows × 79 columns</p>\n",
       "</div>"
      ],
      "text/plain": [
       "      acrylates  adenosine  alcohol  alcohol denat  algae extract  allantoin  \\\n",
       "0             0          0        0              1              1          0   \n",
       "1             0          0        0              0              0          0   \n",
       "2             0          0        0              0              0          0   \n",
       "3             0          0        0              0              1          0   \n",
       "4             0          0        0              0              0          0   \n",
       "...         ...        ...      ...            ...            ...        ...   \n",
       "1416          0          0        0              1              0          0   \n",
       "1417          0          1        0              0              0          0   \n",
       "1418          0          0        0              0              0          0   \n",
       "1419          0          0        0              0              0          0   \n",
       "1420          0          1        0              1              0          0   \n",
       "\n",
       "      aloe barbadensis leaf juice  ammonium acryloyldimethyltaurate  betaine  \\\n",
       "0                               0                                 0        0   \n",
       "1                               0                                 0        0   \n",
       "2                               0                                 0        0   \n",
       "3                               0                                 0        0   \n",
       "4                               0                                 0        0   \n",
       "...                           ...                               ...      ...   \n",
       "1416                            0                                 0        0   \n",
       "1417                            0                                 0        0   \n",
       "1418                            0                                 0        0   \n",
       "1419                            0                                 0        0   \n",
       "1420                            0                                 0        0   \n",
       "\n",
       "      bht  ...  stearic acid  sucrose  tetrahexyldecyl ascorbate  \\\n",
       "0       0  ...             0        0                          0   \n",
       "1       0  ...             0        0                          0   \n",
       "2       0  ...             0        0                          0   \n",
       "3       1  ...             0        1                          1   \n",
       "4       0  ...             1        0                          0   \n",
       "...   ...  ...           ...      ...                        ...   \n",
       "1416    0  ...             0        0                          0   \n",
       "1417    0  ...             1        0                          0   \n",
       "1418    0  ...             0        0                          0   \n",
       "1419    0  ...             0        0                          0   \n",
       "1420    1  ...             1        0                          0   \n",
       "\n",
       "      titanium dioxide  tocopherol  tocopheryl acetate  trehalose  \\\n",
       "0                    0           0                   0          0   \n",
       "1                    0           0                   0          0   \n",
       "2                    0           1                   0          0   \n",
       "3                    0           0                   1          1   \n",
       "4                    0           1                   1          0   \n",
       "...                ...         ...                 ...        ...   \n",
       "1416                 0           1                   1          0   \n",
       "1417                 0           1                   1          1   \n",
       "1418                 0           0                   0          0   \n",
       "1419                 0           1                   0          0   \n",
       "1420                 1           1                   0          0   \n",
       "\n",
       "      tromethamine  water  xanthan gum  \n",
       "0                0      1            0  \n",
       "1                0      1            0  \n",
       "2                0      1            1  \n",
       "3                0      1            0  \n",
       "4                0      1            0  \n",
       "...            ...    ...          ...  \n",
       "1416             0      1            0  \n",
       "1417             0      1            0  \n",
       "1418             0      1            0  \n",
       "1419             0      1            0  \n",
       "1420             1      0            1  \n",
       "\n",
       "[1421 rows x 79 columns]"
      ]
     },
     "execution_count": 110,
     "metadata": {},
     "output_type": "execute_result"
    }
   ],
   "source": [
    "bow_df"
   ]
  },
  {
   "cell_type": "code",
   "execution_count": 114,
   "metadata": {},
   "outputs": [],
   "source": [
    "data = data.reset_index().drop('index', axis=1)"
   ]
  },
  {
   "cell_type": "code",
   "execution_count": 115,
   "metadata": {},
   "outputs": [],
   "source": [
    "#Concaténation du One Hot Encoding avec le df initial\n",
    "data_ML = pd.concat([data, bow_df], axis=1)"
   ]
  },
  {
   "cell_type": "code",
   "execution_count": 118,
   "metadata": {},
   "outputs": [
    {
     "data": {
      "text/plain": [
       "0"
      ]
     },
     "execution_count": 118,
     "metadata": {},
     "output_type": "execute_result"
    }
   ],
   "source": [
    "data.isnull().sum().sum()"
   ]
  },
  {
   "cell_type": "code",
   "execution_count": 119,
   "metadata": {},
   "outputs": [
    {
     "data": {
      "text/plain": [
       "0"
      ]
     },
     "execution_count": 119,
     "metadata": {},
     "output_type": "execute_result"
    }
   ],
   "source": [
    "data_ML.isnull().sum().sum()"
   ]
  },
  {
   "cell_type": "code",
   "execution_count": null,
   "metadata": {},
   "outputs": [],
   "source": [
    "#Notre dataset comprend désormais 1012 colonnes\n",
    "len(data_ML.columns)"
   ]
  },
  {
   "cell_type": "markdown",
   "metadata": {},
   "source": [
    "Let's save the data into a new file"
   ]
  },
  {
   "cell_type": "code",
   "execution_count": 120,
   "metadata": {},
   "outputs": [],
   "source": [
    "data_ML.to_csv('./Data/cosmetics_cleaned.csv', index=False)"
   ]
  },
  {
   "cell_type": "markdown",
   "metadata": {},
   "source": [
    "Merge"
   ]
  },
  {
   "cell_type": "code",
   "execution_count": 121,
   "metadata": {},
   "outputs": [],
   "source": [
    "data = pd.read_csv('./Data/cosmetics_cleaned.csv')"
   ]
  },
  {
   "cell_type": "code",
   "execution_count": 122,
   "metadata": {},
   "outputs": [
    {
     "name": "stdout",
     "output_type": "stream",
     "text": [
      "<class 'pandas.core.frame.DataFrame'>\n",
      "RangeIndex: 1421 entries, 0 to 1420\n",
      "Data columns (total 92 columns):\n",
      " #   Column                            Non-Null Count  Dtype  \n",
      "---  ------                            --------------  -----  \n",
      " 0   Label                             1421 non-null   object \n",
      " 1   Brand                             1421 non-null   object \n",
      " 2   Name                              1421 non-null   object \n",
      " 3   Price                             1421 non-null   int64  \n",
      " 4   Rank                              1421 non-null   float64\n",
      " 5   Ingredients                       1421 non-null   object \n",
      " 6   Combination                       1421 non-null   int64  \n",
      " 7   Dry                               1421 non-null   int64  \n",
      " 8   Normal                            1421 non-null   int64  \n",
      " 9   Oily                              1421 non-null   int64  \n",
      " 10  Sensitive                         1421 non-null   int64  \n",
      " 11  Harmful_Substances                1421 non-null   int64  \n",
      " 12  ing_processed                     1421 non-null   object \n",
      " 13  acrylates                         1421 non-null   int64  \n",
      " 14  adenosine                         1421 non-null   int64  \n",
      " 15  alcohol                           1421 non-null   int64  \n",
      " 16  alcohol denat                     1421 non-null   int64  \n",
      " 17  algae extract                     1421 non-null   int64  \n",
      " 18  allantoin                         1421 non-null   int64  \n",
      " 19  aloe barbadensis leaf juice       1421 non-null   int64  \n",
      " 20  ammonium acryloyldimethyltaurate  1421 non-null   int64  \n",
      " 21  betaine                           1421 non-null   int64  \n",
      " 22  bht                               1421 non-null   int64  \n",
      " 23  butylene glycol                   1421 non-null   int64  \n",
      " 24  caffeine                          1421 non-null   int64  \n",
      " 25  camellia sinensis leaf extract    1421 non-null   int64  \n",
      " 26  caprylic                          1421 non-null   int64  \n",
      " 27  caprylyl glycol                   1421 non-null   int64  \n",
      " 28  carbomer                          1421 non-null   int64  \n",
      " 29  cetearyl alcohol                  1421 non-null   int64  \n",
      " 30  cetyl alcohol                     1421 non-null   int64  \n",
      " 31  chlorphenesin                     1421 non-null   int64  \n",
      " 32  ci                                1421 non-null   int64  \n",
      " 33  citric acid                       1421 non-null   int64  \n",
      " 34  citronellol                       1421 non-null   int64  \n",
      " 35  cucumis sativus fruit extract     1421 non-null   int64  \n",
      " 36  cyclopentasiloxane                1421 non-null   int64  \n",
      " 37  dimethicone                       1421 non-null   int64  \n",
      " 38  dipotassium glycyrrhizate         1421 non-null   int64  \n",
      " 39  dipropylene glycol                1421 non-null   int64  \n",
      " 40  disodium edta                     1421 non-null   int64  \n",
      " 41  ethylhexylglycerin                1421 non-null   int64  \n",
      " 42  fragrance                         1421 non-null   int64  \n",
      " 43  geraniol                          1421 non-null   int64  \n",
      " 44  glycerin                          1421 non-null   int64  \n",
      " 45  glyceryl stearate                 1421 non-null   int64  \n",
      " 46  glycolic acid                     1421 non-null   int64  \n",
      " 47  glycyrrhiza glabra root extract   1421 non-null   int64  \n",
      " 48  helianthus annuus seed oil        1421 non-null   int64  \n",
      " 49  hexanediol                        1421 non-null   int64  \n",
      " 50  hexylene glycol                   1421 non-null   int64  \n",
      " 51  hydrogenated lecithin             1421 non-null   int64  \n",
      " 52  hydroxyethyl acrylate             1421 non-null   int64  \n",
      " 53  iron oxides                       1421 non-null   int64  \n",
      " 54  lactic acid                       1421 non-null   int64  \n",
      " 55  lecithin                          1421 non-null   int64  \n",
      " 56  limonene                          1421 non-null   int64  \n",
      " 57  linalool                          1421 non-null   int64  \n",
      " 58  mica                              1421 non-null   int64  \n",
      " 59  niacinamide                       1421 non-null   int64  \n",
      " 60  panthenol                         1421 non-null   int64  \n",
      " 61  parfum                            1421 non-null   int64  \n",
      " 62  peg                               1421 non-null   int64  \n",
      " 63  peg hydrogenated castor oil       1421 non-null   int64  \n",
      " 64  peg stearate                      1421 non-null   int64  \n",
      " 65  pentylene glycol                  1421 non-null   int64  \n",
      " 66  phenoxyethanol                    1421 non-null   int64  \n",
      " 67  polysilicone                      1421 non-null   int64  \n",
      " 68  polysorbate                       1421 non-null   int64  \n",
      " 69  potassium sorbate                 1421 non-null   int64  \n",
      " 70  propanediol                       1421 non-null   int64  \n",
      " 71  propylene glycol                  1421 non-null   int64  \n",
      " 72  silica                            1421 non-null   int64  \n",
      " 73  sodium benzoate                   1421 non-null   int64  \n",
      " 74  sodium chloride                   1421 non-null   int64  \n",
      " 75  sodium citrate                    1421 non-null   int64  \n",
      " 76  sodium hyaluronate                1421 non-null   int64  \n",
      " 77  sodium hydroxide                  1421 non-null   int64  \n",
      " 78  sodium pca                        1421 non-null   int64  \n",
      " 79  sorbitol                          1421 non-null   int64  \n",
      " 80  squalane                          1421 non-null   int64  \n",
      " 81  steareth                          1421 non-null   int64  \n",
      " 82  stearic acid                      1421 non-null   int64  \n",
      " 83  sucrose                           1421 non-null   int64  \n",
      " 84  tetrahexyldecyl ascorbate         1421 non-null   int64  \n",
      " 85  titanium dioxide                  1421 non-null   int64  \n",
      " 86  tocopherol                        1421 non-null   int64  \n",
      " 87  tocopheryl acetate                1421 non-null   int64  \n",
      " 88  trehalose                         1421 non-null   int64  \n",
      " 89  tromethamine                      1421 non-null   int64  \n",
      " 90  water                             1421 non-null   int64  \n",
      " 91  xanthan gum                       1421 non-null   int64  \n",
      "dtypes: float64(1), int64(86), object(5)\n",
      "memory usage: 1021.5+ KB\n"
     ]
    }
   ],
   "source": [
    "data.info()"
   ]
  },
  {
   "cell_type": "code",
   "execution_count": 123,
   "metadata": {},
   "outputs": [
    {
     "data": {
      "text/html": [
       "<div>\n",
       "<style scoped>\n",
       "    .dataframe tbody tr th:only-of-type {\n",
       "        vertical-align: middle;\n",
       "    }\n",
       "\n",
       "    .dataframe tbody tr th {\n",
       "        vertical-align: top;\n",
       "    }\n",
       "\n",
       "    .dataframe thead th {\n",
       "        text-align: right;\n",
       "    }\n",
       "</style>\n",
       "<table border=\"1\" class=\"dataframe\">\n",
       "  <thead>\n",
       "    <tr style=\"text-align: right;\">\n",
       "      <th></th>\n",
       "      <th>Label</th>\n",
       "      <th>Brand</th>\n",
       "      <th>Name</th>\n",
       "      <th>Price</th>\n",
       "      <th>Rank</th>\n",
       "      <th>Ingredients</th>\n",
       "      <th>Combination</th>\n",
       "      <th>Dry</th>\n",
       "      <th>Normal</th>\n",
       "      <th>Oily</th>\n",
       "      <th>...</th>\n",
       "      <th>stearic acid</th>\n",
       "      <th>sucrose</th>\n",
       "      <th>tetrahexyldecyl ascorbate</th>\n",
       "      <th>titanium dioxide</th>\n",
       "      <th>tocopherol</th>\n",
       "      <th>tocopheryl acetate</th>\n",
       "      <th>trehalose</th>\n",
       "      <th>tromethamine</th>\n",
       "      <th>water</th>\n",
       "      <th>xanthan gum</th>\n",
       "    </tr>\n",
       "  </thead>\n",
       "  <tbody>\n",
       "    <tr>\n",
       "      <th>0</th>\n",
       "      <td>Moisturizer</td>\n",
       "      <td>LA MER</td>\n",
       "      <td>Crème de la Mer</td>\n",
       "      <td>175</td>\n",
       "      <td>4.1</td>\n",
       "      <td>Algae (Seaweed) Extract, Mineral Oil, Petrolat...</td>\n",
       "      <td>1</td>\n",
       "      <td>1</td>\n",
       "      <td>1</td>\n",
       "      <td>1</td>\n",
       "      <td>...</td>\n",
       "      <td>0</td>\n",
       "      <td>0</td>\n",
       "      <td>0</td>\n",
       "      <td>0</td>\n",
       "      <td>0</td>\n",
       "      <td>0</td>\n",
       "      <td>0</td>\n",
       "      <td>0</td>\n",
       "      <td>1</td>\n",
       "      <td>0</td>\n",
       "    </tr>\n",
       "    <tr>\n",
       "      <th>1</th>\n",
       "      <td>Moisturizer</td>\n",
       "      <td>SK-II</td>\n",
       "      <td>Facial Treatment Essence</td>\n",
       "      <td>179</td>\n",
       "      <td>4.1</td>\n",
       "      <td>Galactomyces Ferment Filtrate (Pitera), Butyle...</td>\n",
       "      <td>1</td>\n",
       "      <td>1</td>\n",
       "      <td>1</td>\n",
       "      <td>1</td>\n",
       "      <td>...</td>\n",
       "      <td>0</td>\n",
       "      <td>0</td>\n",
       "      <td>0</td>\n",
       "      <td>0</td>\n",
       "      <td>0</td>\n",
       "      <td>0</td>\n",
       "      <td>0</td>\n",
       "      <td>0</td>\n",
       "      <td>1</td>\n",
       "      <td>0</td>\n",
       "    </tr>\n",
       "    <tr>\n",
       "      <th>2</th>\n",
       "      <td>Moisturizer</td>\n",
       "      <td>DRUNK ELEPHANT</td>\n",
       "      <td>Protini™ Polypeptide Cream</td>\n",
       "      <td>68</td>\n",
       "      <td>4.4</td>\n",
       "      <td>Water, Dicaprylyl Carbonate, Glycerin, Ceteary...</td>\n",
       "      <td>1</td>\n",
       "      <td>1</td>\n",
       "      <td>1</td>\n",
       "      <td>1</td>\n",
       "      <td>...</td>\n",
       "      <td>0</td>\n",
       "      <td>0</td>\n",
       "      <td>0</td>\n",
       "      <td>0</td>\n",
       "      <td>1</td>\n",
       "      <td>0</td>\n",
       "      <td>0</td>\n",
       "      <td>0</td>\n",
       "      <td>1</td>\n",
       "      <td>1</td>\n",
       "    </tr>\n",
       "    <tr>\n",
       "      <th>3</th>\n",
       "      <td>Moisturizer</td>\n",
       "      <td>LA MER</td>\n",
       "      <td>The Moisturizing Soft Cream</td>\n",
       "      <td>175</td>\n",
       "      <td>3.8</td>\n",
       "      <td>Algae (Seaweed) Extract, Cyclopentasiloxane, P...</td>\n",
       "      <td>1</td>\n",
       "      <td>1</td>\n",
       "      <td>1</td>\n",
       "      <td>1</td>\n",
       "      <td>...</td>\n",
       "      <td>0</td>\n",
       "      <td>1</td>\n",
       "      <td>1</td>\n",
       "      <td>0</td>\n",
       "      <td>0</td>\n",
       "      <td>1</td>\n",
       "      <td>1</td>\n",
       "      <td>0</td>\n",
       "      <td>1</td>\n",
       "      <td>0</td>\n",
       "    </tr>\n",
       "    <tr>\n",
       "      <th>4</th>\n",
       "      <td>Moisturizer</td>\n",
       "      <td>IT COSMETICS</td>\n",
       "      <td>Your Skin But Better™ CC+™ Cream with SPF 50+</td>\n",
       "      <td>38</td>\n",
       "      <td>4.1</td>\n",
       "      <td>Water, Snail Secretion Filtrate, Phenyl Trimet...</td>\n",
       "      <td>1</td>\n",
       "      <td>1</td>\n",
       "      <td>1</td>\n",
       "      <td>1</td>\n",
       "      <td>...</td>\n",
       "      <td>1</td>\n",
       "      <td>0</td>\n",
       "      <td>0</td>\n",
       "      <td>0</td>\n",
       "      <td>1</td>\n",
       "      <td>1</td>\n",
       "      <td>0</td>\n",
       "      <td>0</td>\n",
       "      <td>1</td>\n",
       "      <td>0</td>\n",
       "    </tr>\n",
       "  </tbody>\n",
       "</table>\n",
       "<p>5 rows × 92 columns</p>\n",
       "</div>"
      ],
      "text/plain": [
       "         Label           Brand                                           Name  \\\n",
       "0  Moisturizer          LA MER                                Crème de la Mer   \n",
       "1  Moisturizer           SK-II                       Facial Treatment Essence   \n",
       "2  Moisturizer  DRUNK ELEPHANT                     Protini™ Polypeptide Cream   \n",
       "3  Moisturizer          LA MER                    The Moisturizing Soft Cream   \n",
       "4  Moisturizer    IT COSMETICS  Your Skin But Better™ CC+™ Cream with SPF 50+   \n",
       "\n",
       "   Price  Rank                                        Ingredients  \\\n",
       "0    175   4.1  Algae (Seaweed) Extract, Mineral Oil, Petrolat...   \n",
       "1    179   4.1  Galactomyces Ferment Filtrate (Pitera), Butyle...   \n",
       "2     68   4.4  Water, Dicaprylyl Carbonate, Glycerin, Ceteary...   \n",
       "3    175   3.8  Algae (Seaweed) Extract, Cyclopentasiloxane, P...   \n",
       "4     38   4.1  Water, Snail Secretion Filtrate, Phenyl Trimet...   \n",
       "\n",
       "   Combination  Dry  Normal  Oily  ...  stearic acid  sucrose  \\\n",
       "0            1    1       1     1  ...             0        0   \n",
       "1            1    1       1     1  ...             0        0   \n",
       "2            1    1       1     1  ...             0        0   \n",
       "3            1    1       1     1  ...             0        1   \n",
       "4            1    1       1     1  ...             1        0   \n",
       "\n",
       "  tetrahexyldecyl ascorbate  titanium dioxide  tocopherol  tocopheryl acetate  \\\n",
       "0                         0                 0           0                   0   \n",
       "1                         0                 0           0                   0   \n",
       "2                         0                 0           1                   0   \n",
       "3                         1                 0           0                   1   \n",
       "4                         0                 0           1                   1   \n",
       "\n",
       "   trehalose  tromethamine  water  xanthan gum  \n",
       "0          0             0      1            0  \n",
       "1          0             0      1            0  \n",
       "2          0             0      1            1  \n",
       "3          1             0      1            0  \n",
       "4          0             0      1            0  \n",
       "\n",
       "[5 rows x 92 columns]"
      ]
     },
     "execution_count": 123,
     "metadata": {},
     "output_type": "execute_result"
    }
   ],
   "source": [
    "data.head()"
   ]
  },
  {
   "cell_type": "code",
   "execution_count": 124,
   "metadata": {},
   "outputs": [
    {
     "data": {
      "text/plain": [
       "Moisturizer    290\n",
       "Face Mask      262\n",
       "Cleanser       260\n",
       "Treatment      247\n",
       "Eye cream      199\n",
       "Sun protect    163\n",
       "Name: Label, dtype: int64"
      ]
     },
     "execution_count": 124,
     "metadata": {},
     "output_type": "execute_result"
    }
   ],
   "source": [
    "data.Label.value_counts()"
   ]
  },
  {
   "cell_type": "code",
   "execution_count": 125,
   "metadata": {},
   "outputs": [
    {
     "data": {
      "text/plain": [
       "Index(['Label', 'Brand', 'Name', 'Price', 'Rank', 'Ingredients', 'Combination',\n",
       "       'Dry', 'Normal', 'Oily', 'Sensitive', 'Harmful_Substances',\n",
       "       'ing_processed', 'acrylates', 'adenosine', 'alcohol', 'alcohol denat',\n",
       "       'algae extract', 'allantoin', 'aloe barbadensis leaf juice'],\n",
       "      dtype='object')"
      ]
     },
     "execution_count": 125,
     "metadata": {},
     "output_type": "execute_result"
    }
   ],
   "source": [
    "data.columns[:20]"
   ]
  },
  {
   "cell_type": "code",
   "execution_count": 126,
   "metadata": {},
   "outputs": [],
   "source": [
    "X = data.iloc[:,13:].values"
   ]
  },
  {
   "cell_type": "code",
   "execution_count": 127,
   "metadata": {},
   "outputs": [
    {
     "data": {
      "text/plain": [
       "array([[0, 0, 0, ..., 0, 1, 0],\n",
       "       [0, 0, 0, ..., 0, 1, 0],\n",
       "       [0, 0, 0, ..., 0, 1, 1],\n",
       "       ...,\n",
       "       [0, 0, 0, ..., 0, 1, 0],\n",
       "       [0, 0, 0, ..., 0, 1, 0],\n",
       "       [0, 1, 0, ..., 1, 0, 1]], dtype=int64)"
      ]
     },
     "execution_count": 127,
     "metadata": {},
     "output_type": "execute_result"
    }
   ],
   "source": [
    "X"
   ]
  },
  {
   "cell_type": "code",
   "execution_count": 129,
   "metadata": {},
   "outputs": [],
   "source": [
    "X = X.astype(float)"
   ]
  },
  {
   "cell_type": "code",
   "execution_count": 130,
   "metadata": {},
   "outputs": [],
   "source": [
    "from scipy.sparse.linalg import svds\n",
    "U, sigma, Vt = svds(X, k = 10)"
   ]
  },
  {
   "cell_type": "code",
   "execution_count": 132,
   "metadata": {},
   "outputs": [
    {
     "data": {
      "text/plain": [
       "(1421, 10)"
      ]
     },
     "execution_count": 132,
     "metadata": {},
     "output_type": "execute_result"
    }
   ],
   "source": [
    "U.shape"
   ]
  },
  {
   "cell_type": "code",
   "execution_count": 135,
   "metadata": {},
   "outputs": [
    {
     "data": {
      "text/plain": [
       "0                                         Crème de la Mer\n",
       "1                                Facial Treatment Essence\n",
       "2                              Protini™ Polypeptide Cream\n",
       "3                             The Moisturizing Soft Cream\n",
       "4           Your Skin But Better™ CC+™ Cream with SPF 50+\n",
       "                              ...                        \n",
       "1416    Yoghurt Nourishing Fluid Veil Face Sunscreen B...\n",
       "1417    Daily Deflector™ Waterlight Broad Spectrum SPF...\n",
       "1418                              Self Tan Dry Oil SPF 50\n",
       "1419                     Pro Light Self Tan Bronzing Mist\n",
       "1420    DERMAPROTECT Daily Defense Broad Spectrum SPF 50+\n",
       "Name: Name, Length: 1421, dtype: object"
      ]
     },
     "execution_count": 135,
     "metadata": {},
     "output_type": "execute_result"
    }
   ],
   "source": [
    "data['Name']"
   ]
  },
  {
   "cell_type": "code",
   "execution_count": 136,
   "metadata": {},
   "outputs": [
    {
     "data": {
      "text/plain": [
       "array([ 0.01466501, -0.01544355, -0.025304  , -0.00156107, -0.00526544,\n",
       "       -0.02678802, -0.00322233, -0.06774709,  0.04241079,  0.01770433])"
      ]
     },
     "execution_count": 136,
     "metadata": {},
     "output_type": "execute_result"
    }
   ],
   "source": [
    "U[0]"
   ]
  },
  {
   "cell_type": "code",
   "execution_count": 139,
   "metadata": {},
   "outputs": [],
   "source": [
    "from sklearn.metrics.pairwise import cosine_similarity"
   ]
  },
  {
   "cell_type": "code",
   "execution_count": 141,
   "metadata": {},
   "outputs": [
    {
     "data": {
      "text/plain": [
       "array([[1.]])"
      ]
     },
     "execution_count": 141,
     "metadata": {},
     "output_type": "execute_result"
    }
   ],
   "source": [
    "cosine_similarity([U[0]], [U[0]])"
   ]
  },
  {
   "cell_type": "code",
   "execution_count": 143,
   "metadata": {},
   "outputs": [],
   "source": [
    "sim = cosine_similarity([U[0]], U)"
   ]
  },
  {
   "cell_type": "code",
   "execution_count": 151,
   "metadata": {},
   "outputs": [
    {
     "name": "stdout",
     "output_type": "stream",
     "text": [
      "Crème de la Mer 1.0\n",
      "Little Miss Miracle Limited-Edition Crème de la Mer 1.0\n",
      "Crème de la Mer Mini 1.0\n",
      "Tonique Douceur Softening Hydrating Toner with Rose Water 0.92\n",
      "Vitamin Nectar Antioxidant Face Mist 0.89\n",
      "Clarifying Mask 0.89\n",
      "Resurfacing Mask 0.88\n",
      "Max Complexion Correction Pads 0.87\n",
      "Photo Finish Primer Water 0.87\n",
      "Bienfait Teinté Beauty Balm Sunscreen Broad Spectrum SPF 30 0.85\n"
     ]
    }
   ],
   "source": [
    "for idx in np.argsort(sim)[0][::-1][:10]:\n",
    "    print(data.iloc[idx]['Name'], np.trunc(sim[0][idx]*100)/100) "
   ]
  },
  {
   "cell_type": "code",
   "execution_count": null,
   "metadata": {},
   "outputs": [],
   "source": []
  }
 ],
 "metadata": {
  "kernelspec": {
   "display_name": "Python 3",
   "language": "python",
   "name": "python3"
  },
  "language_info": {
   "codemirror_mode": {
    "name": "ipython",
    "version": 3
   },
   "file_extension": ".py",
   "mimetype": "text/x-python",
   "name": "python",
   "nbconvert_exporter": "python",
   "pygments_lexer": "ipython3",
   "version": "3.8.5"
  }
 },
 "nbformat": 4,
 "nbformat_minor": 4
}
