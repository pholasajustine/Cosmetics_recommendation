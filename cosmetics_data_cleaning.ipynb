{
 "cells": [
  {
   "cell_type": "markdown",
   "metadata": {},
   "source": [
    "## 1. Introduction"
   ]
  },
  {
   "cell_type": "markdown",
   "metadata": {},
   "source": [
    "#### Libraries"
   ]
  },
  {
   "cell_type": "code",
   "execution_count": 1,
   "metadata": {},
   "outputs": [
    {
     "name": "stderr",
     "output_type": "stream",
     "text": [
      "[nltk_data] Downloading package punkt to\n",
      "[nltk_data]     C:\\Users\\phola\\AppData\\Roaming\\nltk_data...\n",
      "[nltk_data]   Package punkt is already up-to-date!\n",
      "[nltk_data] Downloading package wordnet to\n",
      "[nltk_data]     C:\\Users\\phola\\AppData\\Roaming\\nltk_data...\n",
      "[nltk_data]   Package wordnet is already up-to-date!\n"
     ]
    }
   ],
   "source": [
    "import numpy as np\n",
    "import pandas as pd\n",
    "import scipy.stats as st\n",
    "import statsmodels as sm\n",
    "import matplotlib\n",
    "import matplotlib.pyplot as plt\n",
    "import seaborn as sns\n",
    "import nltk\n",
    "nltk.download('punkt')\n",
    "from nltk.stem import PorterStemmer\n",
    "from nltk.stem import WordNetLemmatizer\n",
    "nltk.download('wordnet')\n",
    "from nltk.corpus import stopwords\n",
    "import re\n",
    "from nltk import word_tokenize"
   ]
  },
  {
   "cell_type": "markdown",
   "metadata": {},
   "source": [
    "#### Read the toxic_beauty_ingredients file"
   ]
  },
  {
   "cell_type": "code",
   "execution_count": 2,
   "metadata": {
    "scrolled": true
   },
   "outputs": [],
   "source": [
    "toxic_beauty_ingredients = pd.read_csv('./Data/toxic beauty ingredients.csv', sep=\";\", encoding='latin1')\n",
    "#The list of ingredients comes out as the name of the column, we will save it in a list\n",
    "toxic_ingredients_list = str(toxic_beauty_ingredients.columns[0]).split(\";\")"
   ]
  },
  {
   "cell_type": "markdown",
   "metadata": {},
   "source": [
    "Some strings begin with space, let's use rstrip() to remove them and put every string in lowercase."
   ]
  },
  {
   "cell_type": "code",
   "execution_count": 3,
   "metadata": {},
   "outputs": [],
   "source": [
    "toxic_ingredients_list = [string.rstrip().lower() for string in toxic_ingredients_list]"
   ]
  },
  {
   "cell_type": "markdown",
   "metadata": {},
   "source": [
    "The last string in the list is empty, we'll remove it."
   ]
  },
  {
   "cell_type": "code",
   "execution_count": 4,
   "metadata": {},
   "outputs": [],
   "source": [
    "toxic_ingredients_list.remove('')"
   ]
  },
  {
   "cell_type": "markdown",
   "metadata": {},
   "source": [
    "#### Read the cosmetic file containing our dataset"
   ]
  },
  {
   "cell_type": "code",
   "execution_count": 5,
   "metadata": {},
   "outputs": [],
   "source": [
    "data = pd.read_csv('./Data/cosmetics-final.csv', sep=\";\")"
   ]
  },
  {
   "cell_type": "markdown",
   "metadata": {},
   "source": [
    "#### Let's take a look at our dataframe "
   ]
  },
  {
   "cell_type": "code",
   "execution_count": 6,
   "metadata": {},
   "outputs": [
    {
     "data": {
      "text/html": [
       "<div>\n",
       "<style scoped>\n",
       "    .dataframe tbody tr th:only-of-type {\n",
       "        vertical-align: middle;\n",
       "    }\n",
       "\n",
       "    .dataframe tbody tr th {\n",
       "        vertical-align: top;\n",
       "    }\n",
       "\n",
       "    .dataframe thead th {\n",
       "        text-align: right;\n",
       "    }\n",
       "</style>\n",
       "<table border=\"1\" class=\"dataframe\">\n",
       "  <thead>\n",
       "    <tr style=\"text-align: right;\">\n",
       "      <th></th>\n",
       "      <th>Label</th>\n",
       "      <th>Brand</th>\n",
       "      <th>Name</th>\n",
       "      <th>Price</th>\n",
       "      <th>Rank</th>\n",
       "      <th>Ingredients</th>\n",
       "      <th>Combination</th>\n",
       "      <th>Dry</th>\n",
       "      <th>Normal</th>\n",
       "      <th>Oily</th>\n",
       "      <th>Sensitive</th>\n",
       "    </tr>\n",
       "  </thead>\n",
       "  <tbody>\n",
       "    <tr>\n",
       "      <th>0</th>\n",
       "      <td>Moisturizer</td>\n",
       "      <td>LA MER</td>\n",
       "      <td>Crème de la Mer</td>\n",
       "      <td>175</td>\n",
       "      <td>4.1</td>\n",
       "      <td>Algae (Seaweed) Extract, Mineral Oil, Petrolat...</td>\n",
       "      <td>1</td>\n",
       "      <td>1</td>\n",
       "      <td>1</td>\n",
       "      <td>1</td>\n",
       "      <td>1</td>\n",
       "    </tr>\n",
       "    <tr>\n",
       "      <th>1</th>\n",
       "      <td>Moisturizer</td>\n",
       "      <td>SK-II</td>\n",
       "      <td>Facial Treatment Essence</td>\n",
       "      <td>179</td>\n",
       "      <td>4.1</td>\n",
       "      <td>Galactomyces Ferment Filtrate (Pitera), Butyle...</td>\n",
       "      <td>1</td>\n",
       "      <td>1</td>\n",
       "      <td>1</td>\n",
       "      <td>1</td>\n",
       "      <td>1</td>\n",
       "    </tr>\n",
       "    <tr>\n",
       "      <th>2</th>\n",
       "      <td>Moisturizer</td>\n",
       "      <td>DRUNK ELEPHANT</td>\n",
       "      <td>Protini™ Polypeptide Cream</td>\n",
       "      <td>68</td>\n",
       "      <td>4.4</td>\n",
       "      <td>Water, Dicaprylyl Carbonate, Glycerin, Ceteary...</td>\n",
       "      <td>1</td>\n",
       "      <td>1</td>\n",
       "      <td>1</td>\n",
       "      <td>1</td>\n",
       "      <td>0</td>\n",
       "    </tr>\n",
       "    <tr>\n",
       "      <th>3</th>\n",
       "      <td>Moisturizer</td>\n",
       "      <td>LA MER</td>\n",
       "      <td>The Moisturizing Soft Cream</td>\n",
       "      <td>175</td>\n",
       "      <td>3.8</td>\n",
       "      <td>Algae (Seaweed) Extract, Cyclopentasiloxane, P...</td>\n",
       "      <td>1</td>\n",
       "      <td>1</td>\n",
       "      <td>1</td>\n",
       "      <td>1</td>\n",
       "      <td>1</td>\n",
       "    </tr>\n",
       "    <tr>\n",
       "      <th>4</th>\n",
       "      <td>Moisturizer</td>\n",
       "      <td>IT COSMETICS</td>\n",
       "      <td>Your Skin But Better™ CC+™ Cream with SPF 50+</td>\n",
       "      <td>38</td>\n",
       "      <td>4.1</td>\n",
       "      <td>Water, Snail Secretion Filtrate, Phenyl Trimet...</td>\n",
       "      <td>1</td>\n",
       "      <td>1</td>\n",
       "      <td>1</td>\n",
       "      <td>1</td>\n",
       "      <td>1</td>\n",
       "    </tr>\n",
       "  </tbody>\n",
       "</table>\n",
       "</div>"
      ],
      "text/plain": [
       "         Label           Brand                                           Name  \\\n",
       "0  Moisturizer          LA MER                                Crème de la Mer   \n",
       "1  Moisturizer           SK-II                       Facial Treatment Essence   \n",
       "2  Moisturizer  DRUNK ELEPHANT                     Protini™ Polypeptide Cream   \n",
       "3  Moisturizer          LA MER                    The Moisturizing Soft Cream   \n",
       "4  Moisturizer    IT COSMETICS  Your Skin But Better™ CC+™ Cream with SPF 50+   \n",
       "\n",
       "   Price  Rank                                        Ingredients  \\\n",
       "0    175   4.1  Algae (Seaweed) Extract, Mineral Oil, Petrolat...   \n",
       "1    179   4.1  Galactomyces Ferment Filtrate (Pitera), Butyle...   \n",
       "2     68   4.4  Water, Dicaprylyl Carbonate, Glycerin, Ceteary...   \n",
       "3    175   3.8  Algae (Seaweed) Extract, Cyclopentasiloxane, P...   \n",
       "4     38   4.1  Water, Snail Secretion Filtrate, Phenyl Trimet...   \n",
       "\n",
       "   Combination  Dry  Normal  Oily  Sensitive  \n",
       "0            1    1       1     1          1  \n",
       "1            1    1       1     1          1  \n",
       "2            1    1       1     1          0  \n",
       "3            1    1       1     1          1  \n",
       "4            1    1       1     1          1  "
      ]
     },
     "execution_count": 6,
     "metadata": {},
     "output_type": "execute_result"
    }
   ],
   "source": [
    "data.head()"
   ]
  },
  {
   "cell_type": "code",
   "execution_count": 7,
   "metadata": {},
   "outputs": [
    {
     "name": "stdout",
     "output_type": "stream",
     "text": [
      "<class 'pandas.core.frame.DataFrame'>\n",
      "RangeIndex: 1452 entries, 0 to 1451\n",
      "Data columns (total 11 columns):\n",
      " #   Column       Non-Null Count  Dtype  \n",
      "---  ------       --------------  -----  \n",
      " 0   Label        1452 non-null   object \n",
      " 1   Brand        1452 non-null   object \n",
      " 2   Name         1452 non-null   object \n",
      " 3   Price        1452 non-null   int64  \n",
      " 4   Rank         1452 non-null   float64\n",
      " 5   Ingredients  1452 non-null   object \n",
      " 6   Combination  1452 non-null   int64  \n",
      " 7   Dry          1452 non-null   int64  \n",
      " 8   Normal       1452 non-null   int64  \n",
      " 9   Oily         1452 non-null   int64  \n",
      " 10  Sensitive    1452 non-null   int64  \n",
      "dtypes: float64(1), int64(6), object(4)\n",
      "memory usage: 124.9+ KB\n"
     ]
    }
   ],
   "source": [
    "data.info()"
   ]
  },
  {
   "cell_type": "markdown",
   "metadata": {},
   "source": [
    "## 2. Combining the toxic_ingredients_list into the dataset"
   ]
  },
  {
   "cell_type": "markdown",
   "metadata": {},
   "source": [
    "#### Let's combine the toxic_ingredients_list with the dataframe "
   ]
  },
  {
   "cell_type": "code",
   "execution_count": 8,
   "metadata": {},
   "outputs": [],
   "source": [
    "#We're going to define a function which will return the number of harmful substences.\n",
    "def toxic(ingredients):\n",
    "    #creating a list with the ingredients of the product\n",
    "    ingredients_list = str(ingredients).split(\", \")\n",
    "    #converting them to lowercases \n",
    "    ingredients_list = [string.lower() for string in ingredients_list]\n",
    "    #iniating the number of harmful substances to be counted\n",
    "    harmful_substances = 0\n",
    "    #creating a list with the harmful substances (which we won't return, but can be if we need it in the future)\n",
    "    list_harm=[]\n",
    "    for ingredient in ingredients_list:\n",
    "        #All susbtances with 'PEG-' are harmful\n",
    "        if 'peg-' in ingredient:\n",
    "            harmful_substances += 1\n",
    "            list_harm.append(ingredient)\n",
    "        elif 'peg/' in ingredient:\n",
    "            harmful_substances += 1\n",
    "            list_harm.append(ingredient)\n",
    "        elif ingredient in toxic_ingredients_list:\n",
    "            harmful_substances += 1\n",
    "            list_harm.append(ingredient)\n",
    "    return harmful_substances"
   ]
  },
  {
   "cell_type": "code",
   "execution_count": 9,
   "metadata": {},
   "outputs": [],
   "source": [
    "#Creating the column with the number of harmful susbtences per product\n",
    "data['Harmful_Substances'] = data.Ingredients.apply(toxic)"
   ]
  },
  {
   "cell_type": "code",
   "execution_count": 10,
   "metadata": {},
   "outputs": [
    {
     "name": "stdout",
     "output_type": "stream",
     "text": [
      "<class 'pandas.core.frame.DataFrame'>\n",
      "RangeIndex: 1452 entries, 0 to 1451\n",
      "Data columns (total 12 columns):\n",
      " #   Column              Non-Null Count  Dtype  \n",
      "---  ------              --------------  -----  \n",
      " 0   Label               1452 non-null   object \n",
      " 1   Brand               1452 non-null   object \n",
      " 2   Name                1452 non-null   object \n",
      " 3   Price               1452 non-null   int64  \n",
      " 4   Rank                1452 non-null   float64\n",
      " 5   Ingredients         1452 non-null   object \n",
      " 6   Combination         1452 non-null   int64  \n",
      " 7   Dry                 1452 non-null   int64  \n",
      " 8   Normal              1452 non-null   int64  \n",
      " 9   Oily                1452 non-null   int64  \n",
      " 10  Sensitive           1452 non-null   int64  \n",
      " 11  Harmful_Substances  1452 non-null   int64  \n",
      "dtypes: float64(1), int64(7), object(4)\n",
      "memory usage: 136.2+ KB\n"
     ]
    }
   ],
   "source": [
    "data.info()"
   ]
  },
  {
   "cell_type": "code",
   "execution_count": 11,
   "metadata": {},
   "outputs": [
    {
     "data": {
      "text/html": [
       "<div>\n",
       "<style scoped>\n",
       "    .dataframe tbody tr th:only-of-type {\n",
       "        vertical-align: middle;\n",
       "    }\n",
       "\n",
       "    .dataframe tbody tr th {\n",
       "        vertical-align: top;\n",
       "    }\n",
       "\n",
       "    .dataframe thead th {\n",
       "        text-align: right;\n",
       "    }\n",
       "</style>\n",
       "<table border=\"1\" class=\"dataframe\">\n",
       "  <thead>\n",
       "    <tr style=\"text-align: right;\">\n",
       "      <th></th>\n",
       "      <th>Label</th>\n",
       "      <th>Brand</th>\n",
       "      <th>Name</th>\n",
       "      <th>Price</th>\n",
       "      <th>Rank</th>\n",
       "      <th>Ingredients</th>\n",
       "      <th>Combination</th>\n",
       "      <th>Dry</th>\n",
       "      <th>Normal</th>\n",
       "      <th>Oily</th>\n",
       "      <th>Sensitive</th>\n",
       "      <th>Harmful_Substances</th>\n",
       "    </tr>\n",
       "  </thead>\n",
       "  <tbody>\n",
       "    <tr>\n",
       "      <th>7</th>\n",
       "      <td>Moisturizer</td>\n",
       "      <td>DRUNK ELEPHANT</td>\n",
       "      <td>Virgin Marula Luxury Facial Oil</td>\n",
       "      <td>72</td>\n",
       "      <td>4.4</td>\n",
       "      <td>100% Unrefined Sclerocraya Birrea (Marula) Ker...</td>\n",
       "      <td>1</td>\n",
       "      <td>1</td>\n",
       "      <td>1</td>\n",
       "      <td>1</td>\n",
       "      <td>0</td>\n",
       "      <td>0</td>\n",
       "    </tr>\n",
       "    <tr>\n",
       "      <th>11</th>\n",
       "      <td>Moisturizer</td>\n",
       "      <td>KIEHL'S SINCE 1851</td>\n",
       "      <td>Midnight Recovery Concentrate</td>\n",
       "      <td>47</td>\n",
       "      <td>4.4</td>\n",
       "      <td>Caprylic/Capric Triglyceride Dicaprylyl Carbon...</td>\n",
       "      <td>1</td>\n",
       "      <td>1</td>\n",
       "      <td>1</td>\n",
       "      <td>1</td>\n",
       "      <td>1</td>\n",
       "      <td>0</td>\n",
       "    </tr>\n",
       "    <tr>\n",
       "      <th>13</th>\n",
       "      <td>Moisturizer</td>\n",
       "      <td>SUNDAY RILEY</td>\n",
       "      <td>Luna Sleeping Night Oil</td>\n",
       "      <td>105</td>\n",
       "      <td>4.1</td>\n",
       "      <td>Persea Gratissima (Extra Virgin, Cold Pressed ...</td>\n",
       "      <td>1</td>\n",
       "      <td>1</td>\n",
       "      <td>1</td>\n",
       "      <td>1</td>\n",
       "      <td>1</td>\n",
       "      <td>0</td>\n",
       "    </tr>\n",
       "    <tr>\n",
       "      <th>14</th>\n",
       "      <td>Moisturizer</td>\n",
       "      <td>FARMACY</td>\n",
       "      <td>Honeymoon Glow AHA Resurfacing Night Serum wit...</td>\n",
       "      <td>58</td>\n",
       "      <td>4.6</td>\n",
       "      <td>Water, Lactic Acid, Propanediol, Jojoba Esters...</td>\n",
       "      <td>1</td>\n",
       "      <td>1</td>\n",
       "      <td>1</td>\n",
       "      <td>1</td>\n",
       "      <td>1</td>\n",
       "      <td>0</td>\n",
       "    </tr>\n",
       "    <tr>\n",
       "      <th>26</th>\n",
       "      <td>Moisturizer</td>\n",
       "      <td>DRUNK ELEPHANT</td>\n",
       "      <td>Virgin Marula Luxury Facial Oil Mini</td>\n",
       "      <td>40</td>\n",
       "      <td>4.5</td>\n",
       "      <td>100% Unrefined Sclerocraya Birrea (Marula) Ker...</td>\n",
       "      <td>1</td>\n",
       "      <td>1</td>\n",
       "      <td>1</td>\n",
       "      <td>1</td>\n",
       "      <td>0</td>\n",
       "      <td>0</td>\n",
       "    </tr>\n",
       "    <tr>\n",
       "      <th>...</th>\n",
       "      <td>...</td>\n",
       "      <td>...</td>\n",
       "      <td>...</td>\n",
       "      <td>...</td>\n",
       "      <td>...</td>\n",
       "      <td>...</td>\n",
       "      <td>...</td>\n",
       "      <td>...</td>\n",
       "      <td>...</td>\n",
       "      <td>...</td>\n",
       "      <td>...</td>\n",
       "      <td>...</td>\n",
       "    </tr>\n",
       "    <tr>\n",
       "      <th>1438</th>\n",
       "      <td>Sun protect</td>\n",
       "      <td>COOLA</td>\n",
       "      <td>Sport Continuous Spray SPF 30 - Unscented</td>\n",
       "      <td>32</td>\n",
       "      <td>5.0</td>\n",
       "      <td>Alcohol (Organic), Algae Extract (Organic), Al...</td>\n",
       "      <td>1</td>\n",
       "      <td>1</td>\n",
       "      <td>1</td>\n",
       "      <td>1</td>\n",
       "      <td>1</td>\n",
       "      <td>0</td>\n",
       "    </tr>\n",
       "    <tr>\n",
       "      <th>1440</th>\n",
       "      <td>Sun protect</td>\n",
       "      <td>SUPERGOOP!</td>\n",
       "      <td>Perfect Day 2-in-1 Everywear Lotion Broad Spec...</td>\n",
       "      <td>19</td>\n",
       "      <td>4.8</td>\n",
       "      <td>-Homosalate 10%, Octinoxate 7.5%, Octisalate 5...</td>\n",
       "      <td>1</td>\n",
       "      <td>1</td>\n",
       "      <td>1</td>\n",
       "      <td>1</td>\n",
       "      <td>0</td>\n",
       "      <td>0</td>\n",
       "    </tr>\n",
       "    <tr>\n",
       "      <th>1442</th>\n",
       "      <td>Sun protect</td>\n",
       "      <td>COOLA</td>\n",
       "      <td>Summer Duo</td>\n",
       "      <td>36</td>\n",
       "      <td>4.8</td>\n",
       "      <td>Avobenzone 2.8%, Octisalate 4.9%, Octocrylene ...</td>\n",
       "      <td>0</td>\n",
       "      <td>0</td>\n",
       "      <td>0</td>\n",
       "      <td>0</td>\n",
       "      <td>0</td>\n",
       "      <td>0</td>\n",
       "    </tr>\n",
       "    <tr>\n",
       "      <th>1445</th>\n",
       "      <td>Sun protect</td>\n",
       "      <td>URBAN DECAY</td>\n",
       "      <td>Naked Skin Bronzing Beauty Balm Broad Spectrum...</td>\n",
       "      <td>34</td>\n",
       "      <td>4.1</td>\n",
       "      <td>-Pepha® (derived from watermelon extract): Pro...</td>\n",
       "      <td>0</td>\n",
       "      <td>0</td>\n",
       "      <td>0</td>\n",
       "      <td>0</td>\n",
       "      <td>0</td>\n",
       "      <td>0</td>\n",
       "    </tr>\n",
       "    <tr>\n",
       "      <th>1449</th>\n",
       "      <td>Sun protect</td>\n",
       "      <td>VITA LIBERATA</td>\n",
       "      <td>Self Tan Dry Oil SPF 50</td>\n",
       "      <td>54</td>\n",
       "      <td>3.5</td>\n",
       "      <td>Water, Dihydroxyacetone, Glycerin, Sclerocarya...</td>\n",
       "      <td>0</td>\n",
       "      <td>0</td>\n",
       "      <td>0</td>\n",
       "      <td>0</td>\n",
       "      <td>0</td>\n",
       "      <td>0</td>\n",
       "    </tr>\n",
       "  </tbody>\n",
       "</table>\n",
       "<p>257 rows × 12 columns</p>\n",
       "</div>"
      ],
      "text/plain": [
       "            Label               Brand  \\\n",
       "7     Moisturizer      DRUNK ELEPHANT   \n",
       "11    Moisturizer  KIEHL'S SINCE 1851   \n",
       "13    Moisturizer        SUNDAY RILEY   \n",
       "14    Moisturizer             FARMACY   \n",
       "26    Moisturizer      DRUNK ELEPHANT   \n",
       "...           ...                 ...   \n",
       "1438  Sun protect               COOLA   \n",
       "1440  Sun protect          SUPERGOOP!   \n",
       "1442  Sun protect               COOLA   \n",
       "1445  Sun protect         URBAN DECAY   \n",
       "1449  Sun protect       VITA LIBERATA   \n",
       "\n",
       "                                                   Name  Price  Rank  \\\n",
       "7                       Virgin Marula Luxury Facial Oil     72   4.4   \n",
       "11                        Midnight Recovery Concentrate     47   4.4   \n",
       "13                              Luna Sleeping Night Oil    105   4.1   \n",
       "14    Honeymoon Glow AHA Resurfacing Night Serum wit...     58   4.6   \n",
       "26                 Virgin Marula Luxury Facial Oil Mini     40   4.5   \n",
       "...                                                 ...    ...   ...   \n",
       "1438          Sport Continuous Spray SPF 30 - Unscented     32   5.0   \n",
       "1440  Perfect Day 2-in-1 Everywear Lotion Broad Spec...     19   4.8   \n",
       "1442                                         Summer Duo     36   4.8   \n",
       "1445  Naked Skin Bronzing Beauty Balm Broad Spectrum...     34   4.1   \n",
       "1449                            Self Tan Dry Oil SPF 50     54   3.5   \n",
       "\n",
       "                                            Ingredients  Combination  Dry  \\\n",
       "7     100% Unrefined Sclerocraya Birrea (Marula) Ker...            1    1   \n",
       "11    Caprylic/Capric Triglyceride Dicaprylyl Carbon...            1    1   \n",
       "13    Persea Gratissima (Extra Virgin, Cold Pressed ...            1    1   \n",
       "14    Water, Lactic Acid, Propanediol, Jojoba Esters...            1    1   \n",
       "26    100% Unrefined Sclerocraya Birrea (Marula) Ker...            1    1   \n",
       "...                                                 ...          ...  ...   \n",
       "1438  Alcohol (Organic), Algae Extract (Organic), Al...            1    1   \n",
       "1440  -Homosalate 10%, Octinoxate 7.5%, Octisalate 5...            1    1   \n",
       "1442  Avobenzone 2.8%, Octisalate 4.9%, Octocrylene ...            0    0   \n",
       "1445  -Pepha® (derived from watermelon extract): Pro...            0    0   \n",
       "1449  Water, Dihydroxyacetone, Glycerin, Sclerocarya...            0    0   \n",
       "\n",
       "      Normal  Oily  Sensitive  Harmful_Substances  \n",
       "7          1     1          0                   0  \n",
       "11         1     1          1                   0  \n",
       "13         1     1          1                   0  \n",
       "14         1     1          1                   0  \n",
       "26         1     1          0                   0  \n",
       "...      ...   ...        ...                 ...  \n",
       "1438       1     1          1                   0  \n",
       "1440       1     1          0                   0  \n",
       "1442       0     0          0                   0  \n",
       "1445       0     0          0                   0  \n",
       "1449       0     0          0                   0  \n",
       "\n",
       "[257 rows x 12 columns]"
      ]
     },
     "execution_count": 11,
     "metadata": {},
     "output_type": "execute_result"
    }
   ],
   "source": [
    "data[data.Harmful_Substances == 0]"
   ]
  },
  {
   "cell_type": "markdown",
   "metadata": {},
   "source": [
    "We are left with 257 \"safe\" products."
   ]
  },
  {
   "cell_type": "markdown",
   "metadata": {},
   "source": [
    "## 3. Data cleaning"
   ]
  },
  {
   "cell_type": "markdown",
   "metadata": {},
   "source": [
    "#### Cleaning the categorial values"
   ]
  },
  {
   "cell_type": "markdown",
   "metadata": {},
   "source": [
    "Let's take a look at the frequency of each ingredients"
   ]
  },
  {
   "cell_type": "code",
   "execution_count": 12,
   "metadata": {},
   "outputs": [
    {
     "data": {
      "text/plain": [
       "No Info                                                                                                                                                                                                                                                                                                                                                                                                                                                                                                                                                                                                                                                                                                                                                                                                                                                                                                                                                                                                                                                                                                                                                                                                                                                           23\n",
       "No info                                                                                                                                                                                                                                                                                                                                                                                                                                                                                                                                                                                                                                                                                                                                                                                                                                                                                                                                                                                                                                                                                                                                                                                                                                                            8\n",
       "*Ingredients from organic farming. **Clinical grade essential oils blend.                                                                                                                                                                                                                                                                                                                                                                                                                                                                                                                                                                                                                                                                                                                                                                                                                                                                                                                                                                                                                                                                                                                                                                                          5\n",
       "Light                                                                                                                                                                                                                                                                                                                                                                                                                                                                                                                                                                                                                                                                                                                                                                                                                                                                                                                                                                                                                                                                                                                                                                                                                                                              3\n",
       "Algae (Seaweed) Extract, Mineral Oil, Petrolatum, Glycerin, Isohexadecane, Microcrystalline Wax, Lanolin Alcohol, Citrus Aurantifolia (Lime) Extract, Sesamum Indicum (Sesame) Seed Oil, Eucalyptus Globulus (Eucalyptus) Leaf Oil, Sesamum Indicum (Sesame) Seed Powder, Medicago Sativa (Alfalfa) Seed Powder, Helianthus Annuus (Sunflower) Seedcake, Prunus Amygdalus Dulcis (Sweet Almond) Seed Meal, Sodium Gluconate, Copper Gluconate, Calcium Gluconate, Magnesium Gluconate, Zinc Gluconate, Magnesium Sulfate, Paraffin, Tocopheryl Succinate, Niacin, Water, Beta-Carotene, Decyl Oleate, Aluminum Distearate, Octyldodecanol, Citric Acid, Cyanocobalamin, Magnesium Stearate, Panthenol, Limonene, Geraniol, Linalool, Hydroxycitronellal, Citronellol, Benzyl Salicylate, Citral, Sodium Benzoate, Alcohol Denat., Fragrance.                                                                                                                                                                                                                                                                                                                                                                                                                       3\n",
       "                                                                                                                                                                                                                                                                                                                                                                                                                                                                                                                                                                                                                                                                                                                                                                                                                                                                                                                                                                                                                                                                                                                                                                                                                                                                  ..\n",
       "Water, C12-15 Alkyl Benzoate, Glycerin, Tapioca Starch, Hydrogenated Vegetable Glycerides, Butyrospermum Parkii (Shea Butter), Caprylyl Methicone, Cetearly Alcohol, Dicaprylyl Carbonate, Helianthus Annus (Sunflower) Seed Oil, Diethylhexyl 2, 6-Naphthalate, Ethoxydiglycol, Phenyl Trimethicone, Sodium Polyacrylate, Butylene Glycol, Vitis Vinifera (Grape) Seed Oil, Jojoba Alcohol, Potassium Jojobate, Panthenol, Arginine, Allantoin, Bisabolol, Dioscorea Villosa (Wild Yam) Root Extract, Disodium EDTA, Octdecyl Di-t-butyl-4 Hydroxyhydrocinnamate, Persea Gratissima (Avocado) Oil, Tocopheryl Acetate, Benzoic Acid, Dehydroacetic Acid, Disodium Adenosine Triphosphate, Dipotassium Glycyrrhizate, Polymethylsilsequioxane, Selaginella Lepidophylla Extract, Trifolium Pratense (Clover) Flower Extract, Propylene Glycol, Betaine, Inositol, Taurine, Trehalose, Urea, Yeast Amnio Acids, Proline, Glycine, Sorbitol, Carica Papaya Fruit Extract, Algin, Sodium Hyaluronate, Hydrolyzed Soy Protein, Copper Tripeptide-1, Iris Florentina Root Extract, Phenoxyethanol, Fragrance, Limonene, Linalool.                                                                                                                                       1\n",
       "Water, Dipropylene Glycol, Glycerin, Dimethicone, Diphenylsiloxy Phenyl Trimethicone, Sd Alcohol 40-B (Alcohol Denat.), Peg-20, Trehalose, Pentaerythrityl Tetraethylhexanoate, Behenyl Alcohol, Silica, Isostearic Acid, Mica, Phytosteryl Macadamiate, Titanium Dioxide (Ci 77891), Stearyl Alcohol, Phenoxyethanol, Sodium Methyl Stearoyl Taurate, Lauryl Betaine, Methylparaben, Carbomer, Xylitol, Tocopheryl Acetate, Sodium Hyaluronate, Potassium Hydroxidw, Disodium Edta, Fragrance, Glycyl Glycine, 2-O-Ethyl Ascorbic Acid, Sodium Metaphosphate, Butylene Glycol, Limonene, Sodium Metabisulfite, Dipotassium Glycyrrhizate, Oryzanol, Magnesium Ascorbyl Phosphate, Saccharomyces Ferment Lysate Filtrate, Alcohol, Hexyl Cinnamal, Benzyl Benzoate, Butylphenyl Methylpropional, Linalool, Sodium Acetylated Hyaluronate, Iron Oxides (Ci 77491), Alpha-Isomethyl Ionone, Crataegus Monogyna Flower Extract, Citronellol, Geraniol, Sodium Benzoate, Tocopherol, Camellia Sinensis Leaf Extract, Cinnamomum Cassia Bark Extract.                                                                                                                                                                                                                   1\n",
       "Water, Butylene Glycol, Carbomer, Curcuma Longa (Turmeric) Root Extract, Selaginella Lepidophylla Extract, Zingiber Officinale (Ginger) Root Extract, Ascorbyl Glucoside, Beta Vulgaris (Beet) Root Extract (Extrait de Racine de Betterave), Glycyrrhiza Glabra (Licorice) Root Extract, Chrysanthemum Parthenium (Feverfew) Extract, Camellia Sinensis Leaf Extract, Alteromonas Ferment Filtrate, Glycerin, Hydrolyzed Corn Starch, Allantoin, Sodium PCA, Zingiber Officinale (Ginger) Root Oil, Thymus Vulgaris (Thyme) Flower/Leaf Oil, Myrtus Communis Oil, Eugenia Caryophyllus (Clove) Bud Oil, Eucalyptus Globulus Leaf Oil, Elettaria Cardamomum Seed Oil, Eugenia Caryophyllus (Clove) Leaf Oil, Citrus Limon (Lemon) Peel Oil, Citrus Aurantifolia (Lime) Oil, Biosaccharide Gum-1, Lactic Acid, P-Anisic Acid, Phenoxyethanol, Disodium EDTA, Lactobacillus Ferment, Sorbitan Oleate Decylglucoside Crosspolymer, Citric Acid, Sodium Hydroxide, Potassium Hydroxide, Terpineol Acetate, Linalyl Acetate, Geranyl Acetate, CI 75120 (Annatto).                                                                                                                                                                                                       1\n",
       "Water, Glycerin, Cellulose, Butylene Glycol, Alcohol Denat., Dipropylene Glycol, Pentylene Glycol, Ceteareth-12, Citrus Limon (Lemon) Peel Oil, Juniperus Mexicana Oil, Citrus Aurantium Dulcis (Orange) Peel Oil, Citrus Grandis (Grapefruit) Peel Oil, Eucalyptus Globulus Leaf Oil, Lavandula Angustifolia (Lavender) Oil, Rosmarinus Officinalis (Rosemary) Leaf Oil, Aloe Barbadensis Leaf Polysaccharides, Phoenix Dactylifera (Date) Seed, 1,2-Hexanediol, Triethanolamine, Polysorbate 20, Caprylyl Glycol, Lactose, Hydroxypropyl Methylcellulose, Ethylhexylglycerin, Jojoba Esters, Hydrogenated Licithin, Mannitol, Ascorbyl Palmitate, Tocopheryl Acetate, Cholesterol, Peg-800, Bromelain, Papain, Ascorbic Acid, Sh-Oligopeptide-1, Sh-Polypeptide-1, Sh-Oligopeptide-2, Sh-Polypeptide-22, Sh-Polypeptide-45, Sh-Polypeptide-8, Sh-Polypeptide-9, Carbomer, Disodium Edta, Ultramarines (Ci 77007).                                                                                                                                                                                                                                                                                                                                                1\n",
       "Water, PVP, Propanediol, Behenyl Alcohol, Caprylic/Capric Triglyceride, Isoamyl Laurate, Mangifera Indica Seed Butter/Mango Seed Butter, Butyrospermum Parkii Butter/Shea Butter, Butyrospermum Parkii Oil/Shea Oil, Pullulan, Arachidyl Alcohol, Euphorbia Cerifera Cera/Candelilla Wax, Cetearyl Alcohol, Glycerin, Butylene Glycol, Coco-Glucoside, Paeonia Suffruticosa Root Extract, Scutellaria Baicalensis Root Extract, Prunus Amygdalus Dulcis Oil/Sweet Almond Oil, Hibiscus Esculentus Seed Extract, Sodium Polyacrylate, Acrylates/C10-30 Feel the instant firming effect of our indulgent velvety cream mask. Formulated with Hibiscus, whose flower is Alkyl Acrylate Crosspolymer, Arachidyl Glucoside, Ethylhexylglycerin, PEG-100 Stearate,Lavandula Angustifolia Oil/Lavender Oil, Corallina Officinalis Extract, Curcuma Longa Root Extract/Turmeric Root Extract, Elettaria Cardamomum Seed Oil, Salvia Sclarea Extract/Clary Extract, Moringa Oleifera Seed Oil, Ocimum Basilicum Flower/Leaf Extract - Basil Flower/Leaf Extract, Dipteryx Odorata Seed Extract, Cistus Ladaniferus Leaf/Stem Extract, Coumarin, Ocimum Sanctum Leaf Extract, Citral, Rosa Damascena Extract, Vanilla Planifolia Fruit Extract, Tocopherol, Citric Acid.     1\n",
       "Name: Ingredients, Length: 1381, dtype: int64"
      ]
     },
     "execution_count": 12,
     "metadata": {},
     "output_type": "execute_result"
    }
   ],
   "source": [
    "data.Ingredients.value_counts()"
   ]
  },
  {
   "cell_type": "markdown",
   "metadata": {},
   "source": [
    "We can see that some products don't have any ingredients (\"No info\"), and most of the ingredients are presented like a list of string separated by a comma"
   ]
  },
  {
   "cell_type": "markdown",
   "metadata": {},
   "source": [
    "#### Let's drop the product with \"No info\""
   ]
  },
  {
   "cell_type": "code",
   "execution_count": 13,
   "metadata": {},
   "outputs": [],
   "source": [
    "list_index_NoInfo = data[data.Ingredients == \"No Info\"].index"
   ]
  },
  {
   "cell_type": "code",
   "execution_count": 14,
   "metadata": {},
   "outputs": [],
   "source": [
    "list_index_Noinfo = data[data.Ingredients == \"No info\"].index"
   ]
  },
  {
   "cell_type": "code",
   "execution_count": 15,
   "metadata": {},
   "outputs": [],
   "source": [
    "# We are dropping the 31 rows with no ingredients\n",
    "data.drop(list_index_NoInfo, axis=0, inplace=True)\n",
    "data.drop(list_index_Noinfo, axis=0, inplace=True)"
   ]
  },
  {
   "cell_type": "code",
   "execution_count": 16,
   "metadata": {},
   "outputs": [
    {
     "name": "stdout",
     "output_type": "stream",
     "text": [
      "<class 'pandas.core.frame.DataFrame'>\n",
      "Int64Index: 1421 entries, 0 to 1451\n",
      "Data columns (total 12 columns):\n",
      " #   Column              Non-Null Count  Dtype  \n",
      "---  ------              --------------  -----  \n",
      " 0   Label               1421 non-null   object \n",
      " 1   Brand               1421 non-null   object \n",
      " 2   Name                1421 non-null   object \n",
      " 3   Price               1421 non-null   int64  \n",
      " 4   Rank                1421 non-null   float64\n",
      " 5   Ingredients         1421 non-null   object \n",
      " 6   Combination         1421 non-null   int64  \n",
      " 7   Dry                 1421 non-null   int64  \n",
      " 8   Normal              1421 non-null   int64  \n",
      " 9   Oily                1421 non-null   int64  \n",
      " 10  Sensitive           1421 non-null   int64  \n",
      " 11  Harmful_Substances  1421 non-null   int64  \n",
      "dtypes: float64(1), int64(7), object(4)\n",
      "memory usage: 144.3+ KB\n"
     ]
    }
   ],
   "source": [
    "data.info()"
   ]
  },
  {
   "cell_type": "markdown",
   "metadata": {},
   "source": [
    "#### Let's continue to clean the ingredients column before doing the bag of words"
   ]
  },
  {
   "cell_type": "code",
   "execution_count": 17,
   "metadata": {},
   "outputs": [],
   "source": [
    "def clean_up(s):\n",
    "    #putting everything in lowercase\n",
    "    s_lower = s.lower()\n",
    "    \n",
    "    #removing numbers (as we have to many ingredients, we decided to regroup them by removing the numbers)\n",
    "    s_without_nb = re.sub(\"[0-9]\",\"\", s_lower)\n",
    "    \n",
    "    #removing everything that is in between parenthesis\n",
    "    s_without_par = re.sub(r'\\([^)]*\\)', '', s_without_nb)\n",
    "    \n",
    "    #Removing the double (or more) spaces\n",
    "    s_only_one_space = \" \".join(s_without_par.split())\n",
    "    \n",
    "    #Keeping only the first part of the string containing \"/\" as after it's only another name of the chemical substance\n",
    "    s_first_part_before_slash = s_only_one_space.partition('/')[0]\n",
    "    \n",
    "    #Keeping only the first part of the string containing \"\" as after it's only precision about the ingredient\n",
    "    s_first_part_before_star = s_first_part_before_slash.partition('*')[0]\n",
    "    \n",
    "    #Keeping only the first part of the string containing \":\" as after it's only precision about the ingredient\n",
    "    s_first_part_before_colon = s_first_part_before_star.partition(':')[0]\n",
    "    \n",
    "    #Removing the \"%\" character\n",
    "    s_without_percent = s_first_part_before_colon.replace('%', '')\n",
    "    \n",
    "    #We want to add a comma after oil and extract\n",
    "    if \"oil\" in s_without_percent or \"extract\" in s_without_percent:\n",
    "        s_add_comma = s_without_percent + \",\"\n",
    "    else:\n",
    "        s_add_comma = s_without_percent\n",
    "    \n",
    "    #We want to delete the double commas\n",
    "    s_single_comma = s_add_comma.replace(',,', ',')\n",
    "    \n",
    "    #Removing the point\n",
    "    s_without_point = s_single_comma.replace('.', '')\n",
    "    \n",
    "    #Removing commas if they are at the beginning of the string or at the end\n",
    "    if s_without_point[:2] == ', ':\n",
    "        s_remove_first_comma = s_without_point[2:]\n",
    "    else:\n",
    "        s_remove_first_comma = s_without_point\n",
    "        \n",
    "    if s_remove_first_comma != '' and s_remove_first_comma[-1] == ',':\n",
    "        s_remove_last_comma = s_remove_first_comma[:-1]\n",
    "    else:\n",
    "        s_remove_last_comma = s_remove_first_comma           \n",
    " \n",
    "    return s_remove_last_comma"
   ]
  },
  {
   "cell_type": "code",
   "execution_count": 18,
   "metadata": {},
   "outputs": [],
   "source": [
    "data['ing_processed'] = data['Ingredients'].apply(clean_up)"
   ]
  },
  {
   "cell_type": "code",
   "execution_count": 19,
   "metadata": {},
   "outputs": [
    {
     "data": {
      "text/html": [
       "<div>\n",
       "<style scoped>\n",
       "    .dataframe tbody tr th:only-of-type {\n",
       "        vertical-align: middle;\n",
       "    }\n",
       "\n",
       "    .dataframe tbody tr th {\n",
       "        vertical-align: top;\n",
       "    }\n",
       "\n",
       "    .dataframe thead th {\n",
       "        text-align: right;\n",
       "    }\n",
       "</style>\n",
       "<table border=\"1\" class=\"dataframe\">\n",
       "  <thead>\n",
       "    <tr style=\"text-align: right;\">\n",
       "      <th></th>\n",
       "      <th>Label</th>\n",
       "      <th>Brand</th>\n",
       "      <th>Name</th>\n",
       "      <th>Price</th>\n",
       "      <th>Rank</th>\n",
       "      <th>Ingredients</th>\n",
       "      <th>Combination</th>\n",
       "      <th>Dry</th>\n",
       "      <th>Normal</th>\n",
       "      <th>Oily</th>\n",
       "      <th>Sensitive</th>\n",
       "      <th>Harmful_Substances</th>\n",
       "      <th>ing_processed</th>\n",
       "    </tr>\n",
       "  </thead>\n",
       "  <tbody>\n",
       "    <tr>\n",
       "      <th>0</th>\n",
       "      <td>Moisturizer</td>\n",
       "      <td>LA MER</td>\n",
       "      <td>Crème de la Mer</td>\n",
       "      <td>175</td>\n",
       "      <td>4.1</td>\n",
       "      <td>Algae (Seaweed) Extract, Mineral Oil, Petrolat...</td>\n",
       "      <td>1</td>\n",
       "      <td>1</td>\n",
       "      <td>1</td>\n",
       "      <td>1</td>\n",
       "      <td>1</td>\n",
       "      <td>10</td>\n",
       "      <td>algae extract, mineral oil, petrolatum, glycer...</td>\n",
       "    </tr>\n",
       "    <tr>\n",
       "      <th>1</th>\n",
       "      <td>Moisturizer</td>\n",
       "      <td>SK-II</td>\n",
       "      <td>Facial Treatment Essence</td>\n",
       "      <td>179</td>\n",
       "      <td>4.1</td>\n",
       "      <td>Galactomyces Ferment Filtrate (Pitera), Butyle...</td>\n",
       "      <td>1</td>\n",
       "      <td>1</td>\n",
       "      <td>1</td>\n",
       "      <td>1</td>\n",
       "      <td>1</td>\n",
       "      <td>1</td>\n",
       "      <td>galactomyces ferment filtrate , butylene glyco...</td>\n",
       "    </tr>\n",
       "    <tr>\n",
       "      <th>2</th>\n",
       "      <td>Moisturizer</td>\n",
       "      <td>DRUNK ELEPHANT</td>\n",
       "      <td>Protini™ Polypeptide Cream</td>\n",
       "      <td>68</td>\n",
       "      <td>4.4</td>\n",
       "      <td>Water, Dicaprylyl Carbonate, Glycerin, Ceteary...</td>\n",
       "      <td>1</td>\n",
       "      <td>1</td>\n",
       "      <td>1</td>\n",
       "      <td>1</td>\n",
       "      <td>0</td>\n",
       "      <td>1</td>\n",
       "      <td>water, dicaprylyl carbonate, glycerin, ceteary...</td>\n",
       "    </tr>\n",
       "    <tr>\n",
       "      <th>3</th>\n",
       "      <td>Moisturizer</td>\n",
       "      <td>LA MER</td>\n",
       "      <td>The Moisturizing Soft Cream</td>\n",
       "      <td>175</td>\n",
       "      <td>3.8</td>\n",
       "      <td>Algae (Seaweed) Extract, Cyclopentasiloxane, P...</td>\n",
       "      <td>1</td>\n",
       "      <td>1</td>\n",
       "      <td>1</td>\n",
       "      <td>1</td>\n",
       "      <td>1</td>\n",
       "      <td>12</td>\n",
       "      <td>algae extract, cyclopentasiloxane, petrolatum,...</td>\n",
       "    </tr>\n",
       "    <tr>\n",
       "      <th>4</th>\n",
       "      <td>Moisturizer</td>\n",
       "      <td>IT COSMETICS</td>\n",
       "      <td>Your Skin But Better™ CC+™ Cream with SPF 50+</td>\n",
       "      <td>38</td>\n",
       "      <td>4.1</td>\n",
       "      <td>Water, Snail Secretion Filtrate, Phenyl Trimet...</td>\n",
       "      <td>1</td>\n",
       "      <td>1</td>\n",
       "      <td>1</td>\n",
       "      <td>1</td>\n",
       "      <td>1</td>\n",
       "      <td>5</td>\n",
       "      <td>water, snail secretion filtrate, phenyl trimet...</td>\n",
       "    </tr>\n",
       "  </tbody>\n",
       "</table>\n",
       "</div>"
      ],
      "text/plain": [
       "         Label           Brand                                           Name  \\\n",
       "0  Moisturizer          LA MER                                Crème de la Mer   \n",
       "1  Moisturizer           SK-II                       Facial Treatment Essence   \n",
       "2  Moisturizer  DRUNK ELEPHANT                     Protini™ Polypeptide Cream   \n",
       "3  Moisturizer          LA MER                    The Moisturizing Soft Cream   \n",
       "4  Moisturizer    IT COSMETICS  Your Skin But Better™ CC+™ Cream with SPF 50+   \n",
       "\n",
       "   Price  Rank                                        Ingredients  \\\n",
       "0    175   4.1  Algae (Seaweed) Extract, Mineral Oil, Petrolat...   \n",
       "1    179   4.1  Galactomyces Ferment Filtrate (Pitera), Butyle...   \n",
       "2     68   4.4  Water, Dicaprylyl Carbonate, Glycerin, Ceteary...   \n",
       "3    175   3.8  Algae (Seaweed) Extract, Cyclopentasiloxane, P...   \n",
       "4     38   4.1  Water, Snail Secretion Filtrate, Phenyl Trimet...   \n",
       "\n",
       "   Combination  Dry  Normal  Oily  Sensitive  Harmful_Substances  \\\n",
       "0            1    1       1     1          1                  10   \n",
       "1            1    1       1     1          1                   1   \n",
       "2            1    1       1     1          0                   1   \n",
       "3            1    1       1     1          1                  12   \n",
       "4            1    1       1     1          1                   5   \n",
       "\n",
       "                                       ing_processed  \n",
       "0  algae extract, mineral oil, petrolatum, glycer...  \n",
       "1  galactomyces ferment filtrate , butylene glyco...  \n",
       "2  water, dicaprylyl carbonate, glycerin, ceteary...  \n",
       "3  algae extract, cyclopentasiloxane, petrolatum,...  \n",
       "4  water, snail secretion filtrate, phenyl trimet...  "
      ]
     },
     "execution_count": 19,
     "metadata": {},
     "output_type": "execute_result"
    }
   ],
   "source": [
    "data.head()"
   ]
  },
  {
   "cell_type": "markdown",
   "metadata": {},
   "source": [
    "#### Tokenise the ingredients"
   ]
  },
  {
   "cell_type": "code",
   "execution_count": 20,
   "metadata": {},
   "outputs": [],
   "source": [
    "#Let's define a function to create a list of ingredients which won't keep duplicates\n",
    "\n",
    "def ingredients_tokenizer(v):\n",
    "    return list(set([w.strip() for w in v.split(\",\")]))"
   ]
  },
  {
   "cell_type": "code",
   "execution_count": 21,
   "metadata": {},
   "outputs": [
    {
     "data": {
      "text/plain": [
       "'algae extract, mineral oil, petrolatum, glycerin, isohexadecane, microcrystalline wax, lanolin alcohol, citrus aurantifolia extract, sesamum indicum seed oil, eucalyptus globulus leaf oil, sesamum indicum seed powder, medicago sativa seed powder, helianthus annuus seedcake, prunus amygdalus dulcis seed meal, sodium gluconate, copper gluconate, calcium gluconate, magnesium gluconate, zinc gluconate, magnesium sulfate, paraffin, tocopheryl succinate, niacin, water, beta-carotene, decyl oleate, aluminum distearate, octyldodecanol, citric acid, cyanocobalamin, magnesium stearate, panthenol, limonene, geraniol, linalool, hydroxycitronellal, citronellol, benzyl salicylate, citral, sodium benzoate, alcohol denat, fragrance'"
      ]
     },
     "execution_count": 21,
     "metadata": {},
     "output_type": "execute_result"
    }
   ],
   "source": [
    "data['ing_processed'][0]"
   ]
  },
  {
   "cell_type": "code",
   "execution_count": 22,
   "metadata": {},
   "outputs": [],
   "source": [
    "#Creation of the column with tokenised ingredients\n",
    "\n",
    "data['ing_processed'] = data['ing_processed'].apply(ingredients_tokenizer)"
   ]
  },
  {
   "cell_type": "code",
   "execution_count": 23,
   "metadata": {},
   "outputs": [
    {
     "data": {
      "text/html": [
       "<div>\n",
       "<style scoped>\n",
       "    .dataframe tbody tr th:only-of-type {\n",
       "        vertical-align: middle;\n",
       "    }\n",
       "\n",
       "    .dataframe tbody tr th {\n",
       "        vertical-align: top;\n",
       "    }\n",
       "\n",
       "    .dataframe thead th {\n",
       "        text-align: right;\n",
       "    }\n",
       "</style>\n",
       "<table border=\"1\" class=\"dataframe\">\n",
       "  <thead>\n",
       "    <tr style=\"text-align: right;\">\n",
       "      <th></th>\n",
       "      <th>Label</th>\n",
       "      <th>Brand</th>\n",
       "      <th>Name</th>\n",
       "      <th>Price</th>\n",
       "      <th>Rank</th>\n",
       "      <th>Ingredients</th>\n",
       "      <th>Combination</th>\n",
       "      <th>Dry</th>\n",
       "      <th>Normal</th>\n",
       "      <th>Oily</th>\n",
       "      <th>Sensitive</th>\n",
       "      <th>Harmful_Substances</th>\n",
       "      <th>ing_processed</th>\n",
       "    </tr>\n",
       "  </thead>\n",
       "  <tbody>\n",
       "    <tr>\n",
       "      <th>0</th>\n",
       "      <td>Moisturizer</td>\n",
       "      <td>LA MER</td>\n",
       "      <td>Crème de la Mer</td>\n",
       "      <td>175</td>\n",
       "      <td>4.1</td>\n",
       "      <td>Algae (Seaweed) Extract, Mineral Oil, Petrolat...</td>\n",
       "      <td>1</td>\n",
       "      <td>1</td>\n",
       "      <td>1</td>\n",
       "      <td>1</td>\n",
       "      <td>1</td>\n",
       "      <td>10</td>\n",
       "      <td>[zinc gluconate, sodium gluconate, aluminum di...</td>\n",
       "    </tr>\n",
       "    <tr>\n",
       "      <th>1</th>\n",
       "      <td>Moisturizer</td>\n",
       "      <td>SK-II</td>\n",
       "      <td>Facial Treatment Essence</td>\n",
       "      <td>179</td>\n",
       "      <td>4.1</td>\n",
       "      <td>Galactomyces Ferment Filtrate (Pitera), Butyle...</td>\n",
       "      <td>1</td>\n",
       "      <td>1</td>\n",
       "      <td>1</td>\n",
       "      <td>1</td>\n",
       "      <td>1</td>\n",
       "      <td>1</td>\n",
       "      <td>[sorbic acid, butylene glycol, galactomyces fe...</td>\n",
       "    </tr>\n",
       "    <tr>\n",
       "      <th>2</th>\n",
       "      <td>Moisturizer</td>\n",
       "      <td>DRUNK ELEPHANT</td>\n",
       "      <td>Protini™ Polypeptide Cream</td>\n",
       "      <td>68</td>\n",
       "      <td>4.4</td>\n",
       "      <td>Water, Dicaprylyl Carbonate, Glycerin, Ceteary...</td>\n",
       "      <td>1</td>\n",
       "      <td>1</td>\n",
       "      <td>1</td>\n",
       "      <td>1</td>\n",
       "      <td>0</td>\n",
       "      <td>1</td>\n",
       "      <td>[glycerin, cetearyl olivate, sclerocarya birre...</td>\n",
       "    </tr>\n",
       "    <tr>\n",
       "      <th>3</th>\n",
       "      <td>Moisturizer</td>\n",
       "      <td>LA MER</td>\n",
       "      <td>The Moisturizing Soft Cream</td>\n",
       "      <td>175</td>\n",
       "      <td>3.8</td>\n",
       "      <td>Algae (Seaweed) Extract, Cyclopentasiloxane, P...</td>\n",
       "      <td>1</td>\n",
       "      <td>1</td>\n",
       "      <td>1</td>\n",
       "      <td>1</td>\n",
       "      <td>1</td>\n",
       "      <td>12</td>\n",
       "      <td>[cholesterol, polysilicone-, butyrospermum par...</td>\n",
       "    </tr>\n",
       "    <tr>\n",
       "      <th>4</th>\n",
       "      <td>Moisturizer</td>\n",
       "      <td>IT COSMETICS</td>\n",
       "      <td>Your Skin But Better™ CC+™ Cream with SPF 50+</td>\n",
       "      <td>38</td>\n",
       "      <td>4.1</td>\n",
       "      <td>Water, Snail Secretion Filtrate, Phenyl Trimet...</td>\n",
       "      <td>1</td>\n",
       "      <td>1</td>\n",
       "      <td>1</td>\n",
       "      <td>1</td>\n",
       "      <td>1</td>\n",
       "      <td>5</td>\n",
       "      <td>[butylene glycol, dimethicone, phenyl trimethi...</td>\n",
       "    </tr>\n",
       "  </tbody>\n",
       "</table>\n",
       "</div>"
      ],
      "text/plain": [
       "         Label           Brand                                           Name  \\\n",
       "0  Moisturizer          LA MER                                Crème de la Mer   \n",
       "1  Moisturizer           SK-II                       Facial Treatment Essence   \n",
       "2  Moisturizer  DRUNK ELEPHANT                     Protini™ Polypeptide Cream   \n",
       "3  Moisturizer          LA MER                    The Moisturizing Soft Cream   \n",
       "4  Moisturizer    IT COSMETICS  Your Skin But Better™ CC+™ Cream with SPF 50+   \n",
       "\n",
       "   Price  Rank                                        Ingredients  \\\n",
       "0    175   4.1  Algae (Seaweed) Extract, Mineral Oil, Petrolat...   \n",
       "1    179   4.1  Galactomyces Ferment Filtrate (Pitera), Butyle...   \n",
       "2     68   4.4  Water, Dicaprylyl Carbonate, Glycerin, Ceteary...   \n",
       "3    175   3.8  Algae (Seaweed) Extract, Cyclopentasiloxane, P...   \n",
       "4     38   4.1  Water, Snail Secretion Filtrate, Phenyl Trimet...   \n",
       "\n",
       "   Combination  Dry  Normal  Oily  Sensitive  Harmful_Substances  \\\n",
       "0            1    1       1     1          1                  10   \n",
       "1            1    1       1     1          1                   1   \n",
       "2            1    1       1     1          0                   1   \n",
       "3            1    1       1     1          1                  12   \n",
       "4            1    1       1     1          1                   5   \n",
       "\n",
       "                                       ing_processed  \n",
       "0  [zinc gluconate, sodium gluconate, aluminum di...  \n",
       "1  [sorbic acid, butylene glycol, galactomyces fe...  \n",
       "2  [glycerin, cetearyl olivate, sclerocarya birre...  \n",
       "3  [cholesterol, polysilicone-, butyrospermum par...  \n",
       "4  [butylene glycol, dimethicone, phenyl trimethi...  "
      ]
     },
     "execution_count": 23,
     "metadata": {},
     "output_type": "execute_result"
    }
   ],
   "source": [
    "data.head()"
   ]
  },
  {
   "cell_type": "markdown",
   "metadata": {},
   "source": [
    "## Let's save the data into a new file"
   ]
  },
  {
   "cell_type": "code",
   "execution_count": 41,
   "metadata": {},
   "outputs": [],
   "source": [
    "data = pd.read_csv('./Data/cosmetics_cleaned.csv')"
   ]
  }
 ],
 "metadata": {
  "kernelspec": {
   "display_name": "Python 3",
   "language": "python",
   "name": "python3"
  },
  "language_info": {
   "codemirror_mode": {
    "name": "ipython",
    "version": 3
   },
   "file_extension": ".py",
   "mimetype": "text/x-python",
   "name": "python",
   "nbconvert_exporter": "python",
   "pygments_lexer": "ipython3",
   "version": "3.8.3"
  }
 },
 "nbformat": 4,
 "nbformat_minor": 4
}
